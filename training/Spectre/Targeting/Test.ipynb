{
 "cells": [
  {
   "cell_type": "code",
   "execution_count": null,
   "id": "initial_id",
   "metadata": {
    "collapsed": true
   },
   "outputs": [],
   "source": [
    "import tensorflow\n",
    "\n",
    "import keras\n",
    "import keras_cv"
   ]
  },
  {
   "cell_type": "code",
   "outputs": [],
   "source": [
    "from os import environ"
   ],
   "metadata": {
    "collapsed": false
   },
   "id": "79cd688f46010b75",
   "execution_count": null
  },
  {
   "cell_type": "code",
   "outputs": [],
   "source": [
    "wandb_api_key: str = '2fc089ae788974434469d090de2a4ce894aa2843'\n",
    "environ['WANDB_API_KEY'] = wandb_api_key"
   ],
   "metadata": {
    "collapsed": false
   },
   "id": "558980be5ae5f7b4",
   "execution_count": null
  },
  {
   "cell_type": "code",
   "outputs": [],
   "source": [
    "labels_mapped: list = [\n",
    "    'critter',\n",
    "    'humanoid',\n",
    "    'vehicle',\n",
    "    'vital'\n",
    "]\n",
    "\n",
    "labels_mapped.sort()\n",
    "\n",
    "labels_mapped: dict = dict(\n",
    "    zip(\n",
    "        range(\n",
    "            len(labels_mapped)\n",
    "        ),\n",
    "        labels_mapped\n",
    "    )\n",
    ")"
   ],
   "metadata": {
    "collapsed": false
   },
   "id": "f4e2b198011d19f5",
   "execution_count": null
  },
  {
   "cell_type": "code",
   "outputs": [],
   "source": [
    "labels_mapped"
   ],
   "metadata": {
    "collapsed": false
   },
   "id": "a04e74db37016eaf",
   "execution_count": null
  },
  {
   "cell_type": "code",
   "outputs": [],
   "source": [
    "import wandb\n",
    "\n",
    "wandb.init(\n",
    "    project='Spectre', \n",
    "    entity='Designermadsen',\n",
    "    job_type='Testing',\n",
    "    group='Laptop'\n",
    ")"
   ],
   "metadata": {
    "collapsed": false
   },
   "id": "38182f302bd4d123",
   "execution_count": null
  },
  {
   "cell_type": "code",
   "outputs": [],
   "source": [
    "model_artifact = wandb.use_artifact(\n",
    "    'designermadsen/Spectre/keras:latest'\n",
    ")\n",
    "\n",
    "location_to_model = '/tmp/latest'\n",
    "\n",
    "model_artifact.download(\n",
    "    root='/tmp/latest'\n",
    ")"
   ],
   "metadata": {
    "collapsed": false
   },
   "id": "444cdd2d4b6bb6c1",
   "execution_count": null
  },
  {
   "cell_type": "code",
   "outputs": [],
   "source": [
    "from os.path import join"
   ],
   "metadata": {
    "collapsed": false
   },
   "id": "9fbb5b960f657a74",
   "execution_count": null
  },
  {
   "cell_type": "code",
   "outputs": [],
   "source": [
    "location_to_model = join(\n",
    "    location_to_model, \n",
    "    'model.final.keras'\n",
    ")"
   ],
   "metadata": {
    "collapsed": false
   },
   "id": "50ae8a6290c606ee",
   "execution_count": null
  },
  {
   "cell_type": "code",
   "outputs": [],
   "source": [
    "from keras.saving import load_model\n",
    "\n",
    "model = load_model(\n",
    "    location_to_model\n",
    ")"
   ],
   "metadata": {
    "collapsed": false
   },
   "id": "1da11aeae0ab076b",
   "execution_count": null
  },
  {
   "cell_type": "code",
   "outputs": [],
   "source": [
    "!wget 'https://upload.wikimedia.org/wikipedia/commons/1/19/Wood%2C_3_%28Resized%29.jpg' -O '/tmp/test.jpg'"
   ],
   "metadata": {
    "collapsed": false
   },
   "id": "2d7effbe249ac3f7",
   "execution_count": null
  },
  {
   "cell_type": "code",
   "outputs": [],
   "source": [
    "hd_width, hd_height = 1920, 1080"
   ],
   "metadata": {
    "collapsed": false
   },
   "id": "ac24014d090aeec4",
   "execution_count": null
  },
  {
   "cell_type": "code",
   "outputs": [],
   "source": [
    "from keras.utils import load_img, img_to_array\n",
    "from numpy import expand_dims"
   ],
   "metadata": {
    "collapsed": false
   },
   "id": "a2d0f3c3e8f70232",
   "execution_count": null
  },
  {
   "cell_type": "code",
   "outputs": [],
   "source": [
    "image = load_img(\n",
    "    '/tmp/test.jpg',\n",
    "    color_mode='rgb',\n",
    "    target_size=(\n",
    "        int(hd_height/2), \n",
    "        int(hd_width/2)\n",
    "    ),\n",
    "    keep_aspect_ratio=True\n",
    ")\n",
    "\n",
    "image = img_to_array(\n",
    "    image\n",
    ")\n",
    "\n",
    "image = expand_dims(\n",
    "    image, \n",
    "    0\n",
    ")\n",
    "\n",
    "result_of_model_prediction = model.predict(image)"
   ],
   "metadata": {
    "collapsed": false
   },
   "id": "108de761439dc4bf",
   "execution_count": null
  },
  {
   "cell_type": "code",
   "outputs": [],
   "source": [
    "from keras\n",
    "from keras_cv import visualization\n",
    "\n",
    "gallery = visualization.plot_bounding_box_gallery(\n",
    "    image,\n",
    "    value_range         = (0, 255),\n",
    "    bounding_box_format = 'xyxy',\n",
    "    y_pred              = result_of_model_prediction,\n",
    "    scale               = 6,\n",
    "    rows                = 1,\n",
    "    cols                = 1,\n",
    "    class_mapping       = labels_mapped,\n",
    "    show                = False\n",
    ")"
   ],
   "metadata": {
    "collapsed": false
   },
   "id": "1a5e48fc1ffbd325",
   "execution_count": null
  },
  {
   "cell_type": "code",
   "outputs": [],
   "source": [
    "model.summary()\n",
    "layers = model.layers"
   ],
   "metadata": {
    "collapsed": false
   },
   "id": "5a85b29f076d76df",
   "execution_count": null
  }
 ],
 "metadata": {
  "kernelspec": {
   "display_name": "Python 3",
   "language": "python",
   "name": "python3"
  },
  "language_info": {
   "codemirror_mode": {
    "name": "ipython",
    "version": 2
   },
   "file_extension": ".py",
   "mimetype": "text/x-python",
   "name": "python",
   "nbconvert_exporter": "python",
   "pygments_lexer": "ipython2",
   "version": "2.7.6"
  }
 },
 "nbformat": 4,
 "nbformat_minor": 5
}
