{
  "cells": [
    {
      "cell_type": "code",
      "execution_count": null,
      "metadata": {
        "id": "VzlKzwdLMEkO"
      },
      "outputs": [],
      "source": [
        "# @title Installation of required packages with pip. { run: \"auto\", display-mode: \"form\" }\n",
        "location_to_requirements: str = 'requirements.txt'\n",
        "download_requirements_from: str = 'https://gist.githubusercontent.com/KentVejrupMadsen/d0400cf3a07bbcf4f8abd9b2ea087d86/raw/c0dcbb239892e5844ca0edf3d5ab696e5a740742/requirements.txt'\n",
        "\n",
        "!wget {download_requirements_from} -O {location_to_requirements}\n",
        "\n",
        "%pip install -r {location_to_requirements}\n",
        "%pip install keras-cv keras keras-core tensorflow --upgrade -q"
      ]
    },
    {
      "cell_type": "code",
      "source": [
        "from os     \\\n",
        "  import    \\\n",
        "  listdir,  \\\n",
        "  mkdir,    \\\n",
        "  environ,  \\\n",
        "  remove\n",
        "\n",
        "from os.path  \\\n",
        "  import      \\\n",
        "  isdir,      \\\n",
        "  join,       \\\n",
        "  isfile"
      ],
      "metadata": {
        "id": "VeZ5bR7V9iPI"
      },
      "execution_count": null,
      "outputs": []
    },
    {
      "cell_type": "code",
      "source": [
        "from random \\\n",
        "  import SystemRandom"
      ],
      "metadata": {
        "id": "S97BbzCV-ATI"
      },
      "execution_count": null,
      "outputs": []
    },
    {
      "cell_type": "code",
      "source": [
        "from datetime \\\n",
        "  import      \\\n",
        "  date,       \\\n",
        "  datetime"
      ],
      "metadata": {
        "id": "fmqP7P2v9-44"
      },
      "execution_count": null,
      "outputs": []
    },
    {
      "cell_type": "code",
      "source": [
        "import xml.etree.ElementTree \\\n",
        "  as ET"
      ],
      "metadata": {
        "id": "846ftHsO98wz"
      },
      "execution_count": null,
      "outputs": []
    },
    {
      "cell_type": "code",
      "source": [
        "import logging\n",
        "\n",
        "from logging \\\n",
        "  import CRITICAL"
      ],
      "metadata": {
        "id": "Ku_PykJs96g7"
      },
      "execution_count": null,
      "outputs": []
    },
    {
      "cell_type": "code",
      "source": [
        "from tempfile \\\n",
        "  import gettempdir"
      ],
      "metadata": {
        "id": "Kll1DJNm939h"
      },
      "execution_count": null,
      "outputs": []
    },
    {
      "cell_type": "code",
      "source": [
        "is_dataset_saved: bool = False\n",
        "stop_when_done: bool = False # @param {type:\"boolean\"}\n",
        "\n",
        "model_name: str = 'mjoelner' # @param {type:\"string\"}\n",
        "wandb_label_model: str = 'model' # @param {type:\"string\"}\n",
        "\n",
        "save_cache_at_for_training: str = '/tmp/training.cache' # @param {type:\"string\"}\n",
        "save_cache_at_for_validation: str = '/tmp/validation.cache' # @param {type:\"string\"}\n",
        "save_cache_at_for_evaluation: str = '/tmp/evaluation.cache' # @param {type:\"string\"}\n",
        "\n",
        "location_for_tensorboard = '/tmp/tensorboard/' # @param {type:\"string\"}\n",
        "\n",
        "if not isdir(location_for_tensorboard):\n",
        "  mkdir(location_for_tensorboard)"
      ],
      "metadata": {
        "id": "EK6aCXZnGq9J"
      },
      "execution_count": null,
      "outputs": []
    },
    {
      "cell_type": "code",
      "execution_count": null,
      "metadata": {
        "id": "Rq7muAv2_8T0"
      },
      "outputs": [],
      "source": [
        "# @title Settings - Notebook Configuration { run: \"auto\", display-mode: \"form\" }\n",
        "notebook_name: str = 'Targeting System, YOLO, Mjoelner.ipynb' # @param {type:\"string\"}\n",
        "\n",
        "location_for_sample_data: str = '/content/sample_data' # @param {type:\"string\"}\n",
        "\n",
        "is_google_colab_platform: bool = True # @param {type:\"boolean\"}\n",
        "use_of_multiprocessing: bool = True # @param {type:\"boolean\"}\n",
        "delete_sample_data: bool = True # @param {type:\"boolean\"}\n",
        "shutdown_on_finish: bool = True # @param {type:\"boolean\"}\n",
        "\n",
        "tensorflow_verbosity: int = 1 # @param {type:\"number\"}\n",
        "\n",
        "\n",
        "\n"
      ]
    },
    {
      "cell_type": "code",
      "source": [
        "use_of_workers: int = 0 # @param {type:\"number\"}\n",
        "\n",
        "if (\n",
        "    (use_of_workers is None)\n",
        "    or\n",
        "    (use_of_workers == 0)\n",
        "):\n",
        "  from multiprocessing \\\n",
        "    import cpu_count\n",
        "  use_of_workers = cpu_count()"
      ],
      "metadata": {
        "id": "d3PZM6m8zThV"
      },
      "execution_count": null,
      "outputs": []
    },
    {
      "cell_type": "code",
      "source": [
        "image_channels: int = 3 # @param {type:\"number\"}\n",
        "\n",
        "def get_image_channels() -> int:\n",
        "  global image_channels\n",
        "  return image_channels\n",
        "\n",
        "def set_image_channels(\n",
        "  value: int\n",
        ") -> None:\n",
        "  global image_channels\n",
        "  image_channels = value"
      ],
      "metadata": {
        "id": "KF3z8g-M6bDr"
      },
      "execution_count": null,
      "outputs": []
    },
    {
      "cell_type": "code",
      "execution_count": null,
      "metadata": {
        "id": "tEqonwwm95r9"
      },
      "outputs": [],
      "source": [
        "# @title Settings - WanDB Configuration { run: \"auto\", display-mode: \"form\" }\n",
        "use_of_wandb: bool = True # @param {type:\"boolean\"}\n",
        "\n",
        "wandb_to_save_code: bool = False # @param {type:\"boolean\"}\n",
        "wandb_to_sync_tensorboard: bool = True # @param {type:\"boolean\"}\n",
        "\n",
        "wandb_project_name: str = 'Mjølner' # @param {type:\"string\"}\n",
        "wandb_entity_name: str = 'designermadsen' # @param {type:\"string\"}\n",
        "\n",
        "wandb_job_type: str = 'Training' # @param {type:\"string\"}\n",
        "wandb_allow_reinitialisation: bool = True # @param {type:\"boolean\"}\n",
        "\n",
        "finish_wandb_when_done: bool = True # @param {type:\"boolean\"}\n",
        "\n",
        "wandb_api_key: str = '2fc089ae788974434469d090de2a4ce894aa2843' # @param {type:\"string\"}\n",
        "\n",
        "wandb_project_tags: str = 'YOLOv8, TMOD, Targeting-System, Tensorflow, Keras, Keras-CV, Training, Evaluation, Experiment, NVIDIA, CUDA, Colab, V100' # @param {type:\"string\"}\n",
        "wandb_tags: list = wandb_project_tags.split(',')\n",
        "wandb_tags.sort()\n",
        "\n",
        "sorted_list: list = list()\n",
        "\n",
        "for idx in range(len(wandb_tags)):\n",
        "  result = wandb_tags[idx].replace(' ', '')\n",
        "\n",
        "  if not result == '':\n",
        "    sorted_list.append(result)\n",
        "\n",
        "wandb_tags = sorted_list.copy()\n",
        "\n",
        "del sorted_list\n",
        "print(wandb_tags)\n"
      ]
    },
    {
      "cell_type": "code",
      "execution_count": null,
      "metadata": {
        "id": "PWcoZ1A6BMMO"
      },
      "outputs": [],
      "source": [
        "# @title Settings - Hyper Parameters { run: \"auto\", display-mode: \"form\" }\n",
        "hp_initial_learning_rate: float = 1.0 # @param {type:\"raw\"}\n",
        "\n",
        "hp_decay_rate: float = 0.8624242424242429 # @param {type:\"raw\"}\n",
        "hp_decay_steps: int = 550 # @param {type:\"number\"}\n",
        "\n",
        "hp_epochs: int = 11 # @param {type:\"number\"}\n",
        "hp_batch_size: int = 10 # @param {type:\"number\"}\n",
        "\n",
        "hp_global_clip_at: float = 5.0 # @param {type:\"raw\"}"
      ]
    },
    {
      "cell_type": "code",
      "execution_count": null,
      "metadata": {
        "id": "Ud-_mQL3C7XC"
      },
      "outputs": [],
      "source": [
        "# @title Settings - DataSet{ run: \"auto\", display-mode: \"form\" }\n",
        "download_dataset_at: str = 'https://nextcloud.nathue.dk/s/gqqte49KC8cg9Dj/download/TMOD.zip' # @param {type:\"string\"}\n",
        "iterate_training: int = 1 # @param {type:\"number\"}\n",
        "dataset_split_at: float = 0.25 # @param {type:\"raw\"}\n",
        "\n",
        "use_resize: bool = True # @param {type:\"boolean\"}\n",
        "use_jitter_resize: bool = False # @param {type:\"boolean\"}\n",
        "\n",
        "use_random_flip: bool = True # @param {type:\"boolean\"}\n",
        "\n",
        "use_random_contrast: bool = False # @param {type:\"boolean\"}\n",
        "use_random_brightness: bool = False # @param {type:\"boolean\"}\n",
        "use_grayscale_augmentation: bool = False # @param {type:\"boolean\"}\n",
        "\n",
        "use_grid_mask: bool = False # @param {type:\"boolean\"}\n",
        "\n",
        "tune_value: int = 4 # @param {type:\"number\"}\n",
        "\n"
      ]
    },
    {
      "cell_type": "code",
      "source": [
        "def get_tune_value() -> int:\n",
        "  global tune_value\n",
        "  return tune_value"
      ],
      "metadata": {
        "id": "FhpMbUeRBP5w"
      },
      "execution_count": null,
      "outputs": []
    },
    {
      "cell_type": "code",
      "source": [
        "def get_save_cache_at_for_evaluation() -> str:\n",
        "  global save_cache_at_for_evaluation\n",
        "  return save_cache_at_for_evaluation"
      ],
      "metadata": {
        "id": "PnWIVq4CriOu"
      },
      "execution_count": null,
      "outputs": []
    },
    {
      "cell_type": "code",
      "source": [
        "def zero() -> int:\n",
        "  return 0"
      ],
      "metadata": {
        "id": "hXGaOABT6RTL"
      },
      "execution_count": null,
      "outputs": []
    },
    {
      "cell_type": "code",
      "execution_count": null,
      "outputs": [],
      "source": [
        "def one() -> int:\n",
        "  return 1"
      ],
      "metadata": {
        "id": "8mhQyiaLOrUq"
      }
    },
    {
      "cell_type": "code",
      "execution_count": null,
      "outputs": [],
      "source": [
        "def two() -> int:\n",
        "  return 2"
      ],
      "metadata": {
        "id": "-HHD1WV8OrUq"
      }
    },
    {
      "cell_type": "code",
      "execution_count": null,
      "outputs": [],
      "source": [
        "def three() -> int:\n",
        "  return 3"
      ],
      "metadata": {
        "id": "dPkR6cLfOrUr"
      }
    },
    {
      "cell_type": "code",
      "execution_count": null,
      "outputs": [],
      "source": [
        "def four() -> int:\n",
        "  return 4"
      ],
      "metadata": {
        "id": "2m0NWZA0OrUr"
      }
    },
    {
      "cell_type": "code",
      "execution_count": null,
      "outputs": [],
      "source": [
        "def five() -> int:\n",
        "  return 5"
      ],
      "metadata": {
        "id": "lREmby-7OrUr"
      }
    },
    {
      "cell_type": "code",
      "execution_count": null,
      "outputs": [],
      "source": [
        "def six() -> int:\n",
        "  return 6"
      ],
      "metadata": {
        "id": "VNnK-xYWOrUr"
      }
    },
    {
      "cell_type": "code",
      "execution_count": null,
      "outputs": [],
      "source": [
        "def seven() -> int:\n",
        "  return 7"
      ],
      "metadata": {
        "id": "Ca1oMirkOrUv"
      }
    },
    {
      "cell_type": "code",
      "execution_count": null,
      "outputs": [],
      "source": [
        "def eight() -> int:\n",
        "  return 8"
      ],
      "metadata": {
        "id": "3zbZFWHJOrUw"
      }
    },
    {
      "cell_type": "code",
      "execution_count": null,
      "outputs": [],
      "source": [
        "def nine() -> int:\n",
        "  return 9"
      ],
      "metadata": {
        "id": "DlE1iy_ROrUx"
      }
    },
    {
      "cell_type": "code",
      "source": [
        "def gpu_label() -> str:\n",
        "  return 'GPU'"
      ],
      "metadata": {
        "id": "NkwtZAuFroWO"
      },
      "execution_count": null,
      "outputs": []
    },
    {
      "cell_type": "code",
      "source": [
        "def max_limit_for_rgb_color() -> int:\n",
        "  return 255"
      ],
      "metadata": {
        "id": "78x3djD1ExoB"
      },
      "execution_count": null,
      "outputs": []
    },
    {
      "cell_type": "code",
      "source": [
        "def label_dataset_annotations() -> str:\n",
        "  return 'annotations'"
      ],
      "metadata": {
        "id": "egT5z_1K2_wH"
      },
      "execution_count": null,
      "outputs": []
    },
    {
      "cell_type": "code",
      "source": [
        "def label_dataset_images() -> str:\n",
        "  return 'images'"
      ],
      "metadata": {
        "id": "M4aeWZgahEYn"
      },
      "execution_count": null,
      "outputs": []
    },
    {
      "cell_type": "code",
      "source": [
        "def get_label_name() -> str:\n",
        "  label_name: str = 'name'\n",
        "  return label_name"
      ],
      "metadata": {
        "id": "RbsLy_QohDR-"
      },
      "execution_count": null,
      "outputs": []
    },
    {
      "cell_type": "code",
      "source": [
        "def get_label_object() -> str:\n",
        "  label_object: str = 'object'\n",
        "  return label_object"
      ],
      "metadata": {
        "id": "wMxhtYkyhBjO"
      },
      "execution_count": null,
      "outputs": []
    },
    {
      "cell_type": "code",
      "source": [
        "def get_label_bounding_box() -> str:\n",
        "  label_bounding_box: str = 'bndbox'\n",
        "  return label_bounding_box"
      ],
      "metadata": {
        "id": "oJbGrrWVg_8Q"
      },
      "execution_count": null,
      "outputs": []
    },
    {
      "cell_type": "code",
      "source": [
        "def get_label_x_minimum() -> str:\n",
        "  label_x_minimum: str = 'xmin'\n",
        "  return label_x_minimum"
      ],
      "metadata": {
        "id": "xdFaUzWJg-c1"
      },
      "execution_count": null,
      "outputs": []
    },
    {
      "cell_type": "code",
      "source": [
        "def get_label_y_minimum() -> str:\n",
        "  label_y_minimum: str = 'ymin'\n",
        "  return label_y_minimum"
      ],
      "metadata": {
        "id": "MlvPawb7g87r"
      },
      "execution_count": null,
      "outputs": []
    },
    {
      "cell_type": "code",
      "source": [
        "def get_label_x_maximum() -> str:\n",
        "  label_x_maximum: str = 'xmax'\n",
        "  return label_x_maximum"
      ],
      "metadata": {
        "id": "KiNl2vpeg7c7"
      },
      "execution_count": null,
      "outputs": []
    },
    {
      "cell_type": "code",
      "source": [
        "def get_label_y_maximum() -> str:\n",
        "  label_y_maximum: str = 'ymax'\n",
        "  return label_y_maximum"
      ],
      "metadata": {
        "id": "x5PNpWbwg5tn"
      },
      "execution_count": null,
      "outputs": []
    },
    {
      "cell_type": "code",
      "source": [
        "def is_equal_to_zero(\n",
        "    value: int | float\n",
        ") -> bool:\n",
        "  if isinstance(\n",
        "      value,\n",
        "      float\n",
        "  ):\n",
        "    return value == float(\n",
        "        zero()\n",
        "    )\n",
        "\n",
        "  return value == zero()"
      ],
      "metadata": {
        "id": "OtMLjUIH6UJ9"
      },
      "execution_count": null,
      "outputs": []
    },
    {
      "cell_type": "markdown",
      "metadata": {
        "id": "DHaVvf7OCz-w"
      },
      "source": [
        "# Setup"
      ]
    },
    {
      "cell_type": "code",
      "source": [
        "decay_steps_low_point: int = 10 # @param {type:\"number\"}\n",
        "decay_steps_high_point: int = 500 # @param {type:\"number\"}\n",
        "\n",
        "decay_rate_low_point: float = 0.2387111124 # @param {type:\"raw\"}\n",
        "decay_rate_high_point: float = 0.9940009441 # @param {type:\"raw\"}\n"
      ],
      "metadata": {
        "id": "zm54miteBAlh"
      },
      "execution_count": null,
      "outputs": []
    },
    {
      "cell_type": "code",
      "source": [
        "def generate_decay_steps() -> int:\n",
        "  global                    \\\n",
        "    decay_steps_low_point,  \\\n",
        "    decay_steps_high_point\n",
        "\n",
        "\n",
        "  low_point: int = decay_steps_low_point\n",
        "  high_point: int = decay_steps_high_point\n",
        "\n",
        "  return SystemRandom().randint(\n",
        "      low_point,\n",
        "      high_point\n",
        "  )"
      ],
      "metadata": {
        "id": "y3QoT9aV0hnb"
      },
      "execution_count": null,
      "outputs": []
    },
    {
      "cell_type": "code",
      "source": [
        "def generate_decay_rate() -> float:\n",
        "  global                  \\\n",
        "    decay_rate_low_point, \\\n",
        "    decay_rate_high_point\n",
        "\n",
        "  low_point: float  = decay_rate_low_point\n",
        "  high_point: float = decay_rate_high_point\n",
        "\n",
        "  return SystemRandom().uniform(\n",
        "      low_point,\n",
        "      high_point\n",
        "  )"
      ],
      "metadata": {
        "id": "YgOibfzf-Xn2"
      },
      "execution_count": null,
      "outputs": []
    },
    {
      "cell_type": "code",
      "execution_count": null,
      "metadata": {
        "id": "KoKbvrkYMHO_"
      },
      "outputs": [],
      "source": [
        "# @title Settings - YOLOv8 { run: \"auto\", display-mode: \"form\" }\n",
        "full_hd_width: int = 1920 # @param {type:\"number\"}\n",
        "full_hd_height: int = 1080 # @param {type:\"number\"}\n",
        "\n",
        "scale_by_size: float = 2 # @param {type:\"raw\"}\n",
        "\n",
        "has_fhd_width: int = int(\n",
        "    full_hd_width\n",
        "    /\n",
        "    scale_by_size\n",
        ")\n",
        "\n",
        "has_fhd_height: int = int(\n",
        "    full_hd_height\n",
        "    /\n",
        "    scale_by_size\n",
        ")\n",
        "\n",
        "show_summary_of_model: bool = False # @param {type:\"boolean\"}\n"
      ]
    },
    {
      "cell_type": "code",
      "execution_count": null,
      "outputs": [],
      "source": [
        "bounding_format = 'xyxy' # @param {type:\"string\"}\n",
        "bounding_format = bounding_format.lower()\n",
        "\n",
        "def get_bounding_format() -> str:\n",
        "  global bounding_format\n",
        "  return bounding_format\n",
        "\n",
        "def set_bounding_format(\n",
        "  value: str\n",
        ") -> None:\n",
        "  global bounding_format\n",
        "  bounding_format = value"
      ],
      "metadata": {
        "id": "RLSie3-BOrU3"
      }
    },
    {
      "cell_type": "code",
      "source": [
        "if (\n",
        "    (hp_decay_rate is None)\n",
        "    or\n",
        "    (hp_decay_rate == float(zero()))\n",
        "):\n",
        "  hp_decay_rate = generate_decay_rate()"
      ],
      "metadata": {
        "id": "p4pPB7ND3O2U"
      },
      "execution_count": null,
      "outputs": []
    },
    {
      "cell_type": "code",
      "source": [
        "if(\n",
        "    (hp_decay_steps is None)\n",
        "    or\n",
        "    (hp_decay_steps == zero())\n",
        "):\n",
        "  hp_decay_steps = generate_decay_steps()"
      ],
      "metadata": {
        "id": "iNmdgN1A3RVE"
      },
      "execution_count": null,
      "outputs": []
    },
    {
      "cell_type": "code",
      "source": [
        "if(\n",
        "    (hp_epochs is None)\n",
        "    or\n",
        "    (hp_epochs == zero())\n",
        "):\n",
        "  hp_epochs = 11"
      ],
      "metadata": {
        "id": "Q2oeZmhl3S05"
      },
      "execution_count": null,
      "outputs": []
    },
    {
      "cell_type": "code",
      "source": [
        "if(\n",
        "    (hp_global_clip_at is None)\n",
        "    or\n",
        "    (hp_global_clip_at == float(zero()))\n",
        "):\n",
        "  hp_global_clip_at = 10.0"
      ],
      "metadata": {
        "id": "-AC-Wnae3VJl"
      },
      "execution_count": null,
      "outputs": []
    },
    {
      "cell_type": "code",
      "source": [
        "if(\n",
        "    (hp_initial_learning_rate is None)\n",
        "    or\n",
        "    (\n",
        "      hp_initial_learning_rate\n",
        "      ==\n",
        "      float(\n",
        "        zero()\n",
        "      )\n",
        "    )\n",
        "):\n",
        "  hp_initial_learning_rate = 0.01"
      ],
      "metadata": {
        "id": "4Y5-2etH3X_O"
      },
      "execution_count": null,
      "outputs": []
    },
    {
      "cell_type": "code",
      "source": [
        "if (\n",
        "  not(download_dataset_at is None)\n",
        "):\n",
        "  download_dataset_at = download_dataset_at.replace(\n",
        "    ' ',\n",
        "    ''\n",
        "  )\n",
        "\n",
        "is_to_select_dataset: bool = (\n",
        "    (download_dataset_at is None)\n",
        "    or\n",
        "    (download_dataset_at == '')\n",
        ")\n",
        "\n",
        "if is_to_select_dataset:\n",
        "  download_links: list = list()"
      ],
      "metadata": {
        "id": "7en12DpN2XDO"
      },
      "execution_count": null,
      "outputs": []
    },
    {
      "cell_type": "code",
      "source": [
        "if is_to_select_dataset:\n",
        "  download_links.sort()\n",
        "\n",
        "  min_random_dl: int = zero()\n",
        "  max_random_dl: int = len(download_links) - one()\n",
        "\n",
        "  download_dataset_at = download_links[\n",
        "    SystemRandom().randint(\n",
        "      min_random_dl,\n",
        "      max_random_dl\n",
        "    )\n",
        "  ]"
      ],
      "metadata": {
        "id": "0F4Qo8fQt9Fh"
      },
      "execution_count": null,
      "outputs": []
    },
    {
      "cell_type": "markdown",
      "metadata": {
        "id": "B0zwQGq4CxQM"
      },
      "source": [
        "# Run Script"
      ]
    },
    {
      "cell_type": "code",
      "source": [
        "from numpy \\\n",
        "  import array"
      ],
      "metadata": {
        "id": "n_dLsgCG6LmB"
      },
      "execution_count": null,
      "outputs": []
    },
    {
      "cell_type": "code",
      "execution_count": null,
      "metadata": {
        "id": "V5Gm4r7kzhso"
      },
      "outputs": [],
      "source": [
        "# @title Package - Numpy { run: \"auto\", display-mode: \"code\" }\n",
        "import keras\n",
        "\n",
        "from keras.utils                \\\n",
        "  import                        \\\n",
        "  load_img,                     \\\n",
        "  img_to_array\n",
        "\n",
        "from keras.optimizers           \\\n",
        "  import                        \\\n",
        "  SGD,                          \\\n",
        "  Adam\n",
        "\n",
        "from keras \\\n",
        "  import Model\n",
        "\n",
        "from keras.models               \\\n",
        "  import Sequential\n",
        "\n",
        "from keras.layers               \\\n",
        "  import Rescaling\n",
        "\n",
        "from keras.optimizers.schedules \\\n",
        "  import ExponentialDecay\n",
        "\n",
        "from keras.utils                \\\n",
        "  import plot_model\n",
        "\n",
        "from keras.models               \\\n",
        "  import load_model\n",
        "\n",
        "from keras.callbacks            \\\n",
        "  import                        \\\n",
        "  Callback,                     \\\n",
        "  TensorBoard\n",
        "\n",
        "from keras.mixed_precision \\\n",
        "  import set_global_policy"
      ]
    },
    {
      "cell_type": "code",
      "source": [
        "import keras_cv\n",
        "\n",
        "from keras_cv   \\\n",
        "  import        \\\n",
        "  bounding_box, \\\n",
        "  visualization\n",
        "\n",
        "from keras_cv.metrics \\\n",
        "  import BoxCOCOMetrics\n",
        "\n",
        "from keras_cv   \\\n",
        "  import layers \\\n",
        "  as cv_layers\n",
        "\n",
        "from keras_cv.models  \\\n",
        "  import              \\\n",
        "  YOLOV8Backbone,     \\\n",
        "  YOLOV8Detector\n",
        "\n",
        "from keras_cv.layers \\\n",
        "  import Resizing"
      ],
      "metadata": {
        "id": "3ngXy0iO6Hij"
      },
      "execution_count": null,
      "outputs": []
    },
    {
      "cell_type": "code",
      "source": [
        "import tensorflow\n",
        "\n",
        "from tensorflow.ragged \\\n",
        "  import constant\n",
        "\n",
        "from tensorflow \\\n",
        "  import get_logger\n",
        "\n",
        "from tensorflow.config \\\n",
        "  import list_physical_devices\n",
        "\n",
        "from tensorflow.config.experimental \\\n",
        "  import set_memory_growth\n",
        "\n",
        "from tensorflow.data \\\n",
        "  import Dataset"
      ],
      "metadata": {
        "id": "zo8wE4uG55PO"
      },
      "execution_count": null,
      "outputs": []
    },
    {
      "cell_type": "code",
      "source": [
        "from tqdm.auto \\\n",
        "  import tqdm"
      ],
      "metadata": {
        "id": "dxvA49Pk6C0V"
      },
      "execution_count": null,
      "outputs": []
    },
    {
      "cell_type": "code",
      "source": [
        "import wandb\n",
        "\n",
        "from wandb  \\\n",
        "  import    \\\n",
        "  init,     \\\n",
        "  finish\n",
        "\n",
        "from wandb.integration.keras \\\n",
        "  import WandbMetricsLogger"
      ],
      "metadata": {
        "id": "GNHuPKAr6BmC"
      },
      "execution_count": null,
      "outputs": []
    },
    {
      "cell_type": "code",
      "source": [
        "if is_google_colab_platform:\n",
        "  from google.colab \\\n",
        "    import runtime"
      ],
      "metadata": {
        "id": "35_NVzsC5-sN"
      },
      "execution_count": null,
      "outputs": []
    },
    {
      "cell_type": "code",
      "source": [
        "def is_to_be_replace(\n",
        "    class_label: str\n",
        ") -> str:\n",
        "  return_label: str = class_label\n",
        "  return return_label"
      ],
      "metadata": {
        "id": "mDx_6Mi7i0uF"
      },
      "execution_count": null,
      "outputs": []
    },
    {
      "cell_type": "code",
      "source": [
        "def normalise_token(\n",
        "    class_label: str\n",
        ") -> str:\n",
        "  return class_label.lower()"
      ],
      "metadata": {
        "id": "1fPElyVVi2Yc"
      },
      "execution_count": null,
      "outputs": []
    },
    {
      "cell_type": "code",
      "source": [
        "def find_class_name(\n",
        "  object\n",
        "):\n",
        "  cls = str(\n",
        "    object.find(\n",
        "      get_label_name()\n",
        "    ).text\n",
        "  )\n",
        "\n",
        "  cls = is_to_be_replace(\n",
        "    cls\n",
        "  )\n",
        "  cls = normalise_token(\n",
        "    cls\n",
        "  )\n",
        "\n",
        "  return cls"
      ],
      "metadata": {
        "id": "7ovIXdrTilMN"
      },
      "execution_count": null,
      "outputs": []
    },
    {
      "cell_type": "code",
      "execution_count": null,
      "metadata": {
        "id": "rT_PNEdyg0NI"
      },
      "outputs": [],
      "source": [
        "# @title Login to wandb and download old model { run: \"auto\", display-mode: \"form\" }\n",
        "notebook_name = 'Mjoelner - Training Only.ipynb'\n",
        "\n",
        "environ['WANDB_API_KEY'] = wandb_api_key\n",
        "environ['WANDB_NOTEBOOK_NAME'] = notebook_name\n",
        "\n",
        "is_wandb_silent: bool = True # @param {type:\"boolean\"}\n",
        "environ['WANDB_SILENT'] = str(is_wandb_silent)\n",
        "environ['WANDB_SHOW_RUN'] = str(False)\n",
        "\n",
        "# It's a notebook, so not needed and saved to git automaticly...\n",
        "environ['WANDB_DISABLE_GIT'] = str(True)\n",
        "\n",
        "if use_of_wandb:\n",
        "  wandb.login()\n",
        "\n",
        "if delete_sample_data:\n",
        "  if isdir(\n",
        "      location_for_sample_data\n",
        "  ):\n",
        "    !rm {location_for_sample_data} -R\n"
      ]
    },
    {
      "cell_type": "code",
      "execution_count": null,
      "metadata": {
        "id": "IiUo_N9sQunX"
      },
      "outputs": [],
      "source": [
        "# @title Configuration Tensorflow { run: \"auto\", display-mode: \"form\" }\n",
        "set_memory_growth_to: bool = True # @param {type:\"boolean\"}\n",
        "tensorflow_is_to_log_critical_information_only: bool = True # @param {type:\"boolean\"}\n",
        "wandb_is_to_log_critical_information_only: bool = True # @param {type:\"boolean\"}"
      ]
    },
    {
      "cell_type": "code",
      "source": [
        "use_devices: list = list()\n",
        "\n",
        "for device in list_physical_devices(\n",
        "    gpu_label()\n",
        "):\n",
        "  try:\n",
        "    set_memory_growth(\n",
        "        device,\n",
        "        set_memory_growth_to\n",
        "    )\n",
        "\n",
        "    use_devices.append(\n",
        "        device\n",
        "    )\n",
        "  except:\n",
        "    print(\n",
        "      'Invalid device'\n",
        "    )\n",
        "\n",
        "if tensorflow_is_to_log_critical_information_only:\n",
        "  get_logger().setLevel(\n",
        "      CRITICAL\n",
        "  )\n",
        "\n",
        "if wandb_is_to_log_critical_information_only:\n",
        "  wandb_logger = logging.getLogger(\n",
        "      'wandb'\n",
        "  )\n",
        "\n",
        "  wandb_logger.setLevel(\n",
        "      CRITICAL\n",
        "  )"
      ],
      "metadata": {
        "id": "AsR_ybOE7Ngh"
      },
      "execution_count": null,
      "outputs": []
    },
    {
      "cell_type": "markdown",
      "metadata": {
        "id": "P5F4oQMHOvrj"
      },
      "source": [
        "## Configuration"
      ]
    },
    {
      "cell_type": "markdown",
      "source": [
        "### Randomizers"
      ],
      "metadata": {
        "id": "9GfSBjkqERdQ"
      }
    },
    {
      "cell_type": "code",
      "execution_count": null,
      "metadata": {
        "id": "EOyxAI4RdENx"
      },
      "outputs": [],
      "source": [
        "# @title DataSet Parameters { run: \"auto\", display-mode: \"form\" }\n",
        "scale_boundary_lowest: float = 0.25 # @param {type:\"raw\"}\n",
        "scale_boundary_highest: float = 1.0 # @param {type:\"raw\"}"
      ]
    },
    {
      "cell_type": "code",
      "execution_count": null,
      "metadata": {
        "id": "lOpdyF0DKxSq"
      },
      "outputs": [],
      "source": [
        "# @title Model Parameters & Target\n",
        "target_input_width: int     = has_fhd_width\n",
        "target_input_height: int    = has_fhd_height\n",
        "target_input_channels: int  = image_channels\n",
        "\n",
        "model_width: int    = has_fhd_width\n",
        "model_height: int   = has_fhd_height\n",
        "model_channels: int = image_channels\n",
        "\n",
        "batch_size: int = hp_batch_size\n",
        "\n",
        "graph_model: bool = False\n",
        "global_clip_at: float = hp_global_clip_at\n",
        "\n",
        "shuffle_sample_by: int = batch_size * 4\n",
        "\n",
        "use_coco_metrics: bool = True\n",
        "load_model_from: str | None = None\n",
        "\n",
        "dataset_name: str = 'TMOD-10000.annotations.v1'\n",
        "dataset_directory_name: str = 'dataset'\n",
        "temporary_destination: str = '/tmp'\n",
        "\n",
        "dataset_compressed_destination: str = join(\n",
        "    temporary_destination,\n",
        "    'dataset_folder.zip'\n",
        ")\n",
        "\n",
        "destination_to_dataset: str = join(\n",
        "    temporary_destination,\n",
        "    dataset_name\n",
        ")\n",
        "\n",
        "move_to: str = join(\n",
        "    temporary_destination,\n",
        "    dataset_directory_name\n",
        ")"
      ]
    },
    {
      "cell_type": "code",
      "execution_count": null,
      "outputs": [],
      "source": [
        "project_name: str = 'id (Colab)'\n",
        "\n",
        "epoch: int = hp_epochs\n",
        "\n",
        "is_to_fork_model: bool = True\n",
        "url_to_dataset: str = download_dataset_at\n",
        "\n",
        "labels_mapped: list | dict = list()\n",
        "\n",
        "is_tensorboard_initialised: bool  = False\n",
        "is_wandb_patched: bool            = False\n",
        "is_wandb_initialised: bool        = False"
      ],
      "metadata": {
        "id": "-MospjSoOrVL"
      }
    },
    {
      "cell_type": "code",
      "execution_count": null,
      "outputs": [],
      "source": [
        "def get_epochs() -> int:\n",
        "  global epoch\n",
        "  return epoch\n",
        "\n",
        "def set_epochs(\n",
        "  value: int\n",
        ") -> None:\n",
        "  global epoch\n",
        "  epoch = value"
      ],
      "metadata": {
        "id": "ebtysClgOrVL"
      }
    },
    {
      "cell_type": "code",
      "source": [
        "def get_is_to_fork_model() -> bool:\n",
        "  global is_to_fork_model\n",
        "  return is_to_fork_model\n",
        "\n",
        "def set_is_to_fork_model(\n",
        "  value: bool\n",
        ") -> None:\n",
        "  global is_to_fork_model\n",
        "  is_to_fork_model = value"
      ],
      "metadata": {
        "id": "mBxDaltYaJ_o"
      },
      "execution_count": null,
      "outputs": []
    },
    {
      "cell_type": "code",
      "source": [
        "def get_is_tensorboard_initialised() -> bool:\n",
        "  global is_tensorboard_initialised\n",
        "  return is_tensorboard_initialised\n",
        "\n",
        "def set_is_tensorboard_initialised(\n",
        "  value: bool\n",
        ") -> None:\n",
        "  global is_tensorboard_initialised\n",
        "  is_tensorboard_initialised = value"
      ],
      "metadata": {
        "id": "jMy6CLL5-ES2"
      },
      "execution_count": null,
      "outputs": []
    },
    {
      "cell_type": "code",
      "source": [
        "def get_is_wandb_patched() -> bool:\n",
        "  global is_wandb_patched\n",
        "  return is_wandb_patched\n",
        "\n",
        "def set_is_wandb_patched(\n",
        "  value: bool\n",
        ") -> None:\n",
        "  global is_wandb_patched\n",
        "  is_wandb_patched = value"
      ],
      "metadata": {
        "id": "cJvoWln--EnG"
      },
      "execution_count": null,
      "outputs": []
    },
    {
      "cell_type": "code",
      "source": [
        "def get_is_wandb_initialised() -> bool:\n",
        "  global is_wandb_initialised\n",
        "  return is_wandb_initialised\n",
        "\n",
        "def set_is_wandb_initialised(\n",
        "  value: bool\n",
        ") -> None:\n",
        "  global is_wandb_initialised\n",
        "  is_wandb_initialised = value"
      ],
      "metadata": {
        "id": "o68VTo-W-E8a"
      },
      "execution_count": null,
      "outputs": []
    },
    {
      "cell_type": "code",
      "source": [
        "if (\n",
        "  not isdir(\n",
        "    move_to\n",
        "  )\n",
        "):\n",
        "  !wget {url_to_dataset} -O {dataset_compressed_destination}\n",
        "\n",
        "  if(\n",
        "    isfile(\n",
        "      dataset_compressed_destination\n",
        "    )\n",
        "  ):\n",
        "    !unzip -qq {dataset_compressed_destination} -d /tmp\n",
        "\n",
        "  !rm {dataset_compressed_destination}"
      ],
      "metadata": {
        "id": "zcahzZctH6j7"
      },
      "execution_count": null,
      "outputs": []
    },
    {
      "cell_type": "code",
      "source": [
        "def get_label_layout() -> dict:\n",
        "  global labels_mapped\n",
        "  return labels_mapped"
      ],
      "metadata": {
        "id": "vCvuvhUuziPC"
      },
      "execution_count": null,
      "outputs": []
    },
    {
      "cell_type": "code",
      "source": [
        "def label_map() -> str:\n",
        "  return 'MaP'"
      ],
      "metadata": {
        "id": "sMm3jOBd7eSl"
      },
      "execution_count": null,
      "outputs": []
    },
    {
      "cell_type": "code",
      "source": [
        "def is_in_labels_mapped(\n",
        "    key: str\n",
        ") -> bool:\n",
        "  global labels_mapped\n",
        "  for label in labels_mapped:\n",
        "    if label == key:\n",
        "      return True\n",
        "\n",
        "  return False"
      ],
      "metadata": {
        "id": "buTam2YBiKKD"
      },
      "execution_count": null,
      "outputs": []
    },
    {
      "cell_type": "code",
      "source": [
        "def parse_for_labels(\n",
        "  xml_file: str\n",
        ") -> list:\n",
        "  returnable: list = list()\n",
        "\n",
        "  tree = ET.parse(\n",
        "      xml_file\n",
        "  )\n",
        "\n",
        "  root = tree.getroot()\n",
        "\n",
        "  for object in root.iter(\n",
        "    get_label_object()\n",
        "  ):\n",
        "    class_name = find_class_name(\n",
        "      object\n",
        "    )\n",
        "\n",
        "    returnable.append(\n",
        "        class_name\n",
        "    )\n",
        "\n",
        "  return returnable"
      ],
      "metadata": {
        "id": "7WdRmxXxiMym"
      },
      "execution_count": null,
      "outputs": []
    },
    {
      "cell_type": "code",
      "source": [
        "if (\n",
        "  not isdir(\n",
        "    move_to\n",
        "  )\n",
        "):\n",
        "  final_destination: str = join(\n",
        "    destination_to_dataset,\n",
        "    'Dataset'\n",
        "  )\n",
        "\n",
        "  if (\n",
        "    isdir(\n",
        "      final_destination\n",
        "    )\n",
        "  ):\n",
        "    !mv {final_destination} {move_to}\n",
        "    !rm {destination_to_dataset} -R\n",
        "    !ls {move_to}\n",
        "  else:\n",
        "    !mv {destination_to_dataset} {move_to}\n",
        "\n",
        "locations_of_annotations: str = join(\n",
        "    move_to,\n",
        "    'Annotations'\n",
        ")\n",
        "\n",
        "for xml_file in listdir(\n",
        "    locations_of_annotations\n",
        "):\n",
        "  full_path_to_xml = join(\n",
        "      locations_of_annotations,\n",
        "      xml_file\n",
        "  )\n",
        "\n",
        "  labels = parse_for_labels(\n",
        "      full_path_to_xml\n",
        "  )\n",
        "\n",
        "  for label in labels:\n",
        "    normalised_label = label.lower()\n",
        "\n",
        "    if not is_in_labels_mapped(\n",
        "        normalised_label\n",
        "    ):\n",
        "      labels_mapped.append(\n",
        "          normalised_label\n",
        "      )\n",
        "\n",
        "labels_mapped.sort()\n",
        "\n",
        "size_of_labels: int = len(\n",
        "    labels_mapped\n",
        ")\n",
        "\n",
        "labels_mapped: dict = dict(\n",
        "    zip(\n",
        "        range(\n",
        "            size_of_labels\n",
        "        ),\n",
        "        labels_mapped\n",
        "    )\n",
        ")\n",
        "\n",
        "found_images = listdir(\n",
        "    join(\n",
        "        move_to,\n",
        "        'Images'\n",
        "    )\n",
        ")\n",
        "\n",
        "found_annotations = listdir(\n",
        "    join(\n",
        "        move_to,\n",
        "        'Annotations'\n",
        "    )\n",
        ")\n",
        "\n",
        "found_images.sort()\n",
        "found_annotations.sort()\n",
        "\n",
        "found: list = list()\n",
        "\n",
        "for idx in range(\n",
        "    len(\n",
        "        found_images\n",
        "    )\n",
        "):\n",
        "  found.append(\n",
        "      (\n",
        "          found_images[idx],\n",
        "          found_annotations[idx]\n",
        "      )\n",
        "  )\n",
        "\n",
        "del found_images, found_annotations\n",
        "size_of_found_files: int = len(\n",
        "  found\n",
        ")\n"
      ],
      "metadata": {
        "id": "KBXMChhRXOXc"
      },
      "execution_count": null,
      "outputs": []
    },
    {
      "cell_type": "code",
      "source": [
        "def get_target_configuration() -> dict:\n",
        "  global \\\n",
        "    target_input_width, \\\n",
        "    target_input_height, \\\n",
        "    target_input_channels\n",
        "\n",
        "  return {\n",
        "    'width': target_input_width,\n",
        "    'height': target_input_height,\n",
        "    'channels': target_input_channels\n",
        "  }"
      ],
      "metadata": {
        "id": "5PzhCceqhwgr"
      },
      "execution_count": null,
      "outputs": []
    },
    {
      "cell_type": "code",
      "source": [
        "def get_dataset_configuration() -> dict:\n",
        "  global dataset_split_at\n",
        "\n",
        "  return {\n",
        "      'epochs': get_epochs(),\n",
        "      'batch_size': get_batch_size(),\n",
        "\n",
        "      'split': dataset_split_at,\n",
        "\n",
        "      'target': get_target_configuration()\n",
        "  }"
      ],
      "metadata": {
        "id": "rhyqQjiBhhp5"
      },
      "execution_count": null,
      "outputs": []
    },
    {
      "cell_type": "code",
      "source": [
        "def get_initial_learning_rate() -> float:\n",
        "  global hp_initial_learning_rate\n",
        "  return hp_initial_learning_rate"
      ],
      "metadata": {
        "id": "FO2JyW7Abswq"
      },
      "execution_count": null,
      "outputs": []
    },
    {
      "cell_type": "code",
      "source": [
        "def get_learning_configuration() -> dict:\n",
        "  return {\n",
        "      'initial': get_initial_learning_rate(),\n",
        "      'decay': {\n",
        "        'steps': hp_decay_steps,\n",
        "        'rate': hp_decay_rate\n",
        "      }\n",
        "  }"
      ],
      "metadata": {
        "id": "HGAozK1jcB-Y"
      },
      "execution_count": null,
      "outputs": []
    },
    {
      "cell_type": "code",
      "source": [
        "def get_vision_configuration() -> list:\n",
        "  global                      \\\n",
        "    model_width,              \\\n",
        "    model_height,             \\\n",
        "    model_channels\n",
        "\n",
        "  return (\n",
        "      model_width,\n",
        "      model_height,\n",
        "      model_channels\n",
        "  )"
      ],
      "metadata": {
        "id": "idrjDeC-cRKo"
      },
      "execution_count": null,
      "outputs": []
    },
    {
      "cell_type": "code",
      "source": [
        "model_project_version_build: str = 'build.alpha.YoloV8'"
      ],
      "metadata": {
        "id": "HoqCl_SbX3HX"
      },
      "execution_count": null,
      "outputs": []
    },
    {
      "cell_type": "code",
      "source": [
        "def get_model_configuration() -> dict:\n",
        "  global model_project_version_build\n",
        "  return {\n",
        "    'vision': get_vision_configuration(),\n",
        "    'learning': get_learning_configuration(),\n",
        "    'name': model_project_version_build,\n",
        "  }"
      ],
      "metadata": {
        "id": "GA5jTLQXiLGC"
      },
      "execution_count": null,
      "outputs": []
    },
    {
      "cell_type": "code",
      "source": [
        "def get_batch_size() -> int:\n",
        "  global batch_size\n",
        "  return batch_size"
      ],
      "metadata": {
        "id": "TjdEsGJ8gFpi"
      },
      "execution_count": null,
      "outputs": []
    },
    {
      "cell_type": "code",
      "execution_count": null,
      "metadata": {
        "id": "t5HhSft6T-lt"
      },
      "outputs": [],
      "source": [
        "# @title Configuration for wandb { run: \"auto\", display-mode: \"code\" }\n",
        "def configuration():\n",
        "  return {\n",
        "    'model': get_model_configuration(),\n",
        "    'dataset': get_dataset_configuration(),\n",
        "\n",
        "    'formats': {\n",
        "        'bounding box': get_bounding_format()\n",
        "    },\n",
        "}"
      ]
    },
    {
      "cell_type": "markdown",
      "metadata": {
        "id": "WZYrK9HtEtp1"
      },
      "source": [
        "## Start of Script"
      ]
    },
    {
      "cell_type": "code",
      "execution_count": null,
      "metadata": {
        "id": "bR9vgHUIXjL-"
      },
      "outputs": [],
      "source": [
        "# @title Setup of Tensorboard & WanDB { run: \"auto\", display-mode: \"code\" }\n",
        "if not isdir(\n",
        "    location_for_tensorboard\n",
        "):\n",
        "  mkdir(\n",
        "      location_for_tensorboard\n",
        "  )\n",
        "\n",
        "if not(\n",
        "  is_tensorboard_initialised\n",
        "):\n",
        "  %load_ext tensorboard\n",
        "  %tensorboard --logdir {location_for_tensorboard}\n",
        "\n",
        "  is_tensorboard_initialised = True\n",
        "\n",
        "\n",
        "if(\n",
        "    (wandb_to_sync_tensorboard)\n",
        "    and\n",
        "    not(is_wandb_patched)\n",
        "):\n",
        "  wandb.tensorboard.patch(\n",
        "      root_logdir = location_for_tensorboard\n",
        "  )\n",
        "\n",
        "  is_wandb_patched = True\n",
        "\n",
        "if (\n",
        "  use_of_wandb\n",
        "  and\n",
        "  not(\n",
        "    is_wandb_initialised\n",
        "  )\n",
        "):\n",
        "  init(\n",
        "      name              = project_name,\n",
        "      project           = wandb_project_name,\n",
        "      entity            = wandb_entity_name,\n",
        "      save_code         = wandb_to_save_code,\n",
        "      config            = configuration(),\n",
        "      sync_tensorboard  = wandb_to_sync_tensorboard,\n",
        "      job_type          = wandb_job_type,\n",
        "      tags              = wandb_tags,\n",
        "      group             = 'Colab',\n",
        "      settings          = wandb.Settings(\n",
        "        start_method = 'thread'\n",
        "      )\n",
        "  )\n",
        "\n",
        "  is_wandb_initialised = True"
      ]
    },
    {
      "cell_type": "code",
      "execution_count": null,
      "metadata": {
        "id": "os32G9pYPJzq"
      },
      "outputs": [],
      "source": [
        "model_artifact = wandb.use_artifact(\n",
        "    'designermadsen/Mjølner/tensorflow__mjoelner_model:latest'\n",
        ")\n",
        "\n",
        "load_model_from = model_artifact.download()\n",
        "\n",
        "model = load_model(\n",
        "  load_model_from,\n",
        "  compile = False\n",
        ")\n",
        "\n",
        "learning_rate: ExponentialDecay = ExponentialDecay(\n",
        "  hp_initial_learning_rate,\n",
        "  decay_steps = hp_decay_steps,\n",
        "  decay_rate  = hp_decay_rate\n",
        ")\n",
        "\n",
        "optimizer = SGD(\n",
        "    learning_rate   = learning_rate,\n",
        "    global_clipnorm = global_clip_at,\n",
        "    use_ema         = True\n",
        ")\n",
        "\n",
        "model.compile(\n",
        "    classification_loss = 'binary_crossentropy',\n",
        "    box_loss = 'ciou',\n",
        "    optimizer = optimizer\n",
        ")\n",
        "\n",
        "if show_summary_of_model:\n",
        "  model.summary()"
      ]
    },
    {
      "cell_type": "markdown",
      "metadata": {
        "id": "FxWm73k3XeyU"
      },
      "source": [
        "## Setup Dataset"
      ]
    },
    {
      "cell_type": "code",
      "source": [
        "def get_color_spectrum() -> tuple:\n",
        "  return (\n",
        "      zero(),\n",
        "      max_limit_for_rgb_color()\n",
        "  )"
      ],
      "metadata": {
        "id": "JCv8C_5U2lRB"
      },
      "execution_count": null,
      "outputs": []
    },
    {
      "cell_type": "code",
      "source": [
        "def get_shuffle_sample_by() -> int:\n",
        "  global shuffle_sample_by\n",
        "  return shuffle_sample_by"
      ],
      "metadata": {
        "id": "JpaRFtS72ocW"
      },
      "execution_count": null,
      "outputs": []
    },
    {
      "cell_type": "code",
      "source": [
        "def generate_random_integer() -> int:\n",
        "  begin: int  = one()\n",
        "  end: int    = 65535\n",
        "\n",
        "  return SystemRandom().randint(\n",
        "      begin,\n",
        "      end\n",
        "  )"
      ],
      "metadata": {
        "id": "MDAUZL4R2qcV"
      },
      "execution_count": null,
      "outputs": []
    },
    {
      "cell_type": "code",
      "execution_count": null,
      "metadata": {
        "id": "mLHc9RjdDF0Z"
      },
      "outputs": [],
      "source": [
        "def is_in_formats(\n",
        "    value: str\n",
        ") -> bool:\n",
        "  global formats\n",
        "\n",
        "  for e in formats:\n",
        "    if value == e:\n",
        "      return True\n",
        "\n",
        "  return False"
      ]
    },
    {
      "cell_type": "code",
      "source": [
        "def generate_grid_ratio() -> float:\n",
        "  return SystemRandom().uniform(\n",
        "      0.125,\n",
        "      0.999981\n",
        "  )"
      ],
      "metadata": {
        "id": "6oxk7YXK6GoE"
      },
      "execution_count": null,
      "outputs": []
    },
    {
      "cell_type": "code",
      "source": [
        "def generate_grid_rotation() -> float:\n",
        "  return SystemRandom().uniform(\n",
        "    0.0,\n",
        "    0.9\n",
        "  )"
      ],
      "metadata": {
        "id": "veLGfNUo6jJy"
      },
      "execution_count": null,
      "outputs": []
    },
    {
      "cell_type": "code",
      "source": [
        "def default_image_range() -> tuple:\n",
        "  return (\n",
        "    0,\n",
        "    255\n",
        "  )"
      ],
      "metadata": {
        "id": "VeIjUtKj64WG"
      },
      "execution_count": null,
      "outputs": []
    },
    {
      "cell_type": "code",
      "source": [
        "if not is_dataset_saved:\n",
        "  augmentation_layers: list = list()\n",
        "\n",
        "  if use_resize:\n",
        "    augmentation_layers.append(\n",
        "        cv_layers.Resizing(\n",
        "            height              = target_input_height,\n",
        "            width               = target_input_width,\n",
        "            pad_to_aspect_ratio = True,\n",
        "            bounding_box_format = get_bounding_format()\n",
        "        )\n",
        "    )\n",
        "\n",
        "  if use_jitter_resize:\n",
        "    augmentation_layers.append(\n",
        "      cv_layers.JitteredResize(\n",
        "        target_size = (\n",
        "          target_input_height,\n",
        "          target_input_width\n",
        "        ),\n",
        "        scale_factor = (\n",
        "          scale_boundary_lowest,\n",
        "          scale_boundary_highest\n",
        "        ),\n",
        "        bounding_box_format = get_bounding_format()\n",
        "      )\n",
        "    )\n",
        "\n",
        "  if use_random_brightness:\n",
        "    augmentation_layers.append(\n",
        "        cv_layers.RandomBrightness(\n",
        "            factor      = (-0.5, 0.5),\n",
        "            value_range = default_image_range()\n",
        "        )\n",
        "    )\n",
        "\n",
        "  if use_random_flip:\n",
        "    augmentation_layers.append(\n",
        "        cv_layers.RandomFlip(\n",
        "            mode                = 'horizontal',\n",
        "            bounding_box_format = get_bounding_format()\n",
        "        )\n",
        "    )\n",
        "\n",
        "  if use_random_contrast:\n",
        "    augmentation_layers.append(\n",
        "        cv_layers.RandomContrast(\n",
        "            factor      = (-0.5, 0.5),\n",
        "            value_range = default_image_range()\n",
        "        )\n",
        "    )\n",
        "\n",
        "  if use_grayscale_augmentation:\n",
        "    augmentation_layers.append(\n",
        "        cv_layers.Grayscale(\n",
        "            output_channels = get_image_channels()\n",
        "        )\n",
        "    )\n",
        "\n",
        "  if use_grid_mask:\n",
        "    augmentation_layers.append(\n",
        "        cv_layers.GridMask(\n",
        "            ratio_factor    = (\n",
        "              zero(),\n",
        "              generate_grid_ratio()\n",
        "            ),\n",
        "            rotation_factor = generate_grid_rotation(),\n",
        "            fill_mode       = 'constant',\n",
        "            fill_value      = zero()\n",
        "        )\n",
        "    )\n",
        "\n",
        "  resize_and_augmentations = keras.Sequential(\n",
        "      layers = augmentation_layers\n",
        "  )"
      ],
      "metadata": {
        "id": "n82y7r92x3Z0"
      },
      "execution_count": null,
      "outputs": []
    },
    {
      "cell_type": "code",
      "source": [
        "dataset_paths: dict = dict(\n",
        "  {\n",
        "    label_dataset_images(): join(\n",
        "      move_to,\n",
        "      label_dataset_images().capitalize()\n",
        "    ),\n",
        "    label_dataset_annotations(): join(\n",
        "      move_to,\n",
        "      label_dataset_annotations().capitalize()\n",
        "    )\n",
        "  }\n",
        ")\n",
        "\n",
        "def get_dataset_paths() -> dict:\n",
        "  global dataset_paths\n",
        "  return dataset_paths\n"
      ],
      "metadata": {
        "id": "HCFYekME0U2T"
      },
      "execution_count": null,
      "outputs": []
    },
    {
      "cell_type": "code",
      "source": [
        "def get_dataset_paths_entry(\n",
        "  key: str\n",
        ") -> str:\n",
        "  global dataset_paths\n",
        "  return get_dataset_paths()[key]"
      ],
      "metadata": {
        "id": "MrrjgxLh8ByJ"
      },
      "execution_count": null,
      "outputs": []
    },
    {
      "cell_type": "code",
      "source": [
        "def file_has_jpeg_extension(\n",
        "      file_name: str\n",
        ") -> bool:\n",
        "  file_name_normalised = file_name.lower()\n",
        "\n",
        "  return (\n",
        "        file_name_normalised.endswith('.jpg')\n",
        "        or\n",
        "        file_name_normalised.endswith('.jpeg')\n",
        "  )\n"
      ],
      "metadata": {
        "id": "tADyuQw8yrBD"
      },
      "execution_count": null,
      "outputs": []
    },
    {
      "cell_type": "code",
      "execution_count": null,
      "outputs": [],
      "source": [
        "def file_has_xml_extension(\n",
        "      file_name: str\n",
        ") -> bool:\n",
        "  file_name_normalised = file_name.lower()\n",
        "\n",
        "  return file_name_normalised.endswith(\n",
        "        '.xml'\n",
        "  )"
      ],
      "metadata": {
        "id": "eqdGDYFDOrVd"
      }
    },
    {
      "cell_type": "code",
      "source": [
        "def find_filename(\n",
        "  root\n",
        ") -> str:\n",
        "  return str(\n",
        "    root.find(\n",
        "      'filename'\n",
        "    ).text\n",
        "  )"
      ],
      "metadata": {
        "id": "8bgfFxjnWzRF"
      },
      "execution_count": null,
      "outputs": []
    },
    {
      "cell_type": "code",
      "source": [
        "def find_x_minimum_boundary(\n",
        "  bounderies\n",
        ") -> float:\n",
        "  return float(\n",
        "    bounderies.find(\n",
        "      get_label_x_minimum()\n",
        "    ).text\n",
        "  )"
      ],
      "metadata": {
        "id": "iY1Re3kjZt4I"
      },
      "execution_count": null,
      "outputs": []
    },
    {
      "cell_type": "code",
      "source": [
        "def find_y_minimum_boundary(\n",
        "  bounderies\n",
        ") -> float:\n",
        "  return float(\n",
        "    bounderies.find(\n",
        "      get_label_y_minimum()\n",
        "    ).text\n",
        "  )"
      ],
      "metadata": {
        "id": "FRO-6xVsZ67B"
      },
      "execution_count": null,
      "outputs": []
    },
    {
      "cell_type": "code",
      "source": [
        "def find_x_maximum_boundary(\n",
        "  bounderies\n",
        ") -> float:\n",
        "  return float(\n",
        "    bounderies.find(\n",
        "      get_label_x_maximum()\n",
        "    ).text\n",
        "  )"
      ],
      "metadata": {
        "id": "DInJ5CN6aA9v"
      },
      "execution_count": null,
      "outputs": []
    },
    {
      "cell_type": "code",
      "source": [
        "def find_y_maximum_boundary(\n",
        "  bounderies\n",
        ") -> float:\n",
        "  return float(\n",
        "    bounderies.find(\n",
        "      get_label_y_maximum()\n",
        "    ).text\n",
        "  )"
      ],
      "metadata": {
        "id": "g5sl1oV8aKRY"
      },
      "execution_count": null,
      "outputs": []
    },
    {
      "cell_type": "code",
      "execution_count": null,
      "outputs": [],
      "source": [
        "def find_bounding_boxes(\n",
        "  bounderies\n",
        "):\n",
        "  xmin: float = find_x_minimum_boundary(\n",
        "    bounderies\n",
        "  )\n",
        "\n",
        "  ymin: float = find_y_minimum_boundary(\n",
        "    bounderies\n",
        "  )\n",
        "\n",
        "  xmax: float = find_x_maximum_boundary(\n",
        "    bounderies\n",
        "  )\n",
        "\n",
        "  ymax: float = find_y_maximum_boundary(\n",
        "    bounderies\n",
        "  )\n",
        "\n",
        "  return [\n",
        "    xmin,\n",
        "    ymin,\n",
        "    xmax,\n",
        "    ymax\n",
        "  ]"
      ],
      "metadata": {
        "id": "P0sGyFGuOrVh"
      }
    },
    {
      "cell_type": "code",
      "source": [
        "def find_bounderies(\n",
        "  object\n",
        "):\n",
        "  bounderies = object.find(\n",
        "    get_label_bounding_box()\n",
        "  )\n",
        "\n",
        "  return find_bounding_boxes(\n",
        "    bounderies\n",
        "  )"
      ],
      "metadata": {
        "id": "r8Dhf0NOY5LA"
      },
      "execution_count": null,
      "outputs": []
    },
    {
      "cell_type": "code",
      "source": [
        "def parse_xml(\n",
        "    xml_file\n",
        "  ):\n",
        "    global            \\\n",
        "      dataset_paths,  \\\n",
        "      labels_mapped\n",
        "\n",
        "    tree = ET.parse(\n",
        "      xml_file\n",
        "    )\n",
        "\n",
        "    root = tree.getroot()\n",
        "\n",
        "    image_path = join(\n",
        "      get_dataset_paths()[\n",
        "        label_dataset_images()\n",
        "      ],\n",
        "      find_filename(\n",
        "        root\n",
        "      )\n",
        "    )\n",
        "\n",
        "    boxes: list = []\n",
        "    classes: list = []\n",
        "\n",
        "    for object in root.iter(\n",
        "      get_label_object()\n",
        "    ):\n",
        "      classes.append(\n",
        "        find_class_name(\n",
        "          object\n",
        "        )\n",
        "      )\n",
        "\n",
        "      boxes.append(\n",
        "          find_bounderies(\n",
        "            object\n",
        "          )\n",
        "      )\n",
        "\n",
        "    label_ids: list = [\n",
        "      list(\n",
        "        labels_mapped.keys()\n",
        "      )[\n",
        "        list(\n",
        "          labels_mapped.values()\n",
        "        ).index(\n",
        "          cls\n",
        "        )\n",
        "      ]\n",
        "        for cls in classes\n",
        "    ]\n",
        "\n",
        "    return (\n",
        "      image_path,\n",
        "      boxes,\n",
        "      label_ids\n",
        "    )"
      ],
      "metadata": {
        "id": "x6sDVYVlzBFj"
      },
      "execution_count": null,
      "outputs": []
    },
    {
      "cell_type": "code",
      "execution_count": null,
      "metadata": {
        "id": "X07Z-CCbcIs8"
      },
      "outputs": [],
      "source": [
        "# @title DataSet Filetypes { run: \"auto\", display-mode: \"code\" }\n",
        "if not is_dataset_saved:\n",
        "  prefetch_buffer_size: int = get_tune_value()\n",
        "\n",
        "  xml_files = sorted(\n",
        "      [\n",
        "          join(\n",
        "              dataset_paths[\n",
        "                  label_dataset_annotations()\n",
        "              ],\n",
        "              file_name\n",
        "          )\n",
        "\n",
        "          for file_name in listdir(\n",
        "              dataset_paths[\n",
        "                  label_dataset_annotations()\n",
        "              ]\n",
        "          )\n",
        "\n",
        "          if file_has_xml_extension(\n",
        "              file_name\n",
        "          )\n",
        "      ]\n",
        "  )\n",
        "\n",
        "  size_of_annotations = len(\n",
        "      xml_files\n",
        "  )\n",
        "\n",
        "  image_files = sorted(\n",
        "      [\n",
        "          join(\n",
        "              dataset_paths[\n",
        "                  label_dataset_images()\n",
        "              ],\n",
        "              file_name\n",
        "          )\n",
        "\n",
        "          for file_name in listdir(\n",
        "              dataset_paths[\n",
        "                  label_dataset_images()\n",
        "              ]\n",
        "          )\n",
        "\n",
        "          if file_has_jpeg_extension(\n",
        "              file_name\n",
        "          )\n",
        "      ]\n",
        "  )\n",
        "\n",
        "  image_paths: list = []\n",
        "  boundaries: list  = []\n",
        "  classes: list     = []\n",
        "\n",
        "  for file \\\n",
        "    in tqdm(\n",
        "      xml_files\n",
        "  ):\n",
        "      image_path, boxes, label_ids = parse_xml(\n",
        "          file\n",
        "      )\n",
        "\n",
        "      image_paths.append(\n",
        "          image_path\n",
        "      )\n",
        "\n",
        "      boundaries.append(\n",
        "          boxes\n",
        "      )\n",
        "\n",
        "      classes.append(\n",
        "          label_ids\n",
        "      )\n",
        "\n",
        "  image_paths = constant(\n",
        "      image_paths\n",
        "  )\n",
        "\n",
        "  classes = constant(\n",
        "      classes\n",
        "  )\n",
        "\n",
        "  boundaries = constant(\n",
        "      boundaries\n",
        "  )\n",
        "\n",
        "  dataset = tensorflow.data.Dataset.from_tensor_slices(\n",
        "    (\n",
        "      image_paths,\n",
        "      classes,\n",
        "      boundaries\n",
        "    )\n",
        "  )"
      ]
    },
    {
      "cell_type": "code",
      "execution_count": null,
      "outputs": [],
      "source": [
        "def load_image(\n",
        "  image_path: str\n",
        "):\n",
        "  image = tensorflow.io.read_file(\n",
        "    image_path\n",
        "  )\n",
        "\n",
        "  image = tensorflow.image.decode_jpeg(\n",
        "    image,\n",
        "    channels = get_image_channels()\n",
        "  )\n",
        "\n",
        "  return image"
      ],
      "metadata": {
        "id": "1luP5HMrOrVi"
      }
    },
    {
      "cell_type": "code",
      "execution_count": null,
      "outputs": [],
      "source": [
        "def load_dataset(\n",
        "  image_path,\n",
        "  classes,\n",
        "  bounderies\n",
        "):\n",
        "  image = load_image(\n",
        "    image_path\n",
        "  )\n",
        "\n",
        "  bounding_boxes = {\n",
        "    'classes': tensorflow.cast(\n",
        "      classes,\n",
        "      dtype=tensorflow.float32\n",
        "    ),\n",
        "    'boxes': bounderies\n",
        "  }\n",
        "\n",
        "  return {\n",
        "    label_dataset_images(): tensorflow.cast(\n",
        "      image,\n",
        "      dtype=tensorflow.float32\n",
        "    ),\n",
        "    'bounding_boxes': bounding_boxes\n",
        "  }"
      ],
      "metadata": {
        "id": "40nh-WavOrVi"
      }
    },
    {
      "cell_type": "code",
      "execution_count": null,
      "outputs": [],
      "source": [
        "if not is_dataset_saved:\n",
        "  number_of_validation: int = int(\n",
        "      size_of_annotations\n",
        "      *\n",
        "      dataset_split_at\n",
        "  )\n",
        "\n",
        "  dataset = dataset.shuffle(\n",
        "      get_shuffle_sample_by()\n",
        "  )\n",
        "\n",
        "  validation_data = dataset.take(\n",
        "      number_of_validation\n",
        "  )\n",
        "\n",
        "  training_data = dataset.skip(\n",
        "      number_of_validation\n",
        "  )\n",
        "\n",
        "  training_data = training_data.map(\n",
        "      load_dataset,\n",
        "      num_parallel_calls = prefetch_buffer_size\n",
        "  )\n",
        "\n",
        "  training_data = training_data.shuffle(\n",
        "      get_shuffle_sample_by()\n",
        "  )\n",
        "\n",
        "  training_data = training_data.ragged_batch(\n",
        "      batch_size,\n",
        "      drop_remainder = True\n",
        "  )\n",
        "\n",
        "  validation_data = validation_data.map(\n",
        "      load_dataset,\n",
        "      num_parallel_calls = prefetch_buffer_size\n",
        "  )\n",
        "\n",
        "  validation_data = validation_data.shuffle(\n",
        "      get_shuffle_sample_by()\n",
        "  )\n",
        "\n",
        "  validation_data = validation_data.ragged_batch(\n",
        "      batch_size,\n",
        "      drop_remainder = True\n",
        "  )"
      ],
      "metadata": {
        "id": "QqJLfNRGOrVi"
      }
    },
    {
      "cell_type": "code",
      "source": [
        "def dict_to_tuple(\n",
        "      inputs: dict\n",
        "  ) -> tuple:\n",
        "    bounding_boxes = bounding_box.to_dense(\n",
        "      inputs['bounding_boxes'],\n",
        "      max_boxes = 32\n",
        "    )\n",
        "\n",
        "    return (\n",
        "      inputs[\n",
        "        label_dataset_images()\n",
        "      ],\n",
        "      bounding_boxes\n",
        "    )"
      ],
      "metadata": {
        "id": "KXdkzJxi3z9h"
      },
      "execution_count": null,
      "outputs": []
    },
    {
      "cell_type": "code",
      "source": [
        "if not is_dataset_saved:\n",
        "  training_data = training_data.map(\n",
        "      resize_and_augmentations,\n",
        "      num_parallel_calls = prefetch_buffer_size\n",
        "  )\n",
        "\n",
        "  validation_data = validation_data.map(\n",
        "      resize_and_augmentations,\n",
        "      num_parallel_calls = prefetch_buffer_size\n",
        "  )\n"
      ],
      "metadata": {
        "id": "j3PrxTN73niR"
      },
      "execution_count": null,
      "outputs": []
    },
    {
      "cell_type": "code",
      "source": [
        "def flag_dataset_is_save() -> None:\n",
        "  global is_dataset_saved\n",
        "  if not is_dataset_saved:\n",
        "    is_dataset_saved = True"
      ],
      "metadata": {
        "id": "dfn-aWcGrPz0"
      },
      "execution_count": null,
      "outputs": []
    },
    {
      "cell_type": "code",
      "source": [
        "if not is_dataset_saved:\n",
        "  training_data = training_data.map(\n",
        "      dict_to_tuple,\n",
        "      num_parallel_calls = prefetch_buffer_size\n",
        "  )\n",
        "\n",
        "  validation_data = validation_data.map(\n",
        "      dict_to_tuple,\n",
        "      num_parallel_calls = prefetch_buffer_size\n",
        "  )\n",
        "\n",
        "  flag_dataset_is_save()"
      ],
      "metadata": {
        "id": "3p9dv5DK39pH"
      },
      "execution_count": null,
      "outputs": []
    },
    {
      "cell_type": "markdown",
      "metadata": {
        "id": "xmfHrdgjRoCZ"
      },
      "source": [
        "## Callbacks and training"
      ]
    },
    {
      "cell_type": "code",
      "execution_count": null,
      "metadata": {
        "id": "wOvRr-YNlAaV"
      },
      "outputs": [],
      "source": [
        "# @title Evaluate model by metrics { run: \"auto\", display-mode: \"code\" }\n",
        "def save_best_model():\n",
        "  global callbacks\n",
        "\n",
        "  for c in callbacks:\n",
        "    if isinstance(\n",
        "        c,\n",
        "        EvaluateCOCOMetricsByCallback\n",
        "    ):\n",
        "      pass\n",
        "\n",
        "class EvaluateCOCOMetricsByCallback(\n",
        "    Callback\n",
        "):\n",
        "  def __init__(\n",
        "      self,\n",
        "      data,\n",
        "      bounding_box: str,\n",
        "      evaluation_frequency: int = int(\n",
        "          1e9\n",
        "      )\n",
        "  ):\n",
        "    super().__init__()\n",
        "\n",
        "    self.data = data.cache(\n",
        "        get_save_cache_at_for_evaluation()\n",
        "    ).prefetch(\n",
        "        buffer_size = one()\n",
        "    )\n",
        "\n",
        "    self.metrics = BoxCOCOMetrics(\n",
        "        bounding_box_format = get_bounding_format(),\n",
        "        evaluate_freq = evaluation_frequency\n",
        "    )\n",
        "\n",
        "    self.save_directory: str = '/tmp/model.best.tf'\n",
        "    self.save_format: str = 'tf'\n",
        "\n",
        "    self.best_map = -1.0\n",
        "\n",
        "    self.wandb: dict = {\n",
        "        'best': None\n",
        "    }\n",
        "\n",
        "    self.save_best_version_of_model_to_wandb: bool = False\n",
        "\n",
        "  def is_to_save_best_version_of_model_to_wandb(self) -> bool:\n",
        "    return self.save_best_version_of_model_to_wandb\n",
        "\n",
        "  def get_best_map(\n",
        "    self\n",
        "  ):\n",
        "    return self.best_map\n",
        "\n",
        "  def set_best_map(\n",
        "    self,\n",
        "    value\n",
        "  ) -> None:\n",
        "    self.best_map = value\n",
        "\n",
        "  def is_best_map(\n",
        "    self,\n",
        "    evaluate_by\n",
        "  ):\n",
        "    return (\n",
        "        evaluate_by\n",
        "        >=\n",
        "        self.get_best_map()\n",
        "    )\n",
        "\n",
        "  def __save_bm_tp(\n",
        "    self\n",
        "  ) -> None:\n",
        "    best_model_artifact = wandb.Artifact(\n",
        "        name = 'best_yolo_model',\n",
        "        type = 'model'\n",
        "    )\n",
        "\n",
        "    best_model_artifact.add_dir(\n",
        "        self.save_directory\n",
        "    )\n",
        "\n",
        "    self.wandb['best'] = best_model_artifact\n",
        "\n",
        "    if self.is_to_save_best_version_of_model_to_wandb():\n",
        "      wandb.log_artifact(\n",
        "        best_model_artifact\n",
        "      )\n",
        "\n",
        "  def trigger_save_model(\n",
        "    self\n",
        "  ) -> None:\n",
        "    self.model.save(\n",
        "        self.save_directory,\n",
        "        overwrite = True,\n",
        "        save_format = self.save_format\n",
        "    )\n",
        "\n",
        "    self.__save_bm_tp()\n",
        "\n",
        "  def on_epoch_end(\n",
        "      self,\n",
        "      epoch,\n",
        "      logs\n",
        "  ):\n",
        "    self.metrics.reset_state()\n",
        "\n",
        "    for batch in self.data:\n",
        "      images, y_true = (\n",
        "          batch[\n",
        "              zero()\n",
        "          ],\n",
        "          batch[\n",
        "              one()\n",
        "          ]\n",
        "      )\n",
        "\n",
        "      y_pred = self.model.predict(\n",
        "          images,\n",
        "          verbose = zero()\n",
        "      )\n",
        "\n",
        "      self.metrics.update_state(\n",
        "          y_true,\n",
        "          y_pred\n",
        "      )\n",
        "\n",
        "    metrics = self.metrics.result(\n",
        "        force = True\n",
        "    )\n",
        "\n",
        "    logs.update(\n",
        "        metrics\n",
        "    )\n",
        "\n",
        "    current_map = metrics[\n",
        "        label_map()\n",
        "    ]\n",
        "\n",
        "    if self.is_best_map(\n",
        "        current_map\n",
        "    ):\n",
        "      self.set_best_map(\n",
        "          current_map\n",
        "      )\n",
        "      self.trigger_save_model()\n",
        "\n",
        "    return logs\n"
      ]
    },
    {
      "cell_type": "markdown",
      "metadata": {
        "id": "DkEhYvn40q88"
      },
      "source": [
        "## Setup of training and validation"
      ]
    },
    {
      "cell_type": "code",
      "source": [
        "treat_fit_as_seperate: bool = False"
      ],
      "metadata": {
        "id": "KMWY4H3My2TT"
      },
      "execution_count": null,
      "outputs": []
    },
    {
      "cell_type": "code",
      "source": [
        "def get_tensorboard_location():\n",
        "  global                      \\\n",
        "    location_for_tensorboard, \\\n",
        "    treat_fit_as_seperate\n",
        "\n",
        "  from time \\\n",
        "    import time_ns\n",
        "\n",
        "  if not treat_fit_as_seperate:\n",
        "    return location_for_tensorboard\n",
        "  else:\n",
        "    return join(\n",
        "        location_for_tensorboard,\n",
        "        str(\n",
        "            time_ns()\n",
        "        )\n",
        "    )"
      ],
      "metadata": {
        "id": "vcnxAhrzy383"
      },
      "execution_count": null,
      "outputs": []
    },
    {
      "cell_type": "code",
      "source": [
        "def generate_tensorboard_callback():\n",
        "  callback = TensorBoard(\n",
        "        log_dir                 = get_tensorboard_location(),\n",
        "        histogram_freq          = one(),\n",
        "        write_graph             = True,\n",
        "        write_images            = True,\n",
        "        write_steps_per_second  = True,\n",
        "        update_freq             = 'epoch',\n",
        "        embeddings_freq         = one()\n",
        "\n",
        "  )\n",
        "\n",
        "  return callback\n"
      ],
      "metadata": {
        "id": "PoDgi80fXAf0"
      },
      "execution_count": null,
      "outputs": []
    },
    {
      "cell_type": "code",
      "source": [
        "def refresh_tensorboard_callback():\n",
        "  global callbacks\n",
        "\n",
        "  size_of_callbacks = len(\n",
        "    callbacks\n",
        "  )\n",
        "\n",
        "  for idx in range(\n",
        "    size_of_callbacks\n",
        "  ):\n",
        "    callback = callbacks[idx]\n",
        "\n",
        "    if isinstance(\n",
        "        callback,\n",
        "        TensorBoard\n",
        "    ):\n",
        "      callbacks[idx] = generate_tensorboard_callback()"
      ],
      "metadata": {
        "id": "JDKMFG63TC7B"
      },
      "execution_count": null,
      "outputs": []
    },
    {
      "cell_type": "code",
      "source": [
        "histories: list = list()\n",
        "\n",
        "def get_histories() -> list:\n",
        "  global histories\n",
        "  return histories\n",
        "\n",
        "def set_histories(\n",
        "  value: list\n",
        ") -> None:\n",
        "  global histories\n",
        "  histories = value\n"
      ],
      "metadata": {
        "id": "8fBrVklc8W3m"
      },
      "execution_count": null,
      "outputs": []
    },
    {
      "cell_type": "code",
      "source": [
        "def append_history(\n",
        "  value\n",
        ") -> None:\n",
        "  global histories\n",
        "\n",
        "  histories.append(\n",
        "    value\n",
        "  )"
      ],
      "metadata": {
        "id": "iVJz0KSbyvg6"
      },
      "execution_count": null,
      "outputs": []
    },
    {
      "cell_type": "code",
      "source": [
        "def generate_callbacks():\n",
        "  callbacks: list = list()\n",
        "\n",
        "  callbacks.append(\n",
        "    WandbMetricsLogger()\n",
        "  )\n",
        "\n",
        "  callbacks.append(\n",
        "      generate_tensorboard_callback()\n",
        "  )\n",
        "\n",
        "  if use_coco_metrics:\n",
        "    callbacks.append(\n",
        "        EvaluateCOCOMetricsByCallback(\n",
        "            validation_data,\n",
        "            get_bounding_format()\n",
        "        )\n",
        "    )\n",
        "\n",
        "  return callbacks\n",
        "\n",
        "callbacks = generate_callbacks()"
      ],
      "metadata": {
        "id": "1z26wGeZv_wo"
      },
      "execution_count": null,
      "outputs": []
    },
    {
      "cell_type": "code",
      "source": [
        "# @title { run: \"auto\", display-mode: \"code\" }\n",
        "def refresh_dataset():\n",
        "  global              \\\n",
        "    batch_size,       \\\n",
        "    training_data,    \\\n",
        "    validation_data,  \\\n",
        "    shuffle_sample_by\n",
        "\n",
        "  training_data = training_data.shuffle(\n",
        "    shuffle_sample_by\n",
        "  )\n",
        "\n",
        "  validation_data = validation_data.shuffle(\n",
        "    shuffle_sample_by\n",
        "  )\n"
      ],
      "metadata": {
        "id": "q_2VzrD3hk0K"
      },
      "execution_count": null,
      "outputs": []
    },
    {
      "cell_type": "code",
      "source": [
        "def flag_evaluation_has_run():\n",
        "  global eval_has_run\n",
        "\n",
        "  if not eval_has_run:\n",
        "    eval_has_run = True\n",
        "\n",
        "def get_evaluation_batch_size() -> int:\n",
        "  return int(\n",
        "    get_batch_size()\n",
        "  )"
      ],
      "metadata": {
        "id": "j6KTmuKPyrZM"
      },
      "execution_count": null,
      "outputs": []
    },
    {
      "cell_type": "code",
      "source": [
        "# @title { run: \"auto\", display-mode: \"code\" }\n",
        "def range_for_histories_size():\n",
        "  global histories\n",
        "\n",
        "  return range(\n",
        "      len(\n",
        "          histories\n",
        "      )\n",
        "  )\n",
        "\n",
        "def append_history_to_log(\n",
        "  history\n",
        "):\n",
        "  global histories\n",
        "\n",
        "  histories.append(\n",
        "      history.history\n",
        "  )"
      ],
      "metadata": {
        "id": "aJ272yFJjoqt"
      },
      "execution_count": null,
      "outputs": []
    },
    {
      "cell_type": "code",
      "source": [
        "def retrieve_location_for_best_model():\n",
        "  global callbacks\n",
        "\n",
        "  location_of_best_model: None | str = None\n",
        "\n",
        "  for callback in callbacks:\n",
        "    if isinstance(\n",
        "        callback,\n",
        "        EvaluateCOCOMetricsByCallback\n",
        "    ):\n",
        "      location_of_best_model: str = callback.save_directory\n",
        "\n",
        "  return location_of_best_model"
      ],
      "metadata": {
        "id": "JJkZQfIxyCxH"
      },
      "execution_count": null,
      "outputs": []
    },
    {
      "cell_type": "code",
      "source": [
        "def set_model(\n",
        "  value: Model\n",
        ") -> None:\n",
        "  global model\n",
        "  model = value"
      ],
      "metadata": {
        "id": "nD02tYZUyqhi"
      },
      "execution_count": null,
      "outputs": []
    },
    {
      "cell_type": "code",
      "source": [
        "def get_model() -> Model:\n",
        "  global model\n",
        "  return model"
      ],
      "metadata": {
        "id": "Jfr9HXOXyn4k"
      },
      "execution_count": null,
      "outputs": []
    },
    {
      "cell_type": "code",
      "source": [
        "def save_model() -> None:\n",
        "  global load_model_from\n",
        "\n",
        "  get_model().save(\n",
        "      load_model_from,\n",
        "      save_format = 'tf'\n",
        "  )"
      ],
      "metadata": {
        "id": "b4Xq7UIeylMs"
      },
      "execution_count": null,
      "outputs": []
    },
    {
      "cell_type": "code",
      "source": [
        "def get_autotune():\n",
        "  from tensorflow.data import AUTOTUNE\n",
        "  return AUTOTUNE"
      ],
      "metadata": {
        "id": "0K7wdsBZed7g"
      },
      "execution_count": null,
      "outputs": []
    },
    {
      "cell_type": "code",
      "execution_count": null,
      "metadata": {
        "id": "2He8nWNGuaTI"
      },
      "outputs": [],
      "source": [
        "# @title Training Loop { run: \"auto\", display-mode: \"code\" }\n",
        "def training_of_model(\n",
        "  use_of_multiprocessing: bool,\n",
        "  use_of_workers: int\n",
        ") -> None:\n",
        "  global                          \\\n",
        "    training_data,                \\\n",
        "    validation_data,              \\\n",
        "    callbacks,                    \\\n",
        "    tensorflow_verbosity,         \\\n",
        "    subsample_from_dataset,       \\\n",
        "    save_cache_at_for_training,   \\\n",
        "    save_cache_at_for_validation\n",
        "\n",
        "  history = get_model().fit(\n",
        "    training_data.cache(\n",
        "        save_cache_at_for_training\n",
        "    ).prefetch(\n",
        "        buffer_size = get_autotune()\n",
        "    ),\n",
        "    validation_data         = validation_data.cache(\n",
        "        save_cache_at_for_validation\n",
        "    ).prefetch(\n",
        "        buffer_size = get_autotune()\n",
        "    ),\n",
        "    epochs                  = get_epochs(),\n",
        "    callbacks               = callbacks,\n",
        "    workers                 = use_of_workers,\n",
        "    use_multiprocessing     = use_of_multiprocessing,\n",
        "    verbose                 = tensorflow_verbosity\n",
        "  )\n",
        "\n",
        "  append_history_to_log(\n",
        "      history\n",
        "  )"
      ]
    },
    {
      "cell_type": "code",
      "source": [
        "def training_process():\n",
        "  global                    \\\n",
        "    iterate_training,       \\\n",
        "    use_of_multiprocessing, \\\n",
        "    use_of_workers\n",
        "\n",
        "  for i in range(\n",
        "    iterate_training\n",
        "  ):\n",
        "    training_of_model(\n",
        "        use_of_multiprocessing,\n",
        "        use_of_workers\n",
        "    )\n",
        "\n",
        "    load_best_model()\n",
        "    refresh_tensorboard_callback()"
      ],
      "metadata": {
        "id": "j2F7nSs3bkO6"
      },
      "execution_count": null,
      "outputs": []
    },
    {
      "cell_type": "code",
      "source": [
        "def is_to_stop_when_done() -> None:\n",
        "  global stop_when_done\n",
        "\n",
        "  if stop_when_done:\n",
        "    raise Exception(\n",
        "        'Done'\n",
        "    )"
      ],
      "metadata": {
        "id": "ZMZb88sH8AuI"
      },
      "execution_count": null,
      "outputs": []
    },
    {
      "cell_type": "code",
      "source": [
        "def load_best_model() -> None:\n",
        "  get_model().load_weights(\n",
        "    retrieve_location_for_best_model()\n",
        "  )"
      ],
      "metadata": {
        "id": "4fngE1q-a7mY"
      },
      "execution_count": null,
      "outputs": []
    },
    {
      "cell_type": "code",
      "source": [
        "def training() -> None:\n",
        "  training_process()\n",
        "  save_model()\n",
        "  is_to_stop_when_done()"
      ],
      "metadata": {
        "id": "F6feTk4SenT1"
      },
      "execution_count": null,
      "outputs": []
    },
    {
      "cell_type": "code",
      "source": [
        "training()"
      ],
      "metadata": {
        "id": "xqPDd4_i-NDU"
      },
      "execution_count": null,
      "outputs": []
    },
    {
      "cell_type": "code",
      "source": [
        "model_assets_location: str = join(\n",
        "    load_model_from,\n",
        "    'assets'\n",
        ")\n",
        "\n",
        "if not isdir(\n",
        "    model_assets_location\n",
        "):\n",
        "  mkdir(\n",
        "      model_assets_location\n",
        "  )"
      ],
      "metadata": {
        "id": "BtdBEI5N5UHe"
      },
      "execution_count": null,
      "outputs": []
    },
    {
      "cell_type": "code",
      "source": [
        "def save_current_model() -> None:\n",
        "  global model_artifact\n",
        "\n",
        "  model_artifact.description = 'Trained the model'\n",
        "  model_artifact.save()"
      ],
      "metadata": {
        "id": "JauYUMU04esR"
      },
      "execution_count": null,
      "outputs": []
    },
    {
      "cell_type": "code",
      "source": [
        "def make_new_model_version() -> None:\n",
        "  global model_artifact\n",
        "\n",
        "  model_artifact = wandb.Artifact(\n",
        "    name='tensorflow__mjoelner_model',\n",
        "      type='model'\n",
        "  )\n",
        "\n",
        "  model_artifact.description = 'Trained the model'\n",
        "\n",
        "  model_artifact.add_dir(\n",
        "    load_model_from\n",
        "  )"
      ],
      "metadata": {
        "id": "p4f_4Qjp4jLQ"
      },
      "execution_count": null,
      "outputs": []
    },
    {
      "cell_type": "code",
      "source": [
        "model_asset_log_location: str = join(\n",
        "    model_assets_location,\n",
        "    'logs'\n",
        ")\n",
        "\n",
        "if not isdir(\n",
        "    model_asset_log_location\n",
        "):\n",
        "  mkdir(\n",
        "      model_asset_log_location\n",
        "  )\n",
        "\n",
        "current = datetime.now()\n",
        "\n",
        "trained_on_str: str = str(\n",
        "    current.strftime('%Y-%m-%d, %H:%M')\n",
        ")\n",
        "\n",
        "with open(\n",
        "    join(\n",
        "        model_asset_log_location,\n",
        "        'trained_on.log'\n",
        "    ),\n",
        "    'a'\n",
        ") as write_to_log:\n",
        "  write_to_log.write(\n",
        "      str(\n",
        "          trained_on_str + '\\n'\n",
        "      )\n",
        "  )\n",
        "\n",
        "if get_is_to_fork_model():\n",
        "  make_new_model_version()\n",
        "else:\n",
        "  save_current_model()\n",
        "\n",
        "wandb.log_artifact(\n",
        "    model_artifact\n",
        ")"
      ],
      "metadata": {
        "id": "2D7JwGlAiaqG"
      },
      "execution_count": null,
      "outputs": []
    },
    {
      "cell_type": "markdown",
      "metadata": {
        "id": "fkXKeKcuXzdq"
      },
      "source": [
        "## Done"
      ]
    },
    {
      "cell_type": "code",
      "execution_count": null,
      "metadata": {
        "id": "HB8ZZlTYkxLs"
      },
      "outputs": [],
      "source": [
        "# @title Shutdown Process { run: \"auto\", display-mode: \"code\" }\n",
        "if use_of_wandb:\n",
        "  if finish_wandb_when_done:\n",
        "    finish()\n",
        "\n",
        "if shutdown_on_finish:\n",
        "  if is_google_colab_platform:\n",
        "    runtime.unassign()"
      ]
    }
  ],
  "metadata": {
    "accelerator": "GPU",
    "colab": {
      "cell_execution_strategy": "setup",
      "gpuType": "T4",
      "name": "Mjoelner - Training Only (Current Iteration)",
      "provenance": [],
      "private_outputs": true
    },
    "kernelspec": {
      "display_name": "Python 3",
      "name": "python3"
    }
  },
  "nbformat": 4,
  "nbformat_minor": 0
}