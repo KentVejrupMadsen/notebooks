{
 "cells": [
  {
   "cell_type": "code",
   "execution_count": null,
   "id": "de2c80d7927ae084",
   "metadata": {
    "ExecuteTime": {
     "end_time": "2024-01-18T19:23:10.813788100Z",
     "start_time": "2024-01-18T19:23:07.181116200Z"
    },
    "collapsed": false
   },
   "outputs": [],
   "source": [
    "%pip install ipympl -q\n",
    "%pip install numpy -q\n",
    "%pip install wheel\n",
    "\n",
    "%pip install keras -q\n",
    "%pip install keras-cv -q\n",
    "\n",
    "%pip install matplotlib -q"
   ]
  },
  {
   "cell_type": "code",
   "execution_count": 1,
   "id": "bc7a0b0e",
   "metadata": {
    "ExecuteTime": {
     "end_time": "2024-01-23T18:09:35.585505900Z",
     "start_time": "2024-01-23T18:09:35.584503300Z"
    }
   },
   "outputs": [],
   "source": [
    "location_to_saved_model: str = '/home/spectre/environment_model.keras'"
   ]
  },
  {
   "cell_type": "code",
   "execution_count": 2,
   "id": "f54f7a7880613789",
   "metadata": {
    "collapsed": false,
    "ExecuteTime": {
     "end_time": "2024-01-23T18:09:40.631446500Z",
     "start_time": "2024-01-23T18:09:37.362739300Z"
    }
   },
   "outputs": [
    {
     "name": "stderr",
     "output_type": "stream",
     "text": [
      "2024-01-23 19:09:38.043331: I tensorflow/core/util/port.cc:113] oneDNN custom operations are on. You may see slightly different numerical results due to floating-point round-off errors from different computation orders. To turn them off, set the environment variable `TF_ENABLE_ONEDNN_OPTS=0`.\n",
      "2024-01-23 19:09:38.195312: E external/local_xla/xla/stream_executor/cuda/cuda_dnn.cc:9261] Unable to register cuDNN factory: Attempting to register factory for plugin cuDNN when one has already been registered\n",
      "2024-01-23 19:09:38.195422: E external/local_xla/xla/stream_executor/cuda/cuda_fft.cc:607] Unable to register cuFFT factory: Attempting to register factory for plugin cuFFT when one has already been registered\n",
      "2024-01-23 19:09:38.217919: E external/local_xla/xla/stream_executor/cuda/cuda_blas.cc:1515] Unable to register cuBLAS factory: Attempting to register factory for plugin cuBLAS when one has already been registered\n",
      "2024-01-23 19:09:38.274830: I tensorflow/core/platform/cpu_feature_guard.cc:182] This TensorFlow binary is optimized to use available CPU instructions in performance-critical operations.\n",
      "To enable the following instructions: AVX2 AVX_VNNI FMA, in other operations, rebuild TensorFlow with the appropriate compiler flags.\n",
      "2024-01-23 19:09:39.370043: W tensorflow/compiler/tf2tensorrt/utils/py_utils.cc:38] TF-TRT Warning: Could not find TensorRT\n",
      "2024-01-23 19:09:40.428192: I external/local_xla/xla/stream_executor/cuda/cuda_executor.cc:887] could not open file to read NUMA node: /sys/bus/pci/devices/0000:01:00.0/numa_node\n",
      "Your kernel may have been built without NUMA support.\n",
      "2024-01-23 19:09:40.621173: I external/local_xla/xla/stream_executor/cuda/cuda_executor.cc:887] could not open file to read NUMA node: /sys/bus/pci/devices/0000:01:00.0/numa_node\n",
      "Your kernel may have been built without NUMA support.\n",
      "2024-01-23 19:09:40.621217: I external/local_xla/xla/stream_executor/cuda/cuda_executor.cc:887] could not open file to read NUMA node: /sys/bus/pci/devices/0000:01:00.0/numa_node\n",
      "Your kernel may have been built without NUMA support.\n"
     ]
    }
   ],
   "source": [
    "import tensorflow\n",
    "\n",
    "gpus = tensorflow.config.list_physical_devices(\n",
    "    'GPU'\n",
    ")"
   ]
  },
  {
   "cell_type": "code",
   "execution_count": 3,
   "id": "78efad1525675374",
   "metadata": {
    "collapsed": false,
    "ExecuteTime": {
     "end_time": "2024-01-23T18:09:41.410578Z",
     "start_time": "2024-01-23T18:09:41.403917900Z"
    }
   },
   "outputs": [],
   "source": [
    "nvidia_maximum_limit_for_gpu_memory: int = 5950\n",
    "\n",
    "if gpus:\n",
    "    try:\n",
    "        for gpu in gpus:\n",
    "            tensorflow.config.set_logical_device_configuration(\n",
    "                gpu, \n",
    "                [\n",
    "                    tensorflow.config.LogicalDeviceConfiguration(\n",
    "                        memory_limit=nvidia_maximum_limit_for_gpu_memory\n",
    "                    )\n",
    "                ]\n",
    "            )\n",
    "    except RuntimeError as e:\n",
    "        print(e)\n",
    "\n",
    "location_to_dataset: str = '/tmp/dataset'\n",
    "name_of_location: str = 'LocationDataset'"
   ]
  },
  {
   "cell_type": "code",
   "execution_count": null,
   "id": "310e84fc8812f558",
   "metadata": {
    "ExecuteTime": {
     "end_time": "2024-01-18T20:16:45.666949Z",
     "start_time": "2024-01-18T20:16:45.660408900Z"
    },
    "collapsed": false
   },
   "outputs": [],
   "source": [
    "from os.path import isdir\n",
    "from shutil import rmtree\n",
    "\n",
    "if isdir(\n",
    "    location_to_dataset\n",
    "):  \n",
    "    rmtree(\n",
    "        location_to_dataset\n",
    "    )"
   ]
  },
  {
   "cell_type": "code",
   "execution_count": null,
   "id": "ca6d21dd0abba9c6",
   "metadata": {
    "ExecuteTime": {
     "end_time": "2024-01-18T18:41:59.572684800Z",
     "start_time": "2024-01-18T18:41:59.569069700Z"
    },
    "collapsed": false
   },
   "outputs": [],
   "source": [
    "if isdir(\n",
    "    name_of_location\n",
    "):\n",
    "    rmtree(\n",
    "        name_of_location\n",
    "    )"
   ]
  },
  {
   "cell_type": "code",
   "execution_count": 1,
   "id": "3158f2350e9373ef",
   "metadata": {
    "collapsed": false,
    "ExecuteTime": {
     "end_time": "2024-01-22T22:28:39.361977Z",
     "start_time": "2024-01-22T22:14:33.164945500Z"
    }
   },
   "outputs": [
    {
     "name": "stdout",
     "output_type": "stream",
     "text": [
      "Anubis\tDefault  Dust-II  Mirage  Vertigo\r\n"
     ]
    }
   ],
   "source": [
    "!git clone https://github.com/TargetSpectre/Location-Identification-DataSet.git {name_of_location} -q\n",
    "\n",
    "!mv ./{name_of_location}/DataSet {location_to_dataset}\n",
    "!ls {location_to_dataset}"
   ]
  },
  {
   "cell_type": "markdown",
   "id": "ed941738",
   "metadata": {},
   "source": [
    "# "
   ]
  },
  {
   "cell_type": "code",
   "execution_count": 4,
   "id": "8b0d20fc90b41c40",
   "metadata": {
    "collapsed": false,
    "ExecuteTime": {
     "end_time": "2024-01-23T18:09:49.064282100Z",
     "start_time": "2024-01-23T18:09:49.058760600Z"
    }
   },
   "outputs": [
    {
     "name": "stdout",
     "output_type": "stream",
     "text": [
      "['Anubis', 'Default', 'Dust-II', 'Mirage', 'Vertigo']\n"
     ]
    }
   ],
   "source": [
    "from os import listdir\n",
    "from os.path import join\n",
    "\n",
    "labels: list = list()\n",
    "found_dirs = listdir(\n",
    "    location_to_dataset\n",
    ")\n",
    "\n",
    "for idx in range(\n",
    "    len(\n",
    "        found_dirs\n",
    "    )\n",
    "):\n",
    "    selected = found_dirs[idx]\n",
    "    labels.append(\n",
    "        selected\n",
    "    )\n",
    "\n",
    "    found_dirs[idx] = join(\n",
    "        location_to_dataset, \n",
    "        selected\n",
    "    )\n",
    "\n",
    "labels.sort()\n",
    "\n",
    "print(\n",
    "    labels\n",
    ")"
   ]
  },
  {
   "cell_type": "code",
   "execution_count": 5,
   "id": "8106168a00a72e9f",
   "metadata": {
    "collapsed": false,
    "ExecuteTime": {
     "end_time": "2024-01-23T18:09:50.831343600Z",
     "start_time": "2024-01-23T18:09:50.825477300Z"
    }
   },
   "outputs": [],
   "source": [
    "from random import SystemRandom\n",
    "from keras.utils import image_dataset_from_directory"
   ]
  },
  {
   "cell_type": "code",
   "execution_count": 6,
   "id": "bb75f414c9431633",
   "metadata": {
    "collapsed": false,
    "ExecuteTime": {
     "end_time": "2024-01-23T18:09:56.281304900Z",
     "start_time": "2024-01-23T18:09:53.631558700Z"
    }
   },
   "outputs": [
    {
     "name": "stdout",
     "output_type": "stream",
     "text": [
      "Found 12300 files belonging to 5 classes.\n",
      "Using 9225 files for training.\n"
     ]
    },
    {
     "name": "stderr",
     "output_type": "stream",
     "text": [
      "2024-01-23 19:09:54.053568: I external/local_xla/xla/stream_executor/cuda/cuda_executor.cc:887] could not open file to read NUMA node: /sys/bus/pci/devices/0000:01:00.0/numa_node\n",
      "Your kernel may have been built without NUMA support.\n",
      "2024-01-23 19:09:54.053656: I external/local_xla/xla/stream_executor/cuda/cuda_executor.cc:887] could not open file to read NUMA node: /sys/bus/pci/devices/0000:01:00.0/numa_node\n",
      "Your kernel may have been built without NUMA support.\n",
      "2024-01-23 19:09:54.053673: I external/local_xla/xla/stream_executor/cuda/cuda_executor.cc:887] could not open file to read NUMA node: /sys/bus/pci/devices/0000:01:00.0/numa_node\n",
      "Your kernel may have been built without NUMA support.\n",
      "2024-01-23 19:09:54.375679: I external/local_xla/xla/stream_executor/cuda/cuda_executor.cc:887] could not open file to read NUMA node: /sys/bus/pci/devices/0000:01:00.0/numa_node\n",
      "Your kernel may have been built without NUMA support.\n",
      "2024-01-23 19:09:54.375708: I tensorflow/core/common_runtime/gpu/gpu_device.cc:2022] Could not identify NUMA node of platform GPU id 0, defaulting to 0.  Your kernel may not have been built with NUMA support.\n",
      "2024-01-23 19:09:54.375742: I external/local_xla/xla/stream_executor/cuda/cuda_executor.cc:887] could not open file to read NUMA node: /sys/bus/pci/devices/0000:01:00.0/numa_node\n",
      "Your kernel may have been built without NUMA support.\n",
      "2024-01-23 19:09:54.375765: I external/local_xla/xla/stream_executor/cuda/cuda_executor.cc:887] could not open file to read NUMA node: /sys/bus/pci/devices/0000:01:00.0/numa_node\n",
      "Your kernel may have been built without NUMA support.\n",
      "2024-01-23 19:09:54.375816: I tensorflow/core/common_runtime/gpu/gpu_device.cc:1929] Created device /job:localhost/replica:0/task:0/device:GPU:0 with 5950 MB memory:  -> device: 0, name: NVIDIA GeForce RTX 4050 Laptop GPU, pci bus id: 0000:01:00.0, compute capability: 8.9\n",
      "2024-01-23 19:09:55.021192: I external/local_tsl/tsl/platform/default/subprocess.cc:304] Start cannot spawn child process: No such file or directory\n"
     ]
    },
    {
     "name": "stdout",
     "output_type": "stream",
     "text": [
      "Found 12300 files belonging to 5 classes.\n",
      "Using 3075 files for validation.\n"
     ]
    }
   ],
   "source": [
    "batch_size: int = 2\n",
    "\n",
    "vision_width: int = 960\n",
    "vision_height: int = 540\n",
    "\n",
    "maximum_value: int = 65535\n",
    "\n",
    "training_dataset = image_dataset_from_directory(\n",
    "    location_to_dataset,\n",
    "    labels                  = 'inferred',\n",
    "    label_mode              = 'categorical',\n",
    "    color_mode              = 'rgb',\n",
    "    batch_size              = batch_size,\n",
    "    image_size              = (\n",
    "        vision_height, \n",
    "        vision_width\n",
    "    ),\n",
    "    shuffle                 = True,\n",
    "    crop_to_aspect_ratio    = True,\n",
    "    subset                  = 'training',\n",
    "    validation_split        = 0.25,\n",
    "    seed                    = SystemRandom().randint(\n",
    "        1, \n",
    "        maximum_value\n",
    "    )\n",
    ")\n",
    "\n",
    "validation_dataset = image_dataset_from_directory(\n",
    "    location_to_dataset,\n",
    "    labels                  = 'inferred',\n",
    "    label_mode              = 'categorical',\n",
    "    color_mode              = 'rgb',\n",
    "    batch_size              = batch_size,\n",
    "    image_size              = (\n",
    "        vision_height, \n",
    "        vision_width\n",
    "    ),\n",
    "    shuffle                 = True,\n",
    "    crop_to_aspect_ratio    = True,\n",
    "    subset                  = 'validation',\n",
    "    validation_split        = 0.25,\n",
    "    seed                    = SystemRandom().randint(\n",
    "        1, \n",
    "        maximum_value\n",
    "    )\n",
    ")"
   ]
  },
  {
   "cell_type": "code",
   "execution_count": 7,
   "id": "22c3fadb35bf6cec",
   "metadata": {
    "collapsed": false,
    "ExecuteTime": {
     "end_time": "2024-01-23T18:10:00.471846500Z",
     "start_time": "2024-01-23T18:10:00.466046100Z"
    }
   },
   "outputs": [],
   "source": [
    "from keras import layers\n",
    "from keras.models import Model"
   ]
  },
  {
   "cell_type": "code",
   "execution_count": 26,
   "id": "7790bd5030f226ca",
   "metadata": {
    "collapsed": false,
    "ExecuteTime": {
     "end_time": "2024-01-23T18:11:49.521811100Z",
     "start_time": "2024-01-23T18:11:49.455639900Z"
    }
   },
   "outputs": [],
   "source": [
    "input_layer = layers.Input(\n",
    "    shape=(\n",
    "        vision_height, \n",
    "        vision_width, \n",
    "        3\n",
    "    )\n",
    ")\n",
    "\n",
    "input_layer = layers.Rescaling(\n",
    "    1./255\n",
    ")(\n",
    "    input_layer\n",
    ")\n",
    "\n",
    "initial_filter_layer_size: int = 4\n",
    "\n",
    "middle_layers = layers.Conv2D(\n",
    "    initial_filter_layer_size, \n",
    "    kernel_size = (\n",
    "        2, \n",
    "        2\n",
    "    ), \n",
    "    activation  = 'relu', \n",
    "    padding     = 'same'\n",
    ")(input_layer)\n",
    "\n",
    "middle_layers = layers.Conv2D(\n",
    "    initial_filter_layer_size, \n",
    "    kernel_size = (\n",
    "        2, \n",
    "        2\n",
    "    ), \n",
    "    activation  = 'relu', \n",
    "    padding     = 'same'\n",
    ")(middle_layers)\n",
    "\n",
    "middle_layers = layers.Conv2D(\n",
    "    initial_filter_layer_size, \n",
    "    kernel_size = (\n",
    "        2, \n",
    "        2\n",
    "    ), \n",
    "    activation  = 'relu', \n",
    "    padding     = 'same'\n",
    ")(middle_layers)\n",
    "\n",
    "middle_layers = layers.Conv2D(\n",
    "    initial_filter_layer_size, \n",
    "    kernel_size = (\n",
    "        2, \n",
    "        2\n",
    "    ), \n",
    "    activation  = 'relu', \n",
    "    padding     = 'same'\n",
    ")(middle_layers)\n",
    "\n",
    "middle_layers = layers.BatchNormalization()(\n",
    "    middle_layers\n",
    ")\n",
    "\n",
    "middle_layers = layers.MaxPooling2D(\n",
    "    pool_size   = 2, \n",
    "    strides     = 2, \n",
    "    padding     = 'same'\n",
    ")(middle_layers)"
   ]
  },
  {
   "cell_type": "code",
   "execution_count": 27,
   "id": "86e20ccdcbb64cd3",
   "metadata": {
    "collapsed": false,
    "ExecuteTime": {
     "end_time": "2024-01-23T18:12:00.286890800Z",
     "start_time": "2024-01-23T18:12:00.234080700Z"
    }
   },
   "outputs": [],
   "source": [
    "first_filter_layer_size: int = 8\n",
    "\n",
    "middle_layers = layers.Conv2D(\n",
    "    first_filter_layer_size, \n",
    "    kernel_size = (\n",
    "        2, \n",
    "        2\n",
    "    ), \n",
    "    activation  = 'relu', \n",
    "    padding     = 'same'\n",
    ")(middle_layers)\n",
    "\n",
    "middle_layers = layers.Conv2D(\n",
    "    first_filter_layer_size, \n",
    "    kernel_size = (\n",
    "        2, \n",
    "        2\n",
    "    ), \n",
    "    activation  = 'relu', \n",
    "    padding     = 'same'\n",
    ")(middle_layers)\n",
    "\n",
    "middle_layers = layers.Conv2D(\n",
    "    first_filter_layer_size, \n",
    "    kernel_size = (\n",
    "        2, \n",
    "        2\n",
    "    ), \n",
    "    activation  = 'relu', \n",
    "    padding     = 'same'\n",
    ")(middle_layers)\n",
    "\n",
    "middle_layers = layers.Conv2D(\n",
    "    first_filter_layer_size, \n",
    "    kernel_size = (\n",
    "        2, \n",
    "        2\n",
    "    ), \n",
    "    activation  = 'relu', \n",
    "    padding     = 'same'\n",
    ")(middle_layers)\n",
    "\n",
    "middle_layers = layers.BatchNormalization()(\n",
    "    middle_layers\n",
    ")\n",
    "\n",
    "middle_layers = layers.MaxPooling2D(\n",
    "    pool_size   = 2, \n",
    "    strides     = 2, \n",
    "    padding     = 'same'\n",
    ")(middle_layers)\n"
   ]
  },
  {
   "cell_type": "code",
   "execution_count": 28,
   "id": "29f37113d29873f8",
   "metadata": {
    "collapsed": false,
    "ExecuteTime": {
     "end_time": "2024-01-23T18:12:03.051831100Z",
     "start_time": "2024-01-23T18:12:02.991787600Z"
    }
   },
   "outputs": [],
   "source": [
    "second_filter_layer_size: int = 16\n",
    "\n",
    "middle_layers = layers.Conv2D(\n",
    "    second_filter_layer_size, \n",
    "    kernel_size=(2, 2), \n",
    "    activation='relu', \n",
    "    padding='same'\n",
    ")(middle_layers)\n",
    "\n",
    "middle_layers = layers.Conv2D(\n",
    "    second_filter_layer_size, \n",
    "    kernel_size=(2, 2), \n",
    "    activation='relu', \n",
    "    padding='same'\n",
    ")(middle_layers)\n",
    "\n",
    "middle_layers = layers.Conv2D(\n",
    "    second_filter_layer_size, \n",
    "    kernel_size=(2, 2), \n",
    "    activation='relu', \n",
    "    padding='same'\n",
    ")(middle_layers)\n",
    "\n",
    "middle_layers = layers.Conv2D(\n",
    "    second_filter_layer_size, \n",
    "    kernel_size=(2, 2), \n",
    "    activation='relu', \n",
    "    padding='same'\n",
    ")(middle_layers)\n",
    "\n",
    "middle_layers = layers.BatchNormalization()(\n",
    "    middle_layers\n",
    ")\n",
    "\n",
    "middle_layers = layers.MaxPooling2D(\n",
    "    pool_size=2, \n",
    "    strides=2, \n",
    "    padding='same'\n",
    ")(middle_layers)"
   ]
  },
  {
   "cell_type": "code",
   "execution_count": 29,
   "id": "57d6f2032cfd1d02",
   "metadata": {
    "collapsed": false,
    "ExecuteTime": {
     "end_time": "2024-01-23T18:12:05.020425900Z",
     "start_time": "2024-01-23T18:12:04.967216600Z"
    }
   },
   "outputs": [],
   "source": [
    "third_filter_layer_size: int = 32\n",
    "\n",
    "middle_layers = layers.Conv2D(\n",
    "    third_filter_layer_size, \n",
    "    kernel_size=(2, 2), \n",
    "    activation='relu', \n",
    "    padding='same'\n",
    ")(middle_layers)\n",
    "\n",
    "middle_layers = layers.Conv2D(\n",
    "    third_filter_layer_size, \n",
    "    kernel_size=(2, 2), \n",
    "    activation='relu', \n",
    "    padding='same'\n",
    ")(middle_layers)\n",
    "\n",
    "middle_layers = layers.Conv2D(\n",
    "    third_filter_layer_size, \n",
    "    kernel_size=(2, 2), \n",
    "    activation='relu', \n",
    "    padding='same'\n",
    ")(middle_layers)\n",
    "\n",
    "middle_layers = layers.Conv2D(\n",
    "    third_filter_layer_size, \n",
    "    kernel_size=(2, 2), \n",
    "    activation='relu', \n",
    "    padding='same'\n",
    ")(middle_layers)\n",
    "\n",
    "middle_layers = layers.BatchNormalization()(\n",
    "    middle_layers\n",
    ")\n",
    "\n",
    "middle_layers = layers.MaxPooling2D(\n",
    "    pool_size=2, \n",
    "    strides=2, \n",
    "    padding='same'\n",
    ")(middle_layers)"
   ]
  },
  {
   "cell_type": "code",
   "execution_count": 30,
   "id": "8d9d63cdbfc842e8",
   "metadata": {
    "collapsed": false,
    "ExecuteTime": {
     "end_time": "2024-01-23T18:12:07.968476500Z",
     "start_time": "2024-01-23T18:12:07.917577900Z"
    }
   },
   "outputs": [],
   "source": [
    "four_filter_layer_size: int = 64\n",
    "\n",
    "middle_layers = layers.Conv2D(\n",
    "    four_filter_layer_size, \n",
    "    kernel_size=(2, 2), \n",
    "    activation='relu', \n",
    "    padding='same'\n",
    ")(middle_layers)\n",
    "\n",
    "middle_layers = layers.Conv2D(\n",
    "    four_filter_layer_size, \n",
    "    kernel_size=(2, 2), \n",
    "    activation='relu', \n",
    "    padding='same'\n",
    ")(middle_layers)\n",
    "\n",
    "middle_layers = layers.Conv2D(\n",
    "    four_filter_layer_size, \n",
    "    kernel_size=(2, 2), \n",
    "    activation='relu', \n",
    "    padding='same'\n",
    ")(middle_layers)\n",
    "\n",
    "middle_layers = layers.Conv2D(\n",
    "    four_filter_layer_size, \n",
    "    kernel_size=(2, 2), \n",
    "    activation='relu', \n",
    "    padding='same'\n",
    ")(middle_layers)\n",
    "\n",
    "middle_layers = layers.BatchNormalization()(\n",
    "    middle_layers\n",
    ")\n",
    "\n",
    "middle_layers = layers.MaxPooling2D(\n",
    "    pool_size=2, \n",
    "    strides=2, \n",
    "    padding='same'\n",
    ")(middle_layers)\n"
   ]
  },
  {
   "cell_type": "code",
   "execution_count": 31,
   "id": "1dd3f9f0",
   "metadata": {
    "ExecuteTime": {
     "end_time": "2024-01-23T18:12:10.717346100Z",
     "start_time": "2024-01-23T18:12:10.679492100Z"
    }
   },
   "outputs": [],
   "source": [
    "fifth_filter_layer_size: int = 96\n",
    "\n",
    "middle_layers = layers.Conv2D(\n",
    "    fifth_filter_layer_size, \n",
    "    kernel_size=(2, 2), \n",
    "    activation='relu', \n",
    "    padding='same'\n",
    ")(middle_layers)\n",
    "\n",
    "middle_layers = layers.Conv2D(\n",
    "    fifth_filter_layer_size, \n",
    "    kernel_size=(2, 2), \n",
    "    activation='relu', \n",
    "    padding='same'\n",
    ")(middle_layers)\n",
    "\n",
    "middle_layers = layers.BatchNormalization()(\n",
    "    middle_layers\n",
    ")\n",
    "\n",
    "middle_layers = layers.MaxPooling2D(\n",
    "    pool_size=2, \n",
    "    strides=2, \n",
    "    padding='same'\n",
    ")(middle_layers)"
   ]
  },
  {
   "cell_type": "code",
   "execution_count": 32,
   "id": "91ba82b0",
   "metadata": {
    "ExecuteTime": {
     "end_time": "2024-01-23T18:12:12.870088700Z",
     "start_time": "2024-01-23T18:12:12.861295200Z"
    }
   },
   "outputs": [],
   "source": [
    "middle_layers = layers.Flatten()(\n",
    "    middle_layers\n",
    ")"
   ]
  },
  {
   "cell_type": "code",
   "execution_count": 33,
   "id": "12b6af94b9ec4b04",
   "metadata": {
    "collapsed": false,
    "ExecuteTime": {
     "end_time": "2024-01-23T18:12:15.268124300Z",
     "start_time": "2024-01-23T18:12:15.207172900Z"
    }
   },
   "outputs": [],
   "source": [
    "maximum_number_of_categories: int = len(\n",
    "    labels\n",
    ")\n",
    "\n",
    "output_layer = layers.Dense(\n",
    "    1024, \n",
    "    activation='relu'\n",
    ")(\n",
    "    middle_layers\n",
    ")\n",
    "\n",
    "output_layer = layers.Dense(\n",
    "    512, \n",
    "    activation='relu'\n",
    ")(\n",
    "    output_layer\n",
    ")\n",
    "\n",
    "output_layer = layers.Dense(\n",
    "    maximum_number_of_categories\n",
    ")(\n",
    "    output_layer\n",
    ")\n"
   ]
  },
  {
   "cell_type": "code",
   "execution_count": 34,
   "id": "a11b8b73",
   "metadata": {
    "ExecuteTime": {
     "end_time": "2024-01-23T18:12:17.314561700Z",
     "start_time": "2024-01-23T18:12:17.192529500Z"
    }
   },
   "outputs": [
    {
     "name": "stdout",
     "output_type": "stream",
     "text": [
      "Model: \"location_identifier\"\n",
      "_________________________________________________________________\n",
      " Layer (type)                Output Shape              Param #   \n",
      "=================================================================\n",
      " input_6 (InputLayer)        [(None, 540, 960, 3)]     0         \n",
      "                                                                 \n",
      " conv2d_44 (Conv2D)          (None, 540, 960, 4)       52        \n",
      "                                                                 \n",
      " conv2d_45 (Conv2D)          (None, 540, 960, 4)       68        \n",
      "                                                                 \n",
      " conv2d_46 (Conv2D)          (None, 540, 960, 4)       68        \n",
      "                                                                 \n",
      " conv2d_47 (Conv2D)          (None, 540, 960, 4)       68        \n",
      "                                                                 \n",
      " batch_normalization_12 (Ba  (None, 540, 960, 4)       16        \n",
      " tchNormalization)                                               \n",
      "                                                                 \n",
      " max_pooling2d_12 (MaxPooli  (None, 270, 480, 4)       0         \n",
      " ng2D)                                                           \n",
      "                                                                 \n",
      " conv2d_48 (Conv2D)          (None, 270, 480, 8)       136       \n",
      "                                                                 \n",
      " conv2d_49 (Conv2D)          (None, 270, 480, 8)       264       \n",
      "                                                                 \n",
      " conv2d_50 (Conv2D)          (None, 270, 480, 8)       264       \n",
      "                                                                 \n",
      " conv2d_51 (Conv2D)          (None, 270, 480, 8)       264       \n",
      "                                                                 \n",
      " batch_normalization_13 (Ba  (None, 270, 480, 8)       32        \n",
      " tchNormalization)                                               \n",
      "                                                                 \n",
      " max_pooling2d_13 (MaxPooli  (None, 135, 240, 8)       0         \n",
      " ng2D)                                                           \n",
      "                                                                 \n",
      " conv2d_52 (Conv2D)          (None, 135, 240, 16)      528       \n",
      "                                                                 \n",
      " conv2d_53 (Conv2D)          (None, 135, 240, 16)      1040      \n",
      "                                                                 \n",
      " conv2d_54 (Conv2D)          (None, 135, 240, 16)      1040      \n",
      "                                                                 \n",
      " conv2d_55 (Conv2D)          (None, 135, 240, 16)      1040      \n",
      "                                                                 \n",
      " batch_normalization_14 (Ba  (None, 135, 240, 16)      64        \n",
      " tchNormalization)                                               \n",
      "                                                                 \n",
      " max_pooling2d_14 (MaxPooli  (None, 68, 120, 16)       0         \n",
      " ng2D)                                                           \n",
      "                                                                 \n",
      " conv2d_56 (Conv2D)          (None, 68, 120, 32)       2080      \n",
      "                                                                 \n",
      " conv2d_57 (Conv2D)          (None, 68, 120, 32)       4128      \n",
      "                                                                 \n",
      " conv2d_58 (Conv2D)          (None, 68, 120, 32)       4128      \n",
      "                                                                 \n",
      " conv2d_59 (Conv2D)          (None, 68, 120, 32)       4128      \n",
      "                                                                 \n",
      " batch_normalization_15 (Ba  (None, 68, 120, 32)       128       \n",
      " tchNormalization)                                               \n",
      "                                                                 \n",
      " max_pooling2d_15 (MaxPooli  (None, 34, 60, 32)        0         \n",
      " ng2D)                                                           \n",
      "                                                                 \n",
      " conv2d_60 (Conv2D)          (None, 34, 60, 64)        8256      \n",
      "                                                                 \n",
      " conv2d_61 (Conv2D)          (None, 34, 60, 64)        16448     \n",
      "                                                                 \n",
      " conv2d_62 (Conv2D)          (None, 34, 60, 64)        16448     \n",
      "                                                                 \n",
      " conv2d_63 (Conv2D)          (None, 34, 60, 64)        16448     \n",
      "                                                                 \n",
      " batch_normalization_16 (Ba  (None, 34, 60, 64)        256       \n",
      " tchNormalization)                                               \n",
      "                                                                 \n",
      " max_pooling2d_16 (MaxPooli  (None, 17, 30, 64)        0         \n",
      " ng2D)                                                           \n",
      "                                                                 \n",
      " conv2d_64 (Conv2D)          (None, 17, 30, 96)        24672     \n",
      "                                                                 \n",
      " conv2d_65 (Conv2D)          (None, 17, 30, 96)        36960     \n",
      "                                                                 \n",
      " batch_normalization_17 (Ba  (None, 17, 30, 96)        384       \n",
      " tchNormalization)                                               \n",
      "                                                                 \n",
      " max_pooling2d_17 (MaxPooli  (None, 9, 15, 96)         0         \n",
      " ng2D)                                                           \n",
      "                                                                 \n",
      " flatten_2 (Flatten)         (None, 12960)             0         \n",
      "                                                                 \n",
      " dense_5 (Dense)             (None, 1024)              13272064  \n",
      "                                                                 \n",
      " dense_6 (Dense)             (None, 512)               524800    \n",
      "                                                                 \n",
      " dense_7 (Dense)             (None, 5)                 2565      \n",
      "                                                                 \n",
      "=================================================================\n",
      "Total params: 13938837 (53.17 MB)\n",
      "Trainable params: 13938397 (53.17 MB)\n",
      "Non-trainable params: 440 (1.72 KB)\n",
      "_________________________________________________________________\n"
     ]
    }
   ],
   "source": [
    "model = Model(\n",
    "    inputs=input_layer, \n",
    "    outputs=output_layer, \n",
    "    name='location_identifier'\n",
    ")\n",
    "\n",
    "model.summary()"
   ]
  },
  {
   "cell_type": "code",
   "execution_count": 35,
   "id": "4022b22c",
   "metadata": {
    "ExecuteTime": {
     "end_time": "2024-01-23T18:12:26.120841700Z",
     "start_time": "2024-01-23T18:12:26.097053100Z"
    }
   },
   "outputs": [],
   "source": [
    "model.compile(\n",
    "    optimizer   = 'Adam',\n",
    "    loss        = 'categorical_crossentropy',\n",
    "    metrics     = ['accuracy']\n",
    ")"
   ]
  },
  {
   "cell_type": "code",
   "execution_count": 37,
   "id": "d260b8439fc7d23d",
   "metadata": {
    "collapsed": false,
    "ExecuteTime": {
     "end_time": "2024-01-23T18:31:02.597206500Z",
     "start_time": "2024-01-23T18:12:40.155512600Z"
    }
   },
   "outputs": [
    {
     "name": "stdout",
     "output_type": "stream",
     "text": [
      "Epoch 1/10\n"
     ]
    },
    {
     "name": "stderr",
     "output_type": "stream",
     "text": [
      "2024-01-23 19:12:43.023225: I external/local_xla/xla/stream_executor/cuda/cuda_dnn.cc:454] Loaded cuDNN version 8904\n",
      "2024-01-23 19:12:43.203966: I external/local_tsl/tsl/platform/default/subprocess.cc:304] Start cannot spawn child process: No such file or directory\n",
      "2024-01-23 19:12:45.716121: I external/local_xla/xla/service/service.cc:168] XLA service 0x7f3848d1a910 initialized for platform CUDA (this does not guarantee that XLA will be used). Devices:\n",
      "2024-01-23 19:12:45.716173: I external/local_xla/xla/service/service.cc:176]   StreamExecutor device (0): NVIDIA GeForce RTX 4050 Laptop GPU, Compute Capability 8.9\n",
      "2024-01-23 19:12:45.739201: I tensorflow/compiler/mlir/tensorflow/utils/dump_mlir_util.cc:269] disabling MLIR crash reproducer, set env var `MLIR_CRASH_REPRODUCER_DIRECTORY` to enable.\n",
      "WARNING: All log messages before absl::InitializeLog() is called are written to STDERR\n",
      "I0000 00:00:1706033565.880860   15776 device_compiler.h:186] Compiled cluster using XLA!  This line is logged at most once for the lifetime of the process.\n"
     ]
    },
    {
     "name": "stdout",
     "output_type": "stream",
     "text": [
      "4613/4613 [==============================] - 190s 38ms/step - loss: 9.3758 - accuracy: 0.3451 - val_loss: 9.8280 - val_accuracy: 0.3567\n",
      "Epoch 2/10\n",
      "4613/4613 [==============================] - 176s 38ms/step - loss: 9.4556 - accuracy: 0.3454 - val_loss: 9.8438 - val_accuracy: 0.3571\n",
      "Epoch 3/10\n",
      "4613/4613 [==============================] - 178s 39ms/step - loss: 9.4591 - accuracy: 0.3464 - val_loss: 9.8333 - val_accuracy: 0.3567\n",
      "Epoch 4/10\n",
      "4613/4613 [==============================] - 175s 38ms/step - loss: 9.3857 - accuracy: 0.3459 - val_loss: 9.8280 - val_accuracy: 0.3564\n",
      "Epoch 5/10\n",
      "4613/4613 [==============================] - 177s 38ms/step - loss: 9.4311 - accuracy: 0.3447 - val_loss: 9.8542 - val_accuracy: 0.3577\n",
      "Epoch 6/10\n",
      "4613/4613 [==============================] - 173s 37ms/step - loss: 9.4276 - accuracy: 0.3442 - val_loss: 9.8333 - val_accuracy: 0.3571\n",
      "Epoch 7/10\n",
      " 973/4613 [=====>........................] - ETA: 2:00 - loss: 9.3180 - accuracy: 0.3541"
     ]
    },
    {
     "ename": "KeyboardInterrupt",
     "evalue": "",
     "output_type": "error",
     "traceback": [
      "\u001B[0;31m---------------------------------------------------------------------------\u001B[0m",
      "\u001B[0;31mKeyboardInterrupt\u001B[0m                         Traceback (most recent call last)",
      "Cell \u001B[0;32mIn[37], line 1\u001B[0m\n\u001B[0;32m----> 1\u001B[0m history \u001B[38;5;241m=\u001B[39m \u001B[43mmodel\u001B[49m\u001B[38;5;241;43m.\u001B[39;49m\u001B[43mfit\u001B[49m\u001B[43m(\u001B[49m\n\u001B[1;32m      2\u001B[0m \u001B[43m    \u001B[49m\u001B[43mtraining_dataset\u001B[49m\u001B[43m,\u001B[49m\u001B[43m \u001B[49m\n\u001B[1;32m      3\u001B[0m \u001B[43m    \u001B[49m\u001B[43mepochs\u001B[49m\u001B[43m              \u001B[49m\u001B[38;5;241;43m=\u001B[39;49m\u001B[43m \u001B[49m\u001B[38;5;241;43m10\u001B[39;49m\u001B[43m,\u001B[49m\u001B[43m \u001B[49m\n\u001B[1;32m      4\u001B[0m \u001B[43m    \u001B[49m\u001B[43mvalidation_data\u001B[49m\u001B[43m     \u001B[49m\u001B[38;5;241;43m=\u001B[39;49m\u001B[43m \u001B[49m\u001B[43mvalidation_dataset\u001B[49m\u001B[43m,\u001B[49m\n\u001B[1;32m      5\u001B[0m \u001B[43m    \u001B[49m\u001B[43mworkers\u001B[49m\u001B[43m             \u001B[49m\u001B[38;5;241;43m=\u001B[39;49m\u001B[43m \u001B[49m\u001B[38;5;241;43m12\u001B[39;49m\u001B[43m,\u001B[49m\n\u001B[1;32m      6\u001B[0m \u001B[43m    \u001B[49m\u001B[43mcallbacks\u001B[49m\u001B[43m           \u001B[49m\u001B[38;5;241;43m=\u001B[39;49m\u001B[43m \u001B[49m\u001B[43mcallbacks\u001B[49m\n\u001B[1;32m      7\u001B[0m \u001B[43m)\u001B[49m\n",
      "File \u001B[0;32m~/.local/lib/python3.10/site-packages/keras/src/utils/traceback_utils.py:65\u001B[0m, in \u001B[0;36mfilter_traceback.<locals>.error_handler\u001B[0;34m(*args, **kwargs)\u001B[0m\n\u001B[1;32m     63\u001B[0m filtered_tb \u001B[38;5;241m=\u001B[39m \u001B[38;5;28;01mNone\u001B[39;00m\n\u001B[1;32m     64\u001B[0m \u001B[38;5;28;01mtry\u001B[39;00m:\n\u001B[0;32m---> 65\u001B[0m     \u001B[38;5;28;01mreturn\u001B[39;00m \u001B[43mfn\u001B[49m\u001B[43m(\u001B[49m\u001B[38;5;241;43m*\u001B[39;49m\u001B[43margs\u001B[49m\u001B[43m,\u001B[49m\u001B[43m \u001B[49m\u001B[38;5;241;43m*\u001B[39;49m\u001B[38;5;241;43m*\u001B[39;49m\u001B[43mkwargs\u001B[49m\u001B[43m)\u001B[49m\n\u001B[1;32m     66\u001B[0m \u001B[38;5;28;01mexcept\u001B[39;00m \u001B[38;5;167;01mException\u001B[39;00m \u001B[38;5;28;01mas\u001B[39;00m e:\n\u001B[1;32m     67\u001B[0m     filtered_tb \u001B[38;5;241m=\u001B[39m _process_traceback_frames(e\u001B[38;5;241m.\u001B[39m__traceback__)\n",
      "File \u001B[0;32m~/.local/lib/python3.10/site-packages/keras/src/engine/training.py:1813\u001B[0m, in \u001B[0;36mModel.fit\u001B[0;34m(self, x, y, batch_size, epochs, verbose, callbacks, validation_split, validation_data, shuffle, class_weight, sample_weight, initial_epoch, steps_per_epoch, validation_steps, validation_batch_size, validation_freq, max_queue_size, workers, use_multiprocessing)\u001B[0m\n\u001B[1;32m   1811\u001B[0m logs \u001B[38;5;241m=\u001B[39m tmp_logs\n\u001B[1;32m   1812\u001B[0m end_step \u001B[38;5;241m=\u001B[39m step \u001B[38;5;241m+\u001B[39m data_handler\u001B[38;5;241m.\u001B[39mstep_increment\n\u001B[0;32m-> 1813\u001B[0m \u001B[43mcallbacks\u001B[49m\u001B[38;5;241;43m.\u001B[39;49m\u001B[43mon_train_batch_end\u001B[49m\u001B[43m(\u001B[49m\u001B[43mend_step\u001B[49m\u001B[43m,\u001B[49m\u001B[43m \u001B[49m\u001B[43mlogs\u001B[49m\u001B[43m)\u001B[49m\n\u001B[1;32m   1814\u001B[0m \u001B[38;5;28;01mif\u001B[39;00m \u001B[38;5;28mself\u001B[39m\u001B[38;5;241m.\u001B[39mstop_training:\n\u001B[1;32m   1815\u001B[0m     \u001B[38;5;28;01mbreak\u001B[39;00m\n",
      "File \u001B[0;32m~/.local/lib/python3.10/site-packages/keras/src/callbacks.py:475\u001B[0m, in \u001B[0;36mCallbackList.on_train_batch_end\u001B[0;34m(self, batch, logs)\u001B[0m\n\u001B[1;32m    468\u001B[0m \u001B[38;5;250m\u001B[39m\u001B[38;5;124;03m\"\"\"Calls the `on_train_batch_end` methods of its callbacks.\u001B[39;00m\n\u001B[1;32m    469\u001B[0m \n\u001B[1;32m    470\u001B[0m \u001B[38;5;124;03mArgs:\u001B[39;00m\n\u001B[1;32m    471\u001B[0m \u001B[38;5;124;03m    batch: Integer, index of batch within the current epoch.\u001B[39;00m\n\u001B[1;32m    472\u001B[0m \u001B[38;5;124;03m    logs: Dict. Aggregated metric results up until this batch.\u001B[39;00m\n\u001B[1;32m    473\u001B[0m \u001B[38;5;124;03m\"\"\"\u001B[39;00m\n\u001B[1;32m    474\u001B[0m \u001B[38;5;28;01mif\u001B[39;00m \u001B[38;5;28mself\u001B[39m\u001B[38;5;241m.\u001B[39m_should_call_train_batch_hooks:\n\u001B[0;32m--> 475\u001B[0m     \u001B[38;5;28;43mself\u001B[39;49m\u001B[38;5;241;43m.\u001B[39;49m\u001B[43m_call_batch_hook\u001B[49m\u001B[43m(\u001B[49m\u001B[43mModeKeys\u001B[49m\u001B[38;5;241;43m.\u001B[39;49m\u001B[43mTRAIN\u001B[49m\u001B[43m,\u001B[49m\u001B[43m \u001B[49m\u001B[38;5;124;43m\"\u001B[39;49m\u001B[38;5;124;43mend\u001B[39;49m\u001B[38;5;124;43m\"\u001B[39;49m\u001B[43m,\u001B[49m\u001B[43m \u001B[49m\u001B[43mbatch\u001B[49m\u001B[43m,\u001B[49m\u001B[43m \u001B[49m\u001B[43mlogs\u001B[49m\u001B[38;5;241;43m=\u001B[39;49m\u001B[43mlogs\u001B[49m\u001B[43m)\u001B[49m\n",
      "File \u001B[0;32m~/.local/lib/python3.10/site-packages/keras/src/callbacks.py:322\u001B[0m, in \u001B[0;36mCallbackList._call_batch_hook\u001B[0;34m(self, mode, hook, batch, logs)\u001B[0m\n\u001B[1;32m    320\u001B[0m     \u001B[38;5;28mself\u001B[39m\u001B[38;5;241m.\u001B[39m_call_batch_begin_hook(mode, batch, logs)\n\u001B[1;32m    321\u001B[0m \u001B[38;5;28;01melif\u001B[39;00m hook \u001B[38;5;241m==\u001B[39m \u001B[38;5;124m\"\u001B[39m\u001B[38;5;124mend\u001B[39m\u001B[38;5;124m\"\u001B[39m:\n\u001B[0;32m--> 322\u001B[0m     \u001B[38;5;28;43mself\u001B[39;49m\u001B[38;5;241;43m.\u001B[39;49m\u001B[43m_call_batch_end_hook\u001B[49m\u001B[43m(\u001B[49m\u001B[43mmode\u001B[49m\u001B[43m,\u001B[49m\u001B[43m \u001B[49m\u001B[43mbatch\u001B[49m\u001B[43m,\u001B[49m\u001B[43m \u001B[49m\u001B[43mlogs\u001B[49m\u001B[43m)\u001B[49m\n\u001B[1;32m    323\u001B[0m \u001B[38;5;28;01melse\u001B[39;00m:\n\u001B[1;32m    324\u001B[0m     \u001B[38;5;28;01mraise\u001B[39;00m \u001B[38;5;167;01mValueError\u001B[39;00m(\n\u001B[1;32m    325\u001B[0m         \u001B[38;5;124mf\u001B[39m\u001B[38;5;124m\"\u001B[39m\u001B[38;5;124mUnrecognized hook: \u001B[39m\u001B[38;5;132;01m{\u001B[39;00mhook\u001B[38;5;132;01m}\u001B[39;00m\u001B[38;5;124m. \u001B[39m\u001B[38;5;124m\"\u001B[39m\n\u001B[1;32m    326\u001B[0m         \u001B[38;5;124m'\u001B[39m\u001B[38;5;124mExpected values are [\u001B[39m\u001B[38;5;124m\"\u001B[39m\u001B[38;5;124mbegin\u001B[39m\u001B[38;5;124m\"\u001B[39m\u001B[38;5;124m, \u001B[39m\u001B[38;5;124m\"\u001B[39m\u001B[38;5;124mend\u001B[39m\u001B[38;5;124m\"\u001B[39m\u001B[38;5;124m]\u001B[39m\u001B[38;5;124m'\u001B[39m\n\u001B[1;32m    327\u001B[0m     )\n",
      "File \u001B[0;32m~/.local/lib/python3.10/site-packages/keras/src/callbacks.py:345\u001B[0m, in \u001B[0;36mCallbackList._call_batch_end_hook\u001B[0;34m(self, mode, batch, logs)\u001B[0m\n\u001B[1;32m    342\u001B[0m     batch_time \u001B[38;5;241m=\u001B[39m time\u001B[38;5;241m.\u001B[39mtime() \u001B[38;5;241m-\u001B[39m \u001B[38;5;28mself\u001B[39m\u001B[38;5;241m.\u001B[39m_batch_start_time\n\u001B[1;32m    343\u001B[0m     \u001B[38;5;28mself\u001B[39m\u001B[38;5;241m.\u001B[39m_batch_times\u001B[38;5;241m.\u001B[39mappend(batch_time)\n\u001B[0;32m--> 345\u001B[0m \u001B[38;5;28;43mself\u001B[39;49m\u001B[38;5;241;43m.\u001B[39;49m\u001B[43m_call_batch_hook_helper\u001B[49m\u001B[43m(\u001B[49m\u001B[43mhook_name\u001B[49m\u001B[43m,\u001B[49m\u001B[43m \u001B[49m\u001B[43mbatch\u001B[49m\u001B[43m,\u001B[49m\u001B[43m \u001B[49m\u001B[43mlogs\u001B[49m\u001B[43m)\u001B[49m\n\u001B[1;32m    347\u001B[0m \u001B[38;5;28;01mif\u001B[39;00m \u001B[38;5;28mlen\u001B[39m(\u001B[38;5;28mself\u001B[39m\u001B[38;5;241m.\u001B[39m_batch_times) \u001B[38;5;241m>\u001B[39m\u001B[38;5;241m=\u001B[39m \u001B[38;5;28mself\u001B[39m\u001B[38;5;241m.\u001B[39m_num_batches_for_timing_check:\n\u001B[1;32m    348\u001B[0m     end_hook_name \u001B[38;5;241m=\u001B[39m hook_name\n",
      "File \u001B[0;32m~/.local/lib/python3.10/site-packages/keras/src/callbacks.py:393\u001B[0m, in \u001B[0;36mCallbackList._call_batch_hook_helper\u001B[0;34m(self, hook_name, batch, logs)\u001B[0m\n\u001B[1;32m    391\u001B[0m \u001B[38;5;28;01mfor\u001B[39;00m callback \u001B[38;5;129;01min\u001B[39;00m \u001B[38;5;28mself\u001B[39m\u001B[38;5;241m.\u001B[39mcallbacks:\n\u001B[1;32m    392\u001B[0m     hook \u001B[38;5;241m=\u001B[39m \u001B[38;5;28mgetattr\u001B[39m(callback, hook_name)\n\u001B[0;32m--> 393\u001B[0m     \u001B[43mhook\u001B[49m\u001B[43m(\u001B[49m\u001B[43mbatch\u001B[49m\u001B[43m,\u001B[49m\u001B[43m \u001B[49m\u001B[43mlogs\u001B[49m\u001B[43m)\u001B[49m\n\u001B[1;32m    395\u001B[0m \u001B[38;5;28;01mif\u001B[39;00m \u001B[38;5;28mself\u001B[39m\u001B[38;5;241m.\u001B[39m_check_timing:\n\u001B[1;32m    396\u001B[0m     \u001B[38;5;28;01mif\u001B[39;00m hook_name \u001B[38;5;129;01mnot\u001B[39;00m \u001B[38;5;129;01min\u001B[39;00m \u001B[38;5;28mself\u001B[39m\u001B[38;5;241m.\u001B[39m_hook_times:\n",
      "File \u001B[0;32m~/.local/lib/python3.10/site-packages/keras/src/callbacks.py:1093\u001B[0m, in \u001B[0;36mProgbarLogger.on_train_batch_end\u001B[0;34m(self, batch, logs)\u001B[0m\n\u001B[1;32m   1092\u001B[0m \u001B[38;5;28;01mdef\u001B[39;00m \u001B[38;5;21mon_train_batch_end\u001B[39m(\u001B[38;5;28mself\u001B[39m, batch, logs\u001B[38;5;241m=\u001B[39m\u001B[38;5;28;01mNone\u001B[39;00m):\n\u001B[0;32m-> 1093\u001B[0m     \u001B[38;5;28;43mself\u001B[39;49m\u001B[38;5;241;43m.\u001B[39;49m\u001B[43m_batch_update_progbar\u001B[49m\u001B[43m(\u001B[49m\u001B[43mbatch\u001B[49m\u001B[43m,\u001B[49m\u001B[43m \u001B[49m\u001B[43mlogs\u001B[49m\u001B[43m)\u001B[49m\n",
      "File \u001B[0;32m~/.local/lib/python3.10/site-packages/keras/src/callbacks.py:1169\u001B[0m, in \u001B[0;36mProgbarLogger._batch_update_progbar\u001B[0;34m(self, batch, logs)\u001B[0m\n\u001B[1;32m   1165\u001B[0m     \u001B[38;5;28mself\u001B[39m\u001B[38;5;241m.\u001B[39mseen \u001B[38;5;241m+\u001B[39m\u001B[38;5;241m=\u001B[39m add_seen\n\u001B[1;32m   1167\u001B[0m \u001B[38;5;28;01mif\u001B[39;00m \u001B[38;5;28mself\u001B[39m\u001B[38;5;241m.\u001B[39mverbose \u001B[38;5;241m==\u001B[39m \u001B[38;5;241m1\u001B[39m:\n\u001B[1;32m   1168\u001B[0m     \u001B[38;5;66;03m# Only block async when verbose = 1.\u001B[39;00m\n\u001B[0;32m-> 1169\u001B[0m     logs \u001B[38;5;241m=\u001B[39m \u001B[43mtf_utils\u001B[49m\u001B[38;5;241;43m.\u001B[39;49m\u001B[43msync_to_numpy_or_python_type\u001B[49m\u001B[43m(\u001B[49m\u001B[43mlogs\u001B[49m\u001B[43m)\u001B[49m\n\u001B[1;32m   1170\u001B[0m     \u001B[38;5;28mself\u001B[39m\u001B[38;5;241m.\u001B[39mprogbar\u001B[38;5;241m.\u001B[39mupdate(\u001B[38;5;28mself\u001B[39m\u001B[38;5;241m.\u001B[39mseen, \u001B[38;5;28mlist\u001B[39m(logs\u001B[38;5;241m.\u001B[39mitems()), finalize\u001B[38;5;241m=\u001B[39m\u001B[38;5;28;01mFalse\u001B[39;00m)\n",
      "File \u001B[0;32m~/.local/lib/python3.10/site-packages/keras/src/utils/tf_utils.py:694\u001B[0m, in \u001B[0;36msync_to_numpy_or_python_type\u001B[0;34m(tensors)\u001B[0m\n\u001B[1;32m    691\u001B[0m         \u001B[38;5;28;01mreturn\u001B[39;00m t\n\u001B[1;32m    692\u001B[0m     \u001B[38;5;28;01mreturn\u001B[39;00m t\u001B[38;5;241m.\u001B[39mitem() \u001B[38;5;28;01mif\u001B[39;00m np\u001B[38;5;241m.\u001B[39mndim(t) \u001B[38;5;241m==\u001B[39m \u001B[38;5;241m0\u001B[39m \u001B[38;5;28;01melse\u001B[39;00m t\n\u001B[0;32m--> 694\u001B[0m \u001B[38;5;28;01mreturn\u001B[39;00m \u001B[43mtf\u001B[49m\u001B[38;5;241;43m.\u001B[39;49m\u001B[43mnest\u001B[49m\u001B[38;5;241;43m.\u001B[39;49m\u001B[43mmap_structure\u001B[49m\u001B[43m(\u001B[49m\u001B[43m_to_single_numpy_or_python_type\u001B[49m\u001B[43m,\u001B[49m\u001B[43m \u001B[49m\u001B[43mtensors\u001B[49m\u001B[43m)\u001B[49m\n",
      "File \u001B[0;32m~/.local/lib/python3.10/site-packages/tensorflow/python/util/nest.py:631\u001B[0m, in \u001B[0;36mmap_structure\u001B[0;34m(func, *structure, **kwargs)\u001B[0m\n\u001B[1;32m    545\u001B[0m \u001B[38;5;129m@tf_export\u001B[39m(\u001B[38;5;124m\"\u001B[39m\u001B[38;5;124mnest.map_structure\u001B[39m\u001B[38;5;124m\"\u001B[39m)\n\u001B[1;32m    546\u001B[0m \u001B[38;5;28;01mdef\u001B[39;00m \u001B[38;5;21mmap_structure\u001B[39m(func, \u001B[38;5;241m*\u001B[39mstructure, \u001B[38;5;241m*\u001B[39m\u001B[38;5;241m*\u001B[39mkwargs):\n\u001B[1;32m    547\u001B[0m \u001B[38;5;250m  \u001B[39m\u001B[38;5;124;03m\"\"\"Creates a new structure by applying `func` to each atom in `structure`.\u001B[39;00m\n\u001B[1;32m    548\u001B[0m \n\u001B[1;32m    549\u001B[0m \u001B[38;5;124;03m  Refer to [tf.nest](https://www.tensorflow.org/api_docs/python/tf/nest)\u001B[39;00m\n\u001B[0;32m   (...)\u001B[0m\n\u001B[1;32m    629\u001B[0m \u001B[38;5;124;03m    ValueError: If wrong keyword arguments are provided.\u001B[39;00m\n\u001B[1;32m    630\u001B[0m \u001B[38;5;124;03m  \"\"\"\u001B[39;00m\n\u001B[0;32m--> 631\u001B[0m   \u001B[38;5;28;01mreturn\u001B[39;00m \u001B[43mnest_util\u001B[49m\u001B[38;5;241;43m.\u001B[39;49m\u001B[43mmap_structure\u001B[49m\u001B[43m(\u001B[49m\n\u001B[1;32m    632\u001B[0m \u001B[43m      \u001B[49m\u001B[43mnest_util\u001B[49m\u001B[38;5;241;43m.\u001B[39;49m\u001B[43mModality\u001B[49m\u001B[38;5;241;43m.\u001B[39;49m\u001B[43mCORE\u001B[49m\u001B[43m,\u001B[49m\u001B[43m \u001B[49m\u001B[43mfunc\u001B[49m\u001B[43m,\u001B[49m\u001B[43m \u001B[49m\u001B[38;5;241;43m*\u001B[39;49m\u001B[43mstructure\u001B[49m\u001B[43m,\u001B[49m\u001B[43m \u001B[49m\u001B[38;5;241;43m*\u001B[39;49m\u001B[38;5;241;43m*\u001B[39;49m\u001B[43mkwargs\u001B[49m\n\u001B[1;32m    633\u001B[0m \u001B[43m  \u001B[49m\u001B[43m)\u001B[49m\n",
      "File \u001B[0;32m~/.local/lib/python3.10/site-packages/tensorflow/python/util/nest_util.py:1066\u001B[0m, in \u001B[0;36mmap_structure\u001B[0;34m(modality, func, *structure, **kwargs)\u001B[0m\n\u001B[1;32m    969\u001B[0m \u001B[38;5;250m\u001B[39m\u001B[38;5;124;03m\"\"\"Creates a new structure by applying `func` to each atom in `structure`.\u001B[39;00m\n\u001B[1;32m    970\u001B[0m \n\u001B[1;32m    971\u001B[0m \u001B[38;5;124;03m- For Modality.CORE: Refer to\u001B[39;00m\n\u001B[0;32m   (...)\u001B[0m\n\u001B[1;32m   1063\u001B[0m \u001B[38;5;124;03m  ValueError: If wrong keyword arguments are provided.\u001B[39;00m\n\u001B[1;32m   1064\u001B[0m \u001B[38;5;124;03m\"\"\"\u001B[39;00m\n\u001B[1;32m   1065\u001B[0m \u001B[38;5;28;01mif\u001B[39;00m modality \u001B[38;5;241m==\u001B[39m Modality\u001B[38;5;241m.\u001B[39mCORE:\n\u001B[0;32m-> 1066\u001B[0m   \u001B[38;5;28;01mreturn\u001B[39;00m \u001B[43m_tf_core_map_structure\u001B[49m\u001B[43m(\u001B[49m\u001B[43mfunc\u001B[49m\u001B[43m,\u001B[49m\u001B[43m \u001B[49m\u001B[38;5;241;43m*\u001B[39;49m\u001B[43mstructure\u001B[49m\u001B[43m,\u001B[49m\u001B[43m \u001B[49m\u001B[38;5;241;43m*\u001B[39;49m\u001B[38;5;241;43m*\u001B[39;49m\u001B[43mkwargs\u001B[49m\u001B[43m)\u001B[49m\n\u001B[1;32m   1067\u001B[0m \u001B[38;5;28;01melif\u001B[39;00m modality \u001B[38;5;241m==\u001B[39m Modality\u001B[38;5;241m.\u001B[39mDATA:\n\u001B[1;32m   1068\u001B[0m   \u001B[38;5;28;01mreturn\u001B[39;00m _tf_data_map_structure(func, \u001B[38;5;241m*\u001B[39mstructure, \u001B[38;5;241m*\u001B[39m\u001B[38;5;241m*\u001B[39mkwargs)\n",
      "File \u001B[0;32m~/.local/lib/python3.10/site-packages/tensorflow/python/util/nest_util.py:1106\u001B[0m, in \u001B[0;36m_tf_core_map_structure\u001B[0;34m(func, *structure, **kwargs)\u001B[0m\n\u001B[1;32m   1101\u001B[0m flat_structure \u001B[38;5;241m=\u001B[39m (_tf_core_flatten(s, expand_composites) \u001B[38;5;28;01mfor\u001B[39;00m s \u001B[38;5;129;01min\u001B[39;00m structure)\n\u001B[1;32m   1102\u001B[0m entries \u001B[38;5;241m=\u001B[39m \u001B[38;5;28mzip\u001B[39m(\u001B[38;5;241m*\u001B[39mflat_structure)\n\u001B[1;32m   1104\u001B[0m \u001B[38;5;28;01mreturn\u001B[39;00m _tf_core_pack_sequence_as(\n\u001B[1;32m   1105\u001B[0m     structure[\u001B[38;5;241m0\u001B[39m],\n\u001B[0;32m-> 1106\u001B[0m     [func(\u001B[38;5;241m*\u001B[39mx) \u001B[38;5;28;01mfor\u001B[39;00m x \u001B[38;5;129;01min\u001B[39;00m entries],\n\u001B[1;32m   1107\u001B[0m     expand_composites\u001B[38;5;241m=\u001B[39mexpand_composites,\n\u001B[1;32m   1108\u001B[0m )\n",
      "File \u001B[0;32m~/.local/lib/python3.10/site-packages/tensorflow/python/util/nest_util.py:1106\u001B[0m, in \u001B[0;36m<listcomp>\u001B[0;34m(.0)\u001B[0m\n\u001B[1;32m   1101\u001B[0m flat_structure \u001B[38;5;241m=\u001B[39m (_tf_core_flatten(s, expand_composites) \u001B[38;5;28;01mfor\u001B[39;00m s \u001B[38;5;129;01min\u001B[39;00m structure)\n\u001B[1;32m   1102\u001B[0m entries \u001B[38;5;241m=\u001B[39m \u001B[38;5;28mzip\u001B[39m(\u001B[38;5;241m*\u001B[39mflat_structure)\n\u001B[1;32m   1104\u001B[0m \u001B[38;5;28;01mreturn\u001B[39;00m _tf_core_pack_sequence_as(\n\u001B[1;32m   1105\u001B[0m     structure[\u001B[38;5;241m0\u001B[39m],\n\u001B[0;32m-> 1106\u001B[0m     [\u001B[43mfunc\u001B[49m\u001B[43m(\u001B[49m\u001B[38;5;241;43m*\u001B[39;49m\u001B[43mx\u001B[49m\u001B[43m)\u001B[49m \u001B[38;5;28;01mfor\u001B[39;00m x \u001B[38;5;129;01min\u001B[39;00m entries],\n\u001B[1;32m   1107\u001B[0m     expand_composites\u001B[38;5;241m=\u001B[39mexpand_composites,\n\u001B[1;32m   1108\u001B[0m )\n",
      "File \u001B[0;32m~/.local/lib/python3.10/site-packages/keras/src/utils/tf_utils.py:687\u001B[0m, in \u001B[0;36msync_to_numpy_or_python_type.<locals>._to_single_numpy_or_python_type\u001B[0;34m(t)\u001B[0m\n\u001B[1;32m    684\u001B[0m \u001B[38;5;28;01mdef\u001B[39;00m \u001B[38;5;21m_to_single_numpy_or_python_type\u001B[39m(t):\n\u001B[1;32m    685\u001B[0m     \u001B[38;5;66;03m# Don't turn ragged or sparse tensors to NumPy.\u001B[39;00m\n\u001B[1;32m    686\u001B[0m     \u001B[38;5;28;01mif\u001B[39;00m \u001B[38;5;28misinstance\u001B[39m(t, tf\u001B[38;5;241m.\u001B[39mTensor):\n\u001B[0;32m--> 687\u001B[0m         t \u001B[38;5;241m=\u001B[39m \u001B[43mt\u001B[49m\u001B[38;5;241;43m.\u001B[39;49m\u001B[43mnumpy\u001B[49m\u001B[43m(\u001B[49m\u001B[43m)\u001B[49m\n\u001B[1;32m    688\u001B[0m     \u001B[38;5;66;03m# Strings, ragged and sparse tensors don't have .item(). Return them\u001B[39;00m\n\u001B[1;32m    689\u001B[0m     \u001B[38;5;66;03m# as-is.\u001B[39;00m\n\u001B[1;32m    690\u001B[0m     \u001B[38;5;28;01mif\u001B[39;00m \u001B[38;5;129;01mnot\u001B[39;00m \u001B[38;5;28misinstance\u001B[39m(t, (np\u001B[38;5;241m.\u001B[39mndarray, np\u001B[38;5;241m.\u001B[39mgeneric)):\n",
      "File \u001B[0;32m~/.local/lib/python3.10/site-packages/tensorflow/python/framework/ops.py:394\u001B[0m, in \u001B[0;36m_EagerTensorBase.numpy\u001B[0;34m(self)\u001B[0m\n\u001B[1;32m    371\u001B[0m \u001B[38;5;250m\u001B[39m\u001B[38;5;124;03m\"\"\"Copy of the contents of this Tensor into a NumPy array or scalar.\u001B[39;00m\n\u001B[1;32m    372\u001B[0m \n\u001B[1;32m    373\u001B[0m \u001B[38;5;124;03mUnlike NumPy arrays, Tensors are immutable, so this method has to copy\u001B[39;00m\n\u001B[0;32m   (...)\u001B[0m\n\u001B[1;32m    391\u001B[0m \u001B[38;5;124;03m    NumPy dtype.\u001B[39;00m\n\u001B[1;32m    392\u001B[0m \u001B[38;5;124;03m\"\"\"\u001B[39;00m\n\u001B[1;32m    393\u001B[0m \u001B[38;5;66;03m# TODO(slebedev): Consider avoiding a copy for non-CPU or remote tensors.\u001B[39;00m\n\u001B[0;32m--> 394\u001B[0m maybe_arr \u001B[38;5;241m=\u001B[39m \u001B[38;5;28;43mself\u001B[39;49m\u001B[38;5;241;43m.\u001B[39;49m\u001B[43m_numpy\u001B[49m\u001B[43m(\u001B[49m\u001B[43m)\u001B[49m  \u001B[38;5;66;03m# pylint: disable=protected-access\u001B[39;00m\n\u001B[1;32m    395\u001B[0m \u001B[38;5;28;01mreturn\u001B[39;00m maybe_arr\u001B[38;5;241m.\u001B[39mcopy() \u001B[38;5;28;01mif\u001B[39;00m \u001B[38;5;28misinstance\u001B[39m(maybe_arr, np\u001B[38;5;241m.\u001B[39mndarray) \u001B[38;5;28;01melse\u001B[39;00m maybe_arr\n",
      "File \u001B[0;32m~/.local/lib/python3.10/site-packages/tensorflow/python/framework/ops.py:360\u001B[0m, in \u001B[0;36m_EagerTensorBase._numpy\u001B[0;34m(self)\u001B[0m\n\u001B[1;32m    358\u001B[0m \u001B[38;5;28;01mdef\u001B[39;00m \u001B[38;5;21m_numpy\u001B[39m(\u001B[38;5;28mself\u001B[39m):\n\u001B[1;32m    359\u001B[0m   \u001B[38;5;28;01mtry\u001B[39;00m:\n\u001B[0;32m--> 360\u001B[0m     \u001B[38;5;28;01mreturn\u001B[39;00m \u001B[38;5;28;43mself\u001B[39;49m\u001B[38;5;241;43m.\u001B[39;49m\u001B[43m_numpy_internal\u001B[49m\u001B[43m(\u001B[49m\u001B[43m)\u001B[49m\n\u001B[1;32m    361\u001B[0m   \u001B[38;5;28;01mexcept\u001B[39;00m core\u001B[38;5;241m.\u001B[39m_NotOkStatusException \u001B[38;5;28;01mas\u001B[39;00m e:  \u001B[38;5;66;03m# pylint: disable=protected-access\u001B[39;00m\n\u001B[1;32m    362\u001B[0m     \u001B[38;5;28;01mraise\u001B[39;00m core\u001B[38;5;241m.\u001B[39m_status_to_exception(e) \u001B[38;5;28;01mfrom\u001B[39;00m \u001B[38;5;28;01mNone\u001B[39;00m\n",
      "\u001B[0;31mKeyboardInterrupt\u001B[0m: "
     ]
    }
   ],
   "source": [
    "history = model.fit(\n",
    "    training_dataset, \n",
    "    epochs              = 10, \n",
    "    validation_data     = validation_dataset,\n",
    "    workers             = 12,\n",
    "    callbacks           = callbacks\n",
    ")"
   ]
  },
  {
   "cell_type": "code",
   "execution_count": 39,
   "id": "e888bef8c6c24d56",
   "metadata": {
    "collapsed": false,
    "ExecuteTime": {
     "end_time": "2024-01-23T18:31:08.950512600Z",
     "start_time": "2024-01-23T18:31:08.298908400Z"
    }
   },
   "outputs": [],
   "source": [
    "model.save(\n",
    "    location_to_saved_model,\n",
    "    overwrite = True\n",
    ")"
   ]
  }
 ],
 "metadata": {
  "kernelspec": {
   "display_name": "Python 3 (ipykernel)",
   "language": "python",
   "name": "python3"
  },
  "language_info": {
   "codemirror_mode": {
    "name": "ipython",
    "version": 3
   },
   "file_extension": ".py",
   "mimetype": "text/x-python",
   "name": "python",
   "nbconvert_exporter": "python",
   "pygments_lexer": "ipython3",
   "version": "3.10.12"
  }
 },
 "nbformat": 4,
 "nbformat_minor": 5
}
