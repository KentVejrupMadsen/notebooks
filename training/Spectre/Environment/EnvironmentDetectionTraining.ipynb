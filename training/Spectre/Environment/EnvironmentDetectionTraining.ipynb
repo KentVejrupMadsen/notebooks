{
 "cells": [
  {
   "cell_type": "code",
   "execution_count": null,
   "id": "de2c80d7927ae084",
   "metadata": {
    "collapsed": false
   },
   "outputs": [],
   "source": [
    "%pip install ipympl -q\n",
    "%pip install numpy -q\n",
    "%pip install wheel\n",
    "\n",
    "%pip install keras -q\n",
    "%pip install keras-cv -q\n",
    "\n",
    "%pip install matplotlib -q"
   ]
  },
  {
   "cell_type": "code",
   "execution_count": null,
   "id": "bc7a0b0e",
   "metadata": {
    "ExecuteTime": {
     "end_time": "2024-01-23T18:56:46.985860500Z",
     "start_time": "2024-01-23T18:56:46.984859900Z"
    }
   },
   "outputs": [],
   "source": [
    "location_to_saved_model: str = '/home/spectre/environment_model.keras'"
   ]
  },
  {
   "cell_type": "code",
   "execution_count": null,
   "id": "f54f7a7880613789",
   "metadata": {
    "ExecuteTime": {
     "end_time": "2024-01-23T18:56:50.593170800Z",
     "start_time": "2024-01-23T18:56:48.515313100Z"
    },
    "collapsed": false
   },
   "outputs": [],
   "source": [
    "import tensorflow\n",
    "\n",
    "gpus = tensorflow.config.list_physical_devices(\n",
    "    'GPU'\n",
    ")"
   ]
  },
  {
   "cell_type": "code",
   "execution_count": null,
   "id": "78efad1525675374",
   "metadata": {
    "ExecuteTime": {
     "end_time": "2024-01-23T18:56:51.730686400Z",
     "start_time": "2024-01-23T18:56:51.727574500Z"
    },
    "collapsed": false
   },
   "outputs": [],
   "source": [
    "nvidia_maximum_limit_for_gpu_memory: int = 5925\n",
    "\n",
    "if gpus:\n",
    "    try:\n",
    "        for gpu in gpus:\n",
    "            tensorflow.config.set_logical_device_configuration(\n",
    "                gpu, \n",
    "                [\n",
    "                    tensorflow.config.LogicalDeviceConfiguration(\n",
    "                        memory_limit=nvidia_maximum_limit_for_gpu_memory\n",
    "                    )\n",
    "                ]\n",
    "            )\n",
    "    except RuntimeError as e:\n",
    "        print(e)\n",
    "\n",
    "location_to_dataset: str = '/tmp/dataset'\n",
    "name_of_location: str = 'LocationDataset'"
   ]
  },
  {
   "cell_type": "code",
   "execution_count": null,
   "id": "7dc6ed6a8900bce5",
   "metadata": {
    "ExecuteTime": {
     "end_time": "2024-01-23T18:56:54.664129600Z",
     "start_time": "2024-01-23T18:56:54.545221500Z"
    },
    "collapsed": false
   },
   "outputs": [],
   "source": [
    "from os.path import isdir\n",
    "\n",
    "if not isdir(\n",
    "    location_to_dataset\n",
    "):\n",
    "    !git clone https://github.com/TargetSpectre/Location-Identification-DataSet.git {name_of_location} \n",
    "    !mv ./{name_of_location}/DataSet {location_to_dataset}\n",
    "\n",
    "!ls {location_to_dataset}"
   ]
  },
  {
   "cell_type": "markdown",
   "id": "ed941738",
   "metadata": {},
   "source": [
    "# "
   ]
  },
  {
   "cell_type": "code",
   "execution_count": null,
   "id": "8b0d20fc90b41c40",
   "metadata": {
    "ExecuteTime": {
     "end_time": "2024-01-23T18:31:51.689225600Z",
     "start_time": "2024-01-23T18:31:51.682514200Z"
    },
    "collapsed": false
   },
   "outputs": [],
   "source": [
    "from os import listdir\n",
    "from os.path import join\n",
    "\n",
    "labels: list = list()\n",
    "found_dirs = listdir(\n",
    "    location_to_dataset\n",
    ")\n",
    "\n",
    "for idx in range(\n",
    "    len(\n",
    "        found_dirs\n",
    "    )\n",
    "):\n",
    "    selected = found_dirs[idx]\n",
    "    labels.append(\n",
    "        selected\n",
    "    )\n",
    "\n",
    "    found_dirs[idx] = join(\n",
    "        location_to_dataset, \n",
    "        selected\n",
    "    )\n",
    "\n",
    "labels.sort()\n",
    "\n",
    "print(\n",
    "    labels\n",
    ")"
   ]
  },
  {
   "cell_type": "code",
   "execution_count": null,
   "id": "8106168a00a72e9f",
   "metadata": {
    "ExecuteTime": {
     "end_time": "2024-01-23T18:57:05.836214700Z",
     "start_time": "2024-01-23T18:57:05.831525700Z"
    },
    "collapsed": false
   },
   "outputs": [],
   "source": [
    "from random import SystemRandom\n",
    "from keras.utils import image_dataset_from_directory"
   ]
  },
  {
   "cell_type": "code",
   "execution_count": null,
   "id": "bb75f414c9431633",
   "metadata": {
    "ExecuteTime": {
     "end_time": "2024-01-23T20:32:59.147439300Z",
     "start_time": "2024-01-23T20:32:59.143181500Z"
    },
    "collapsed": false
   },
   "outputs": [],
   "source": [
    "batch_size: int = 2\n",
    "buffer_size: int = 10\n",
    "\n",
    "number_of_training_iterations: int = 5  \n",
    "\n",
    "vision_width: int = 960\n",
    "vision_height: int = 540\n",
    "\n",
    "maximum_value: int = 65535"
   ]
  },
  {
   "cell_type": "code",
   "execution_count": null,
   "id": "22c3fadb35bf6cec",
   "metadata": {
    "ExecuteTime": {
     "end_time": "2024-01-23T20:33:02.155962400Z",
     "start_time": "2024-01-23T20:33:02.150765500Z"
    },
    "collapsed": false
   },
   "outputs": [],
   "source": [
    "from keras import layers\n",
    "from keras.models import Model, load_model\n",
    "from keras.optimizers import Adam"
   ]
  },
  {
   "cell_type": "code",
   "execution_count": null,
   "id": "a6da1a65466e5083",
   "metadata": {
    "ExecuteTime": {
     "end_time": "2024-01-23T20:33:17.561528800Z",
     "start_time": "2024-01-23T20:33:06.051075700Z"
    },
    "collapsed": false
   },
   "outputs": [],
   "source": [
    "model = load_model(\n",
    "    location_to_saved_model\n",
    ")\n",
    "\n",
    "model.summary()\n",
    "\n",
    "model.compile(\n",
    "    optimizer   = Adam(\n",
    "        learning_rate   = 0.001,\n",
    "        amsgrad         = True,\n",
    "        global_clipnorm = 10.0,\n",
    "        use_ema         = True\n",
    "    ),\n",
    "    loss        = 'categorical_crossentropy',\n",
    "    metrics     = ['accuracy']\n",
    ")"
   ]
  },
  {
   "cell_type": "code",
   "execution_count": null,
   "id": "ada6a993",
   "metadata": {
    "ExecuteTime": {
     "end_time": "2024-01-23T18:57:50.751382800Z",
     "start_time": "2024-01-23T18:57:50.741867700Z"
    }
   },
   "outputs": [],
   "source": [
    "from keras.callbacks \\\n",
    "    import EarlyStopping\n",
    "\n",
    "callbacks: list = [\n",
    "    EarlyStopping(\n",
    "        monitor                 = 'accuracy',\n",
    "        min_delta               = 0,\n",
    "        patience                = 0,\n",
    "        mode                    = 'max',\n",
    "        restore_best_weights    = True,\n",
    "        start_from_epoch        = 2\n",
    "    )\n",
    "]\n"
   ]
  },
  {
   "cell_type": "code",
   "execution_count": null,
   "id": "a0071aa0af10a0fb",
   "metadata": {
    "ExecuteTime": {
     "end_time": "2024-01-23T20:13:51.715481200Z",
     "start_time": "2024-01-23T20:13:51.674041200Z"
    },
    "collapsed": false
   },
   "outputs": [],
   "source": [
    "def generate_random_int16_number() -> int:\n",
    "    global maximum_value\n",
    "    return SystemRandom().randint(\n",
    "            1, \n",
    "            maximum_value\n",
    "    )"
   ]
  },
  {
   "cell_type": "code",
   "execution_count": null,
   "id": "d1b2dce863098bfb",
   "metadata": {
    "ExecuteTime": {
     "end_time": "2024-01-23T20:14:10.423899700Z",
     "start_time": "2024-01-23T20:14:10.414846200Z"
    },
    "collapsed": false
   },
   "outputs": [],
   "source": [
    "def generate_training_dataset():\n",
    "    global batch_size, vision_height, vision_width\n",
    "    \n",
    "    return image_dataset_from_directory(\n",
    "        location_to_dataset,\n",
    "        labels                  = 'inferred',\n",
    "        label_mode              = 'categorical',\n",
    "        color_mode              = 'rgb',\n",
    "        batch_size              = batch_size,\n",
    "        image_size              = (\n",
    "            vision_height, \n",
    "            vision_width\n",
    "        ),\n",
    "        shuffle                 = True,\n",
    "        crop_to_aspect_ratio    = True,\n",
    "        subset                  = 'training',\n",
    "        validation_split        = 0.25,\n",
    "        seed                    = generate_random_int16_number()\n",
    "    )"
   ]
  },
  {
   "cell_type": "code",
   "execution_count": null,
   "id": "470e2e0727428602",
   "metadata": {
    "ExecuteTime": {
     "end_time": "2024-01-23T20:14:12.399180400Z",
     "start_time": "2024-01-23T20:14:12.390550900Z"
    },
    "collapsed": false
   },
   "outputs": [],
   "source": [
    "def generate_validation_dataset():\n",
    "    global batch_size, vision_height, vision_width\n",
    "    return image_dataset_from_directory(\n",
    "        location_to_dataset,\n",
    "        labels                  = 'inferred',\n",
    "        label_mode              = 'categorical',\n",
    "        color_mode              = 'rgb',\n",
    "        batch_size              = batch_size,\n",
    "        image_size              = (\n",
    "            vision_height, \n",
    "            vision_width\n",
    "        ),\n",
    "        shuffle                 = True,\n",
    "        crop_to_aspect_ratio    = True,\n",
    "        subset                  = 'validation',\n",
    "        validation_split        = 0.25,\n",
    "        seed                    = generate_random_int16_number()\n",
    "    )"
   ]
  },
  {
   "cell_type": "code",
   "execution_count": null,
   "id": "181fce7bd4225c7",
   "metadata": {
    "ExecuteTime": {
     "end_time": "2024-01-23T20:14:15.985313500Z",
     "start_time": "2024-01-23T20:14:15.981660800Z"
    },
    "collapsed": false
   },
   "outputs": [],
   "source": [
    "number_of_epochs: int = 10"
   ]
  },
  {
   "cell_type": "code",
   "execution_count": null,
   "id": "d260b8439fc7d23d",
   "metadata": {
    "ExecuteTime": {
     "end_time": "2024-01-23T20:33:56.827100Z",
     "start_time": "2024-01-23T20:33:56.816788700Z"
    },
    "collapsed": false
   },
   "outputs": [],
   "source": [
    "def train():\n",
    "    global callbacks, number_of_epochs\n",
    "    \n",
    "    training_dataset = generate_training_dataset()\n",
    "    validation_dataset = generate_validation_dataset()\n",
    "\n",
    "    history = model.fit(\n",
    "        training_dataset.prefetch(\n",
    "            buffer_size = buffer_size\n",
    "        ), \n",
    "        epochs              = number_of_epochs, \n",
    "        validation_data     = validation_dataset.prefetch(\n",
    "                                buffer_size = buffer_size\n",
    "                              ),\n",
    "        workers             = 12,\n",
    "        callbacks           = callbacks,\n",
    "        verbose             = 2\n",
    "    )"
   ]
  },
  {
   "cell_type": "code",
   "execution_count": null,
   "id": "4911d8915d686eab",
   "metadata": {
    "ExecuteTime": {
     "end_time": "2024-01-23T23:18:33.886325700Z",
     "start_time": "2024-01-23T20:34:00.090292400Z"
    },
    "collapsed": false
   },
   "outputs": [],
   "source": [
    "for idx in range(\n",
    "    number_of_training_iterations\n",
    "):\n",
    "    train()\n",
    "\n",
    "model.save(\n",
    "    location_to_saved_model,\n",
    "    overwrite = True\n",
    ")"
   ]
  }
 ],
 "metadata": {
  "kernelspec": {
   "display_name": "Python 3 (ipykernel)",
   "language": "python",
   "name": "python3"
  },
  "language_info": {
   "codemirror_mode": {
    "name": "ipython",
    "version": 3
   },
   "file_extension": ".py",
   "mimetype": "text/x-python",
   "name": "python",
   "nbconvert_exporter": "python",
   "pygments_lexer": "ipython3",
   "version": "3.10.12"
  }
 },
 "nbformat": 4,
 "nbformat_minor": 5
}
