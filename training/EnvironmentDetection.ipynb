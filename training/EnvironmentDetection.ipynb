{
 "cells": [
  {
   "cell_type": "code",
   "execution_count": null,
   "id": "de2c80d7927ae084",
   "metadata": {
    "ExecuteTime": {
     "end_time": "2024-01-18T19:23:10.813788100Z",
     "start_time": "2024-01-18T19:23:07.181116200Z"
    },
    "collapsed": false
   },
   "outputs": [],
   "source": [
    "%pip install ipympl -q\n",
    "%pip install numpy -q\n",
    "%pip install wheel\n",
    "\n",
    "%pip install keras -q\n",
    "%pip install keras-cv -q\n",
    "\n",
    "%pip install matplotlib -q"
   ]
  },
  {
   "cell_type": "code",
   "execution_count": null,
   "id": "bc7a0b0e",
   "metadata": {},
   "outputs": [],
   "source": [
    "location_to_saved_model: str = '/home/spectre/environment_model.keras'"
   ]
  },
  {
   "cell_type": "code",
   "execution_count": null,
   "id": "f54f7a7880613789",
   "metadata": {
    "ExecuteTime": {
     "end_time": "2024-01-18T23:26:24.852713400Z",
     "start_time": "2024-01-18T23:26:24.849880Z"
    },
    "collapsed": false
   },
   "outputs": [],
   "source": [
    "import tensorflow\n",
    "\n",
    "gpus = tensorflow.config.list_physical_devices(\n",
    "    'GPU'\n",
    ")"
   ]
  },
  {
   "cell_type": "code",
   "execution_count": null,
   "id": "78efad1525675374",
   "metadata": {
    "ExecuteTime": {
     "end_time": "2024-01-18T23:26:27.831657900Z",
     "start_time": "2024-01-18T23:26:27.828422700Z"
    },
    "collapsed": false
   },
   "outputs": [],
   "source": [
    "nvidia_maximum_limit_for_gpu_memory: int = 5950\n",
    "\n",
    "if gpus:\n",
    "    try:\n",
    "        for gpu in gpus:\n",
    "            tensorflow.config.set_logical_device_configuration(\n",
    "                gpu, \n",
    "                [\n",
    "                    tensorflow.config.LogicalDeviceConfiguration(\n",
    "                        memory_limit=nvidia_maximum_limit_for_gpu_memory\n",
    "                    )\n",
    "                ]\n",
    "            )\n",
    "    except RuntimeError as e:\n",
    "        print(e)\n",
    "\n",
    "location_to_dataset: str = '/tmp/dataset'\n",
    "name_of_location: str = 'LocationDataset'"
   ]
  },
  {
   "cell_type": "code",
   "execution_count": null,
   "id": "310e84fc8812f558",
   "metadata": {
    "ExecuteTime": {
     "end_time": "2024-01-18T20:16:45.666949Z",
     "start_time": "2024-01-18T20:16:45.660408900Z"
    },
    "collapsed": false
   },
   "outputs": [],
   "source": [
    "from os.path import isdir\n",
    "from shutil import rmtree\n",
    "\n",
    "if isdir(\n",
    "    location_to_dataset\n",
    "):  \n",
    "    rmtree(\n",
    "        location_to_dataset\n",
    "    )"
   ]
  },
  {
   "cell_type": "code",
   "execution_count": null,
   "id": "ca6d21dd0abba9c6",
   "metadata": {
    "ExecuteTime": {
     "end_time": "2024-01-18T18:41:59.572684800Z",
     "start_time": "2024-01-18T18:41:59.569069700Z"
    },
    "collapsed": false
   },
   "outputs": [],
   "source": [
    "if isdir(\n",
    "    name_of_location\n",
    "):\n",
    "    rmtree(\n",
    "        name_of_location\n",
    "    )"
   ]
  },
  {
   "cell_type": "code",
   "execution_count": null,
   "id": "3158f2350e9373ef",
   "metadata": {
    "ExecuteTime": {
     "end_time": "2024-01-18T18:52:31.667383100Z",
     "start_time": "2024-01-18T18:42:02.376699800Z"
    },
    "collapsed": false
   },
   "outputs": [],
   "source": [
    "!git clone https://github.com/TargetSpectre/Location-Identification-DataSet.git {name_of_location} -q\n",
    "\n",
    "!mv ./{name_of_location}/DataSet {location_to_dataset}\n",
    "!ls {location_to_dataset}"
   ]
  },
  {
   "cell_type": "markdown",
   "id": "ed941738",
   "metadata": {},
   "source": [
    "# "
   ]
  },
  {
   "cell_type": "code",
   "execution_count": null,
   "id": "8b0d20fc90b41c40",
   "metadata": {
    "ExecuteTime": {
     "end_time": "2024-01-18T23:26:31.712266700Z",
     "start_time": "2024-01-18T23:26:31.710111200Z"
    },
    "collapsed": false
   },
   "outputs": [],
   "source": [
    "from os import listdir\n",
    "from os.path import join\n",
    "\n",
    "labels: list = list()\n",
    "found_dirs = listdir(\n",
    "    location_to_dataset\n",
    ")\n",
    "\n",
    "for idx in range(\n",
    "    len(\n",
    "        found_dirs\n",
    "    )\n",
    "):\n",
    "    selected = found_dirs[idx]\n",
    "    labels.append(\n",
    "        selected\n",
    "    )\n",
    "\n",
    "    found_dirs[idx] = join(\n",
    "        location_to_dataset, \n",
    "        selected\n",
    "    )\n",
    "\n",
    "labels.sort()\n",
    "\n",
    "print(\n",
    "    labels\n",
    ")"
   ]
  },
  {
   "cell_type": "code",
   "execution_count": null,
   "id": "8106168a00a72e9f",
   "metadata": {
    "ExecuteTime": {
     "end_time": "2024-01-18T23:26:33.294738500Z",
     "start_time": "2024-01-18T23:26:33.288122Z"
    },
    "collapsed": false
   },
   "outputs": [],
   "source": [
    "from random import SystemRandom\n",
    "from keras.utils import image_dataset_from_directory"
   ]
  },
  {
   "cell_type": "code",
   "execution_count": null,
   "id": "bb75f414c9431633",
   "metadata": {
    "ExecuteTime": {
     "end_time": "2024-01-18T23:26:37.069396800Z",
     "start_time": "2024-01-18T23:26:35.291093100Z"
    },
    "collapsed": false
   },
   "outputs": [],
   "source": [
    "batch_size: int = 2\n",
    "\n",
    "vision_width: int = 960\n",
    "vision_height: int = 540\n",
    "\n",
    "maximum_value: int = 65535\n",
    "\n",
    "training_dataset = image_dataset_from_directory(\n",
    "    location_to_dataset,\n",
    "    labels                  = 'inferred',\n",
    "    label_mode              = 'categorical',\n",
    "    color_mode              = 'rgb',\n",
    "    batch_size              = batch_size,\n",
    "    image_size              = (\n",
    "        vision_height, \n",
    "        vision_width\n",
    "    ),\n",
    "    shuffle                 = True,\n",
    "    crop_to_aspect_ratio    = True,\n",
    "    subset                  = 'training',\n",
    "    validation_split        = 0.25,\n",
    "    seed                    = SystemRandom().randint(\n",
    "        1, \n",
    "        maximum_value\n",
    "    )\n",
    ")\n",
    "\n",
    "validation_dataset = image_dataset_from_directory(\n",
    "    location_to_dataset,\n",
    "    labels                  = 'inferred',\n",
    "    label_mode              = 'categorical',\n",
    "    color_mode              = 'rgb',\n",
    "    batch_size              = batch_size,\n",
    "    image_size              = (\n",
    "        vision_height, \n",
    "        vision_width\n",
    "    ),\n",
    "    shuffle                 = True,\n",
    "    crop_to_aspect_ratio    = True,\n",
    "    subset                  = 'validation',\n",
    "    validation_split        = 0.25,\n",
    "    seed                    = SystemRandom().randint(\n",
    "        1, \n",
    "        maximum_value\n",
    "    )\n",
    ")"
   ]
  },
  {
   "cell_type": "code",
   "execution_count": null,
   "id": "22c3fadb35bf6cec",
   "metadata": {
    "ExecuteTime": {
     "end_time": "2024-01-18T23:26:40.677149700Z",
     "start_time": "2024-01-18T23:26:40.670730900Z"
    },
    "collapsed": false
   },
   "outputs": [],
   "source": [
    "from keras import layers\n",
    "from keras.models import Model"
   ]
  },
  {
   "cell_type": "code",
   "execution_count": null,
   "id": "7790bd5030f226ca",
   "metadata": {
    "ExecuteTime": {
     "end_time": "2024-01-18T23:26:42.175036400Z",
     "start_time": "2024-01-18T23:26:42.152260700Z"
    },
    "collapsed": false
   },
   "outputs": [],
   "source": [
    "input_layer = layers.Input(\n",
    "    shape=(\n",
    "        vision_height, \n",
    "        vision_width, \n",
    "        3\n",
    "    )\n",
    ")\n",
    "\n",
    "initial_filter_layer_size: int = 4\n",
    "\n",
    "middle_layers = layers.Conv2D(\n",
    "    initial_filter_layer_size, \n",
    "    kernel_size = (\n",
    "        2, \n",
    "        2\n",
    "    ), \n",
    "    activation  = 'relu', \n",
    "    padding     = 'same'\n",
    ")(input_layer)\n",
    "\n",
    "middle_layers = layers.Conv2D(\n",
    "    initial_filter_layer_size, \n",
    "    kernel_size = (\n",
    "        2, \n",
    "        2\n",
    "    ), \n",
    "    activation  = 'relu', \n",
    "    padding     = 'same'\n",
    ")(middle_layers)\n",
    "\n",
    "middle_layers = layers.Conv2D(\n",
    "    initial_filter_layer_size, \n",
    "    kernel_size = (\n",
    "        2, \n",
    "        2\n",
    "    ), \n",
    "    activation  = 'relu', \n",
    "    padding     = 'same'\n",
    ")(middle_layers)\n",
    "\n",
    "middle_layers = layers.Conv2D(\n",
    "    initial_filter_layer_size, \n",
    "    kernel_size = (\n",
    "        2, \n",
    "        2\n",
    "    ), \n",
    "    activation  = 'relu', \n",
    "    padding     = 'same'\n",
    ")(middle_layers)\n",
    "\n",
    "middle_layers = layers.BatchNormalization()(\n",
    "    middle_layers\n",
    ")\n",
    "\n",
    "middle_layers = layers.MaxPooling2D(\n",
    "    pool_size   = 2, \n",
    "    strides     = 2, \n",
    "    padding     = 'same'\n",
    ")(middle_layers)"
   ]
  },
  {
   "cell_type": "code",
   "execution_count": null,
   "id": "86e20ccdcbb64cd3",
   "metadata": {
    "ExecuteTime": {
     "end_time": "2024-01-18T23:26:44.091644100Z",
     "start_time": "2024-01-18T23:26:44.035548700Z"
    },
    "collapsed": false
   },
   "outputs": [],
   "source": [
    "first_filter_layer_size: int = 8\n",
    "\n",
    "middle_layers = layers.Conv2D(\n",
    "    first_filter_layer_size, \n",
    "    kernel_size = (\n",
    "        2, \n",
    "        2\n",
    "    ), \n",
    "    activation  = 'relu', \n",
    "    padding     = 'same'\n",
    ")(middle_layers)\n",
    "\n",
    "middle_layers = layers.Conv2D(\n",
    "    first_filter_layer_size, \n",
    "    kernel_size = (\n",
    "        2, \n",
    "        2\n",
    "    ), \n",
    "    activation  = 'relu', \n",
    "    padding     = 'same'\n",
    ")(middle_layers)\n",
    "\n",
    "middle_layers = layers.Conv2D(\n",
    "    first_filter_layer_size, \n",
    "    kernel_size = (\n",
    "        2, \n",
    "        2\n",
    "    ), \n",
    "    activation  = 'relu', \n",
    "    padding     = 'same'\n",
    ")(middle_layers)\n",
    "\n",
    "middle_layers = layers.Conv2D(\n",
    "    first_filter_layer_size, \n",
    "    kernel_size = (\n",
    "        2, \n",
    "        2\n",
    "    ), \n",
    "    activation  = 'relu', \n",
    "    padding     = 'same'\n",
    ")(middle_layers)\n",
    "\n",
    "middle_layers = layers.BatchNormalization()(\n",
    "    middle_layers\n",
    ")\n",
    "\n",
    "middle_layers = layers.MaxPooling2D(\n",
    "    pool_size   = 2, \n",
    "    strides     = 2, \n",
    "    padding     = 'same'\n",
    ")(middle_layers)\n"
   ]
  },
  {
   "cell_type": "code",
   "execution_count": null,
   "id": "29f37113d29873f8",
   "metadata": {
    "ExecuteTime": {
     "end_time": "2024-01-18T23:26:45.966216500Z",
     "start_time": "2024-01-18T23:26:45.914792600Z"
    },
    "collapsed": false
   },
   "outputs": [],
   "source": [
    "second_filter_layer_size: int = 16\n",
    "\n",
    "middle_layers = layers.Conv2D(\n",
    "    second_filter_layer_size, \n",
    "    kernel_size=(2, 2), \n",
    "    activation='relu', \n",
    "    padding='same'\n",
    ")(middle_layers)\n",
    "\n",
    "middle_layers = layers.Conv2D(\n",
    "    second_filter_layer_size, \n",
    "    kernel_size=(2, 2), \n",
    "    activation='relu', \n",
    "    padding='same'\n",
    ")(middle_layers)\n",
    "\n",
    "middle_layers = layers.Conv2D(\n",
    "    second_filter_layer_size, \n",
    "    kernel_size=(2, 2), \n",
    "    activation='relu', \n",
    "    padding='same'\n",
    ")(middle_layers)\n",
    "\n",
    "middle_layers = layers.Conv2D(\n",
    "    second_filter_layer_size, \n",
    "    kernel_size=(2, 2), \n",
    "    activation='relu', \n",
    "    padding='same'\n",
    ")(middle_layers)\n",
    "\n",
    "middle_layers = layers.BatchNormalization()(\n",
    "    middle_layers\n",
    ")\n",
    "\n",
    "middle_layers = layers.MaxPooling2D(\n",
    "    pool_size=2, \n",
    "    strides=2, \n",
    "    padding='same'\n",
    ")(middle_layers)"
   ]
  },
  {
   "cell_type": "code",
   "execution_count": null,
   "id": "57d6f2032cfd1d02",
   "metadata": {
    "ExecuteTime": {
     "end_time": "2024-01-18T23:26:48.307555800Z",
     "start_time": "2024-01-18T23:26:48.258065400Z"
    },
    "collapsed": false
   },
   "outputs": [],
   "source": [
    "third_filter_layer_size: int = 32\n",
    "\n",
    "middle_layers = layers.Conv2D(\n",
    "    third_filter_layer_size, \n",
    "    kernel_size=(2, 2), \n",
    "    activation='relu', \n",
    "    padding='same'\n",
    ")(middle_layers)\n",
    "\n",
    "middle_layers = layers.Conv2D(\n",
    "    third_filter_layer_size, \n",
    "    kernel_size=(2, 2), \n",
    "    activation='relu', \n",
    "    padding='same'\n",
    ")(middle_layers)\n",
    "\n",
    "middle_layers = layers.Conv2D(\n",
    "    third_filter_layer_size, \n",
    "    kernel_size=(2, 2), \n",
    "    activation='relu', \n",
    "    padding='same'\n",
    ")(middle_layers)\n",
    "\n",
    "middle_layers = layers.Conv2D(\n",
    "    third_filter_layer_size, \n",
    "    kernel_size=(2, 2), \n",
    "    activation='relu', \n",
    "    padding='same'\n",
    ")(middle_layers)\n",
    "\n",
    "middle_layers = layers.BatchNormalization()(\n",
    "    middle_layers\n",
    ")\n",
    "\n",
    "middle_layers = layers.MaxPooling2D(\n",
    "    pool_size=2, \n",
    "    strides=2, \n",
    "    padding='same'\n",
    ")(middle_layers)"
   ]
  },
  {
   "cell_type": "code",
   "execution_count": null,
   "id": "8d9d63cdbfc842e8",
   "metadata": {
    "ExecuteTime": {
     "end_time": "2024-01-18T23:26:50.450477500Z",
     "start_time": "2024-01-18T23:26:50.416539800Z"
    },
    "collapsed": false
   },
   "outputs": [],
   "source": [
    "four_filter_layer_size: int = 64\n",
    "\n",
    "middle_layers = layers.Conv2D(\n",
    "    four_filter_layer_size, \n",
    "    kernel_size=(2, 2), \n",
    "    activation='relu', \n",
    "    padding='same'\n",
    ")(middle_layers)\n",
    "\n",
    "middle_layers = layers.Conv2D(\n",
    "    four_filter_layer_size, \n",
    "    kernel_size=(2, 2), \n",
    "    activation='relu', \n",
    "    padding='same'\n",
    ")(middle_layers)\n",
    "\n",
    "middle_layers = layers.Conv2D(\n",
    "    four_filter_layer_size, \n",
    "    kernel_size=(2, 2), \n",
    "    activation='relu', \n",
    "    padding='same'\n",
    ")(middle_layers)\n",
    "\n",
    "middle_layers = layers.Conv2D(\n",
    "    four_filter_layer_size, \n",
    "    kernel_size=(2, 2), \n",
    "    activation='relu', \n",
    "    padding='same'\n",
    ")(middle_layers)\n",
    "\n",
    "middle_layers = layers.BatchNormalization()(\n",
    "    middle_layers\n",
    ")\n",
    "\n",
    "middle_layers = layers.MaxPooling2D(\n",
    "    pool_size=2, \n",
    "    strides=2, \n",
    "    padding='same'\n",
    ")(middle_layers)\n"
   ]
  },
  {
   "cell_type": "code",
   "execution_count": null,
   "id": "1dd3f9f0",
   "metadata": {},
   "outputs": [],
   "source": [
    "fifth_filter_layer_size: int = 96\n",
    "\n",
    "middle_layers = layers.Conv2D(\n",
    "    fifth_filter_layer_size, \n",
    "    kernel_size=(2, 2), \n",
    "    activation='relu', \n",
    "    padding='same'\n",
    ")(middle_layers)\n",
    "\n",
    "middle_layers = layers.Conv2D(\n",
    "    fifth_filter_layer_size, \n",
    "    kernel_size=(2, 2), \n",
    "    activation='relu', \n",
    "    padding='same'\n",
    ")(middle_layers)\n",
    "\n",
    "middle_layers = layers.BatchNormalization()(\n",
    "    middle_layers\n",
    ")\n",
    "\n",
    "middle_layers = layers.MaxPooling2D(\n",
    "    pool_size=2, \n",
    "    strides=2, \n",
    "    padding='same'\n",
    ")(middle_layers)"
   ]
  },
  {
   "cell_type": "code",
   "execution_count": null,
   "id": "91ba82b0",
   "metadata": {},
   "outputs": [],
   "source": [
    "middle_layers = layers.Flatten()(\n",
    "    middle_layers\n",
    ")"
   ]
  },
  {
   "cell_type": "code",
   "execution_count": null,
   "id": "12b6af94b9ec4b04",
   "metadata": {
    "ExecuteTime": {
     "end_time": "2024-01-18T23:26:52.707633400Z",
     "start_time": "2024-01-18T23:26:52.659648700Z"
    },
    "collapsed": false
   },
   "outputs": [],
   "source": [
    "maximum_number_of_categories: int = len(labels)\n",
    "\n",
    "output_layer = layers.Dense(\n",
    "    128, \n",
    "    activation='relu'\n",
    ")(\n",
    "    middle_layers\n",
    ")\n",
    "\n",
    "output_layer = layers.Dense(\n",
    "    maximum_number_of_categories\n",
    ")(\n",
    "    output_layer\n",
    ")\n"
   ]
  },
  {
   "cell_type": "code",
   "execution_count": null,
   "id": "a11b8b73",
   "metadata": {},
   "outputs": [],
   "source": [
    "model = Model(\n",
    "    inputs=input_layer, \n",
    "    outputs=output_layer, \n",
    "    name='location_identifier'\n",
    ")\n",
    "\n",
    "model.summary()"
   ]
  },
  {
   "cell_type": "code",
   "execution_count": null,
   "id": "4022b22c",
   "metadata": {},
   "outputs": [],
   "source": [
    "model.compile(\n",
    "    optimizer   = 'Adam',\n",
    "    loss        = 'categorical_crossentropy',\n",
    "    metrics     = ['accuracy']\n",
    ")"
   ]
  },
  {
   "cell_type": "code",
   "execution_count": null,
   "id": "ada6a993",
   "metadata": {},
   "outputs": [],
   "source": [
    "from keras.callbacks \\\n",
    "    import EarlyStopping\n",
    "\n",
    "callbacks: list = [\n",
    "    EarlyStopping(\n",
    "        monitor                 = 'accuracy',\n",
    "        min_delta               = 0,\n",
    "        patience                = 4,\n",
    "        mode                    = 'max',\n",
    "        restore_best_weights    = True,\n",
    "        start_from_epoch        = 3\n",
    "    )\n",
    "]\n"
   ]
  },
  {
   "cell_type": "code",
   "execution_count": null,
   "id": "d260b8439fc7d23d",
   "metadata": {
    "ExecuteTime": {
     "end_time": "2024-01-18T23:32:57.975385200Z",
     "start_time": "2024-01-18T23:26:54.353188200Z"
    },
    "collapsed": false
   },
   "outputs": [],
   "source": [
    "history = model.fit(\n",
    "    training_dataset, \n",
    "    epochs              = 10, \n",
    "    validation_data     = validation_dataset,\n",
    "    workers             = 12,\n",
    "    callbacks           = callbacks\n",
    ")"
   ]
  },
  {
   "cell_type": "code",
   "execution_count": null,
   "id": "e888bef8c6c24d56",
   "metadata": {
    "ExecuteTime": {
     "end_time": "2024-01-18T21:29:12.598760100Z",
     "start_time": "2024-01-18T21:29:11.527081600Z"
    },
    "collapsed": false
   },
   "outputs": [],
   "source": [
    "model.save(\n",
    "    location_to_saved_model,\n",
    "    overwrite = True\n",
    ")"
   ]
  }
 ],
 "metadata": {
  "kernelspec": {
   "display_name": "Python 3 (ipykernel)",
   "language": "python",
   "name": "python3"
  }
 },
 "nbformat": 4,
 "nbformat_minor": 5
}
