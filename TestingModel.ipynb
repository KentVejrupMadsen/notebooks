{
 "cells": [
  {
   "cell_type": "code",
   "execution_count": null,
   "id": "6b73be157f2c2384",
   "metadata": {
    "ExecuteTime": {
     "end_time": "2023-12-28T16:15:20.823574100Z",
     "start_time": "2023-12-28T16:15:16.113558800Z"
    },
    "collapsed": false
   },
   "outputs": [],
   "source": [
    "import keras\n",
    "import keras_cv\n",
    "\n",
    "from keras.saving \\\n",
    "  import load_model\n",
    "\n",
    "from keras.optimizers           \\\n",
    "  import                        \\\n",
    "  SGD\n",
    "\n",
    "%matplotlib ipympl"
   ]
  },
  {
   "cell_type": "code",
   "execution_count": null,
   "id": "df1176022f3de2f3",
   "metadata": {
    "ExecuteTime": {
     "end_time": "2023-12-28T16:15:50.783517200Z",
     "start_time": "2023-12-28T16:15:20.837045400Z"
    },
    "collapsed": false
   },
   "outputs": [],
   "source": [
    "model = load_model(\n",
    "    '/opt/mjoelner', \n",
    "    compile=False\n",
    ")\n",
    "\n",
    "optimizer = SGD(\n",
    "    learning_rate   = 0.02,\n",
    "    global_clipnorm = 10.0,\n",
    "    use_ema         = True\n",
    ")\n",
    "\n",
    "model.compile(\n",
    "    classification_loss = 'binary_crossentropy',\n",
    "    box_loss = 'ciou',\n",
    "    optimizer = optimizer\n",
    ")"
   ]
  },
  {
   "cell_type": "code",
   "execution_count": null,
   "id": "344f18eea49a93e7",
   "metadata": {
    "ExecuteTime": {
     "end_time": "2023-12-28T16:16:02.246236900Z",
     "start_time": "2023-12-28T16:15:51.488080500Z"
    },
    "collapsed": false
   },
   "outputs": [],
   "source": [
    "from os.path import join\n",
    "from os import listdir\n",
    "\n",
    "from tensorflow.keras.utils \\\n",
    "    import (load_img, img_to_array)\n",
    "\n",
    "from keras_cv import visualization\n",
    "from numpy import array\n",
    "\n",
    "\n",
    "prediction_location: str = '/opt/predict_on'\n",
    "\n",
    "prediction_files = listdir(\n",
    "    prediction_location\n",
    ")\n",
    "\n",
    "length_of_prediction_files = len(\n",
    "    prediction_files\n",
    ")\n",
    "\n",
    "for idx in range(length_of_prediction_files):\n",
    "    prediction_files[idx] = join(\n",
    "        prediction_location, \n",
    "        prediction_files[idx]\n",
    "    )\n",
    "\n",
    "batch: list = []\n",
    "\n",
    "for predict_on in prediction_files:\n",
    "    image = load_img(\n",
    "        predict_on,\n",
    "        target_size=(540, 960),\n",
    "        color_mode='rgb',\n",
    "        keep_aspect_ratio=True\n",
    "    )\n",
    "    \n",
    "    image = img_to_array(\n",
    "        image\n",
    "    )\n",
    "    \n",
    "    batch.append(\n",
    "        image\n",
    "    )\n",
    "    \n",
    "\n",
    "batch = array(batch)\n",
    "predictions = model.predict(\n",
    "    batch\n",
    ")"
   ]
  },
  {
   "cell_type": "code",
   "execution_count": null,
   "id": "41ad969a8a6d6ee4",
   "metadata": {
    "ExecuteTime": {
     "end_time": "2023-12-28T16:16:40.802407300Z",
     "start_time": "2023-12-28T16:16:40.560350800Z"
    },
    "collapsed": false
   },
   "outputs": [],
   "source": [
    "gallery = visualization.plot_bounding_box_gallery(\n",
    "    batch, \n",
    "    value_range=(0, 255), \n",
    "    bounding_box_format='xyxy',\n",
    "    y_pred=predictions,\n",
    "    scale=4,\n",
    "    rows=1,\n",
    "    cols=2,\n",
    "    show=False\n",
    ")"
   ]
  }
 ],
 "metadata": {
  "kernelspec": {
   "display_name": "Python 3 (ipykernel)",
   "language": "python",
   "name": "python3"
  }
 },
 "nbformat": 4,
 "nbformat_minor": 5
}
